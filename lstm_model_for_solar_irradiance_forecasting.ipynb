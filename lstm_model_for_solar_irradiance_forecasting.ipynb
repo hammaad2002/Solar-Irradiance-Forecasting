{
  "metadata": {
    "kernelspec": {
      "language": "python",
      "display_name": "Python 3",
      "name": "python3"
    },
    "language_info": {
      "name": "python",
      "version": "3.10.10",
      "mimetype": "text/x-python",
      "codemirror_mode": {
        "name": "ipython",
        "version": 3
      },
      "pygments_lexer": "ipython3",
      "nbconvert_exporter": "python",
      "file_extension": ".py"
    },
    "colab": {
      "provenance": [],
      "include_colab_link": true
    }
  },
  "nbformat_minor": 0,
  "nbformat": 4,
  "cells": [
    {
      "cell_type": "markdown",
      "metadata": {
        "id": "view-in-github",
        "colab_type": "text"
      },
      "source": [
        "<a href=\"https://colab.research.google.com/github/hammaad2002/Solar-Irradiance-Forecasting/blob/main/lstm_model_for_solar_irradiance_forecasting.ipynb\" target=\"_parent\"><img src=\"https://colab.research.google.com/assets/colab-badge.svg\" alt=\"Open In Colab\"/></a>"
      ]
    },
    {
      "cell_type": "code",
      "source": [
        "%%capture\n",
        "!git clone https://github.com/hammaad2002/Solar-Irradiance-Forecasting.git\n",
        "!pip install torchmetrics"
      ],
      "metadata": {
        "execution": {
          "iopub.status.busy": "2023-05-20T13:17:47.304909Z",
          "iopub.execute_input": "2023-05-20T13:17:47.305339Z",
          "iopub.status.idle": "2023-05-20T13:18:01.965968Z",
          "shell.execute_reply.started": "2023-05-20T13:17:47.305307Z",
          "shell.execute_reply": "2023-05-20T13:18:01.964606Z"
        },
        "trusted": true,
        "id": "l2nUj4rDeDsj"
      },
      "execution_count": null,
      "outputs": []
    },
    {
      "cell_type": "code",
      "source": [
        "import torch\n",
        "import torch.nn as nn\n",
        "import torch.optim as optim\n",
        "import pandas as pd\n",
        "import numpy as np\n",
        "from tqdm.notebook import tqdm\n",
        "from torchmetrics import MeanAbsoluteError, MeanAbsolutePercentageError\n",
        "import matplotlib.pyplot as plt\n",
        "import random\n",
        "from sklearn.preprocessing import MinMaxScaler\n",
        "import warnings\n",
        "\n",
        "warnings.filterwarnings('ignore')"
      ],
      "metadata": {
        "execution": {
          "iopub.status.busy": "2023-05-20T13:18:01.968552Z",
          "iopub.execute_input": "2023-05-20T13:18:01.968937Z",
          "iopub.status.idle": "2023-05-20T13:18:01.977644Z",
          "shell.execute_reply.started": "2023-05-20T13:18:01.968896Z",
          "shell.execute_reply": "2023-05-20T13:18:01.976777Z"
        },
        "trusted": true,
        "id": "LluM3CiYeDso"
      },
      "execution_count": null,
      "outputs": []
    },
    {
      "cell_type": "code",
      "source": [
        "# Assuming your DataFrame is named 'df'\n",
        "desired_starting_row = 3\n",
        "df = pd.read_csv('/kaggle/working/Solar-Irradiance-Forecasting/Solar Irradiance Dataset/2017Solar.csv', skiprows=desired_starting_row - 1)\n",
        "df"
      ],
      "metadata": {
        "execution": {
          "iopub.status.busy": "2023-05-20T13:18:01.979287Z",
          "iopub.execute_input": "2023-05-20T13:18:01.979963Z",
          "iopub.status.idle": "2023-05-20T13:18:02.066028Z",
          "shell.execute_reply.started": "2023-05-20T13:18:01.979930Z",
          "shell.execute_reply": "2023-05-20T13:18:02.064817Z"
        },
        "trusted": true,
        "id": "nSO9YUdHeDss",
        "outputId": "63905146-2af5-439f-8dde-642de40b9cd9"
      },
      "execution_count": null,
      "outputs": [
        {
          "execution_count": 31,
          "output_type": "execute_result",
          "data": {
            "text/plain": "       Year  Month  Day  Hour  Minute  GHI  Temperature  Dew Point  \\\n0      2017      1    1     0       0    0         10.6      -17.4   \n1      2017      1    1     0      15    0         10.5      -17.4   \n2      2017      1    1     0      30    0         10.4      -17.4   \n3      2017      1    1     0      45    0         10.2      -17.3   \n4      2017      1    1     1       0    0         10.1      -17.3   \n...     ...    ...  ...   ...     ...  ...          ...        ...   \n35035  2017     12   31    22      45    0         11.2      -17.4   \n35036  2017     12   31    23       0    0         11.1      -17.4   \n35037  2017     12   31    23      15    0         11.0      -17.4   \n35038  2017     12   31    23      30    0         10.9      -17.4   \n35039  2017     12   31    23      45    0         10.7      -17.4   \n\n       Relative Humidity  Pressure  Wind Direction  Wind Speed  \\\n0                  12.29       949             103         0.7   \n1                  12.37       949             107         0.7   \n2                  12.45       949             111         0.7   \n3                  12.74       949             115         0.7   \n4                  12.83       949             120         0.7   \n...                  ...       ...             ...         ...   \n35035              11.78       950              81         0.8   \n35036              11.86       950              85         0.8   \n35037              11.93       949              89         0.7   \n35038              12.01       949              94         0.7   \n35039              12.21       949              99         0.7   \n\n       Precipitable Water  \n0                     0.7  \n1                     0.7  \n2                     0.7  \n3                     0.7  \n4                     0.7  \n...                   ...  \n35035                 0.7  \n35036                 0.7  \n35037                 0.7  \n35038                 0.7  \n35039                 0.7  \n\n[35040 rows x 13 columns]",
            "text/html": "<div>\n<style scoped>\n    .dataframe tbody tr th:only-of-type {\n        vertical-align: middle;\n    }\n\n    .dataframe tbody tr th {\n        vertical-align: top;\n    }\n\n    .dataframe thead th {\n        text-align: right;\n    }\n</style>\n<table border=\"1\" class=\"dataframe\">\n  <thead>\n    <tr style=\"text-align: right;\">\n      <th></th>\n      <th>Year</th>\n      <th>Month</th>\n      <th>Day</th>\n      <th>Hour</th>\n      <th>Minute</th>\n      <th>GHI</th>\n      <th>Temperature</th>\n      <th>Dew Point</th>\n      <th>Relative Humidity</th>\n      <th>Pressure</th>\n      <th>Wind Direction</th>\n      <th>Wind Speed</th>\n      <th>Precipitable Water</th>\n    </tr>\n  </thead>\n  <tbody>\n    <tr>\n      <th>0</th>\n      <td>2017</td>\n      <td>1</td>\n      <td>1</td>\n      <td>0</td>\n      <td>0</td>\n      <td>0</td>\n      <td>10.6</td>\n      <td>-17.4</td>\n      <td>12.29</td>\n      <td>949</td>\n      <td>103</td>\n      <td>0.7</td>\n      <td>0.7</td>\n    </tr>\n    <tr>\n      <th>1</th>\n      <td>2017</td>\n      <td>1</td>\n      <td>1</td>\n      <td>0</td>\n      <td>15</td>\n      <td>0</td>\n      <td>10.5</td>\n      <td>-17.4</td>\n      <td>12.37</td>\n      <td>949</td>\n      <td>107</td>\n      <td>0.7</td>\n      <td>0.7</td>\n    </tr>\n    <tr>\n      <th>2</th>\n      <td>2017</td>\n      <td>1</td>\n      <td>1</td>\n      <td>0</td>\n      <td>30</td>\n      <td>0</td>\n      <td>10.4</td>\n      <td>-17.4</td>\n      <td>12.45</td>\n      <td>949</td>\n      <td>111</td>\n      <td>0.7</td>\n      <td>0.7</td>\n    </tr>\n    <tr>\n      <th>3</th>\n      <td>2017</td>\n      <td>1</td>\n      <td>1</td>\n      <td>0</td>\n      <td>45</td>\n      <td>0</td>\n      <td>10.2</td>\n      <td>-17.3</td>\n      <td>12.74</td>\n      <td>949</td>\n      <td>115</td>\n      <td>0.7</td>\n      <td>0.7</td>\n    </tr>\n    <tr>\n      <th>4</th>\n      <td>2017</td>\n      <td>1</td>\n      <td>1</td>\n      <td>1</td>\n      <td>0</td>\n      <td>0</td>\n      <td>10.1</td>\n      <td>-17.3</td>\n      <td>12.83</td>\n      <td>949</td>\n      <td>120</td>\n      <td>0.7</td>\n      <td>0.7</td>\n    </tr>\n    <tr>\n      <th>...</th>\n      <td>...</td>\n      <td>...</td>\n      <td>...</td>\n      <td>...</td>\n      <td>...</td>\n      <td>...</td>\n      <td>...</td>\n      <td>...</td>\n      <td>...</td>\n      <td>...</td>\n      <td>...</td>\n      <td>...</td>\n      <td>...</td>\n    </tr>\n    <tr>\n      <th>35035</th>\n      <td>2017</td>\n      <td>12</td>\n      <td>31</td>\n      <td>22</td>\n      <td>45</td>\n      <td>0</td>\n      <td>11.2</td>\n      <td>-17.4</td>\n      <td>11.78</td>\n      <td>950</td>\n      <td>81</td>\n      <td>0.8</td>\n      <td>0.7</td>\n    </tr>\n    <tr>\n      <th>35036</th>\n      <td>2017</td>\n      <td>12</td>\n      <td>31</td>\n      <td>23</td>\n      <td>0</td>\n      <td>0</td>\n      <td>11.1</td>\n      <td>-17.4</td>\n      <td>11.86</td>\n      <td>950</td>\n      <td>85</td>\n      <td>0.8</td>\n      <td>0.7</td>\n    </tr>\n    <tr>\n      <th>35037</th>\n      <td>2017</td>\n      <td>12</td>\n      <td>31</td>\n      <td>23</td>\n      <td>15</td>\n      <td>0</td>\n      <td>11.0</td>\n      <td>-17.4</td>\n      <td>11.93</td>\n      <td>949</td>\n      <td>89</td>\n      <td>0.7</td>\n      <td>0.7</td>\n    </tr>\n    <tr>\n      <th>35038</th>\n      <td>2017</td>\n      <td>12</td>\n      <td>31</td>\n      <td>23</td>\n      <td>30</td>\n      <td>0</td>\n      <td>10.9</td>\n      <td>-17.4</td>\n      <td>12.01</td>\n      <td>949</td>\n      <td>94</td>\n      <td>0.7</td>\n      <td>0.7</td>\n    </tr>\n    <tr>\n      <th>35039</th>\n      <td>2017</td>\n      <td>12</td>\n      <td>31</td>\n      <td>23</td>\n      <td>45</td>\n      <td>0</td>\n      <td>10.7</td>\n      <td>-17.4</td>\n      <td>12.21</td>\n      <td>949</td>\n      <td>99</td>\n      <td>0.7</td>\n      <td>0.7</td>\n    </tr>\n  </tbody>\n</table>\n<p>35040 rows × 13 columns</p>\n</div>"
          },
          "metadata": {}
        }
      ]
    },
    {
      "cell_type": "code",
      "source": [
        "workingDf = df.drop(['Year', 'Month', 'Day', 'Hour', 'Minute'], axis = 1)\n",
        "workingDf"
      ],
      "metadata": {
        "execution": {
          "iopub.status.busy": "2023-05-20T13:18:02.069298Z",
          "iopub.execute_input": "2023-05-20T13:18:02.069677Z",
          "iopub.status.idle": "2023-05-20T13:18:02.092660Z",
          "shell.execute_reply.started": "2023-05-20T13:18:02.069642Z",
          "shell.execute_reply": "2023-05-20T13:18:02.091702Z"
        },
        "trusted": true,
        "id": "Iv9X_u8LeDsv",
        "outputId": "93f2ce29-c842-42bd-bdaa-12e8e1bd0f85"
      },
      "execution_count": null,
      "outputs": [
        {
          "execution_count": 32,
          "output_type": "execute_result",
          "data": {
            "text/plain": "       GHI  Temperature  Dew Point  Relative Humidity  Pressure  \\\n0        0         10.6      -17.4              12.29       949   \n1        0         10.5      -17.4              12.37       949   \n2        0         10.4      -17.4              12.45       949   \n3        0         10.2      -17.3              12.74       949   \n4        0         10.1      -17.3              12.83       949   \n...    ...          ...        ...                ...       ...   \n35035    0         11.2      -17.4              11.78       950   \n35036    0         11.1      -17.4              11.86       950   \n35037    0         11.0      -17.4              11.93       949   \n35038    0         10.9      -17.4              12.01       949   \n35039    0         10.7      -17.4              12.21       949   \n\n       Wind Direction  Wind Speed  Precipitable Water  \n0                 103         0.7                 0.7  \n1                 107         0.7                 0.7  \n2                 111         0.7                 0.7  \n3                 115         0.7                 0.7  \n4                 120         0.7                 0.7  \n...               ...         ...                 ...  \n35035              81         0.8                 0.7  \n35036              85         0.8                 0.7  \n35037              89         0.7                 0.7  \n35038              94         0.7                 0.7  \n35039              99         0.7                 0.7  \n\n[35040 rows x 8 columns]",
            "text/html": "<div>\n<style scoped>\n    .dataframe tbody tr th:only-of-type {\n        vertical-align: middle;\n    }\n\n    .dataframe tbody tr th {\n        vertical-align: top;\n    }\n\n    .dataframe thead th {\n        text-align: right;\n    }\n</style>\n<table border=\"1\" class=\"dataframe\">\n  <thead>\n    <tr style=\"text-align: right;\">\n      <th></th>\n      <th>GHI</th>\n      <th>Temperature</th>\n      <th>Dew Point</th>\n      <th>Relative Humidity</th>\n      <th>Pressure</th>\n      <th>Wind Direction</th>\n      <th>Wind Speed</th>\n      <th>Precipitable Water</th>\n    </tr>\n  </thead>\n  <tbody>\n    <tr>\n      <th>0</th>\n      <td>0</td>\n      <td>10.6</td>\n      <td>-17.4</td>\n      <td>12.29</td>\n      <td>949</td>\n      <td>103</td>\n      <td>0.7</td>\n      <td>0.7</td>\n    </tr>\n    <tr>\n      <th>1</th>\n      <td>0</td>\n      <td>10.5</td>\n      <td>-17.4</td>\n      <td>12.37</td>\n      <td>949</td>\n      <td>107</td>\n      <td>0.7</td>\n      <td>0.7</td>\n    </tr>\n    <tr>\n      <th>2</th>\n      <td>0</td>\n      <td>10.4</td>\n      <td>-17.4</td>\n      <td>12.45</td>\n      <td>949</td>\n      <td>111</td>\n      <td>0.7</td>\n      <td>0.7</td>\n    </tr>\n    <tr>\n      <th>3</th>\n      <td>0</td>\n      <td>10.2</td>\n      <td>-17.3</td>\n      <td>12.74</td>\n      <td>949</td>\n      <td>115</td>\n      <td>0.7</td>\n      <td>0.7</td>\n    </tr>\n    <tr>\n      <th>4</th>\n      <td>0</td>\n      <td>10.1</td>\n      <td>-17.3</td>\n      <td>12.83</td>\n      <td>949</td>\n      <td>120</td>\n      <td>0.7</td>\n      <td>0.7</td>\n    </tr>\n    <tr>\n      <th>...</th>\n      <td>...</td>\n      <td>...</td>\n      <td>...</td>\n      <td>...</td>\n      <td>...</td>\n      <td>...</td>\n      <td>...</td>\n      <td>...</td>\n    </tr>\n    <tr>\n      <th>35035</th>\n      <td>0</td>\n      <td>11.2</td>\n      <td>-17.4</td>\n      <td>11.78</td>\n      <td>950</td>\n      <td>81</td>\n      <td>0.8</td>\n      <td>0.7</td>\n    </tr>\n    <tr>\n      <th>35036</th>\n      <td>0</td>\n      <td>11.1</td>\n      <td>-17.4</td>\n      <td>11.86</td>\n      <td>950</td>\n      <td>85</td>\n      <td>0.8</td>\n      <td>0.7</td>\n    </tr>\n    <tr>\n      <th>35037</th>\n      <td>0</td>\n      <td>11.0</td>\n      <td>-17.4</td>\n      <td>11.93</td>\n      <td>949</td>\n      <td>89</td>\n      <td>0.7</td>\n      <td>0.7</td>\n    </tr>\n    <tr>\n      <th>35038</th>\n      <td>0</td>\n      <td>10.9</td>\n      <td>-17.4</td>\n      <td>12.01</td>\n      <td>949</td>\n      <td>94</td>\n      <td>0.7</td>\n      <td>0.7</td>\n    </tr>\n    <tr>\n      <th>35039</th>\n      <td>0</td>\n      <td>10.7</td>\n      <td>-17.4</td>\n      <td>12.21</td>\n      <td>949</td>\n      <td>99</td>\n      <td>0.7</td>\n      <td>0.7</td>\n    </tr>\n  </tbody>\n</table>\n<p>35040 rows × 8 columns</p>\n</div>"
          },
          "metadata": {}
        }
      ]
    },
    {
      "cell_type": "code",
      "source": [
        "columns = workingDf.columns.tolist()\n",
        "columns[0], columns[-1] = columns[-1], columns[0]\n",
        "workingDf = workingDf[columns]\n",
        "workingDf"
      ],
      "metadata": {
        "execution": {
          "iopub.status.busy": "2023-05-20T13:18:02.094177Z",
          "iopub.execute_input": "2023-05-20T13:18:02.095128Z",
          "iopub.status.idle": "2023-05-20T13:18:02.118846Z",
          "shell.execute_reply.started": "2023-05-20T13:18:02.095090Z",
          "shell.execute_reply": "2023-05-20T13:18:02.117885Z"
        },
        "trusted": true,
        "id": "8ypNFhyheDsz",
        "outputId": "c10796f3-db8a-4bd5-e119-b374acb14ff3"
      },
      "execution_count": null,
      "outputs": [
        {
          "execution_count": 33,
          "output_type": "execute_result",
          "data": {
            "text/plain": "       Precipitable Water  Temperature  Dew Point  Relative Humidity  \\\n0                     0.7         10.6      -17.4              12.29   \n1                     0.7         10.5      -17.4              12.37   \n2                     0.7         10.4      -17.4              12.45   \n3                     0.7         10.2      -17.3              12.74   \n4                     0.7         10.1      -17.3              12.83   \n...                   ...          ...        ...                ...   \n35035                 0.7         11.2      -17.4              11.78   \n35036                 0.7         11.1      -17.4              11.86   \n35037                 0.7         11.0      -17.4              11.93   \n35038                 0.7         10.9      -17.4              12.01   \n35039                 0.7         10.7      -17.4              12.21   \n\n       Pressure  Wind Direction  Wind Speed  GHI  \n0           949             103         0.7    0  \n1           949             107         0.7    0  \n2           949             111         0.7    0  \n3           949             115         0.7    0  \n4           949             120         0.7    0  \n...         ...             ...         ...  ...  \n35035       950              81         0.8    0  \n35036       950              85         0.8    0  \n35037       949              89         0.7    0  \n35038       949              94         0.7    0  \n35039       949              99         0.7    0  \n\n[35040 rows x 8 columns]",
            "text/html": "<div>\n<style scoped>\n    .dataframe tbody tr th:only-of-type {\n        vertical-align: middle;\n    }\n\n    .dataframe tbody tr th {\n        vertical-align: top;\n    }\n\n    .dataframe thead th {\n        text-align: right;\n    }\n</style>\n<table border=\"1\" class=\"dataframe\">\n  <thead>\n    <tr style=\"text-align: right;\">\n      <th></th>\n      <th>Precipitable Water</th>\n      <th>Temperature</th>\n      <th>Dew Point</th>\n      <th>Relative Humidity</th>\n      <th>Pressure</th>\n      <th>Wind Direction</th>\n      <th>Wind Speed</th>\n      <th>GHI</th>\n    </tr>\n  </thead>\n  <tbody>\n    <tr>\n      <th>0</th>\n      <td>0.7</td>\n      <td>10.6</td>\n      <td>-17.4</td>\n      <td>12.29</td>\n      <td>949</td>\n      <td>103</td>\n      <td>0.7</td>\n      <td>0</td>\n    </tr>\n    <tr>\n      <th>1</th>\n      <td>0.7</td>\n      <td>10.5</td>\n      <td>-17.4</td>\n      <td>12.37</td>\n      <td>949</td>\n      <td>107</td>\n      <td>0.7</td>\n      <td>0</td>\n    </tr>\n    <tr>\n      <th>2</th>\n      <td>0.7</td>\n      <td>10.4</td>\n      <td>-17.4</td>\n      <td>12.45</td>\n      <td>949</td>\n      <td>111</td>\n      <td>0.7</td>\n      <td>0</td>\n    </tr>\n    <tr>\n      <th>3</th>\n      <td>0.7</td>\n      <td>10.2</td>\n      <td>-17.3</td>\n      <td>12.74</td>\n      <td>949</td>\n      <td>115</td>\n      <td>0.7</td>\n      <td>0</td>\n    </tr>\n    <tr>\n      <th>4</th>\n      <td>0.7</td>\n      <td>10.1</td>\n      <td>-17.3</td>\n      <td>12.83</td>\n      <td>949</td>\n      <td>120</td>\n      <td>0.7</td>\n      <td>0</td>\n    </tr>\n    <tr>\n      <th>...</th>\n      <td>...</td>\n      <td>...</td>\n      <td>...</td>\n      <td>...</td>\n      <td>...</td>\n      <td>...</td>\n      <td>...</td>\n      <td>...</td>\n    </tr>\n    <tr>\n      <th>35035</th>\n      <td>0.7</td>\n      <td>11.2</td>\n      <td>-17.4</td>\n      <td>11.78</td>\n      <td>950</td>\n      <td>81</td>\n      <td>0.8</td>\n      <td>0</td>\n    </tr>\n    <tr>\n      <th>35036</th>\n      <td>0.7</td>\n      <td>11.1</td>\n      <td>-17.4</td>\n      <td>11.86</td>\n      <td>950</td>\n      <td>85</td>\n      <td>0.8</td>\n      <td>0</td>\n    </tr>\n    <tr>\n      <th>35037</th>\n      <td>0.7</td>\n      <td>11.0</td>\n      <td>-17.4</td>\n      <td>11.93</td>\n      <td>949</td>\n      <td>89</td>\n      <td>0.7</td>\n      <td>0</td>\n    </tr>\n    <tr>\n      <th>35038</th>\n      <td>0.7</td>\n      <td>10.9</td>\n      <td>-17.4</td>\n      <td>12.01</td>\n      <td>949</td>\n      <td>94</td>\n      <td>0.7</td>\n      <td>0</td>\n    </tr>\n    <tr>\n      <th>35039</th>\n      <td>0.7</td>\n      <td>10.7</td>\n      <td>-17.4</td>\n      <td>12.21</td>\n      <td>949</td>\n      <td>99</td>\n      <td>0.7</td>\n      <td>0</td>\n    </tr>\n  </tbody>\n</table>\n<p>35040 rows × 8 columns</p>\n</div>"
          },
          "metadata": {}
        }
      ]
    },
    {
      "cell_type": "code",
      "source": [
        "target = workingDf['GHI']\n",
        "target.plot()\n",
        "plt.show()"
      ],
      "metadata": {
        "execution": {
          "iopub.status.busy": "2023-05-20T13:18:02.120317Z",
          "iopub.execute_input": "2023-05-20T13:18:02.120743Z",
          "iopub.status.idle": "2023-05-20T13:18:02.365122Z",
          "shell.execute_reply.started": "2023-05-20T13:18:02.120700Z",
          "shell.execute_reply": "2023-05-20T13:18:02.364162Z"
        },
        "trusted": true,
        "id": "_rbETYcleDs1",
        "outputId": "e456585d-47ee-4d23-bcb5-14d6ae765994"
      },
      "execution_count": null,
      "outputs": [
        {
          "output_type": "display_data",
          "data": {
            "text/plain": "<Figure size 640x480 with 1 Axes>",
            "image/png": "[encoded data removed]"
          },
          "metadata": {}
        }
      ]
    },
    {
      "cell_type": "code",
      "source": [
        "random_day = random.randint(1, 365)\n",
        "random_day"
      ],
      "metadata": {
        "execution": {
          "iopub.status.busy": "2023-05-20T13:18:02.366656Z",
          "iopub.execute_input": "2023-05-20T13:18:02.367270Z",
          "iopub.status.idle": "2023-05-20T13:18:02.373293Z",
          "shell.execute_reply.started": "2023-05-20T13:18:02.367233Z",
          "shell.execute_reply": "2023-05-20T13:18:02.372425Z"
        },
        "trusted": true,
        "id": "xqjj7dZPeDs4",
        "outputId": "ab728d8e-95a3-4fb9-c2b7-9e85f178b124"
      },
      "execution_count": null,
      "outputs": [
        {
          "execution_count": 35,
          "output_type": "execute_result",
          "data": {
            "text/plain": "43"
          },
          "metadata": {}
        }
      ]
    },
    {
      "cell_type": "code",
      "source": [
        "random_day = random.randint(4, 365) # starting from 4th day so that I can write \"th\" in the title :)\n",
        "target = workingDf['GHI'][(random_day-1)*96:(random_day*96)]\n",
        "target.plot()\n",
        "plt.title(str(f\"Plot of {random_day}th day\"))\n",
        "plt.show()"
      ],
      "metadata": {
        "execution": {
          "iopub.status.busy": "2023-05-20T13:18:02.374937Z",
          "iopub.execute_input": "2023-05-20T13:18:02.375607Z",
          "iopub.status.idle": "2023-05-20T13:18:02.615122Z",
          "shell.execute_reply.started": "2023-05-20T13:18:02.375573Z",
          "shell.execute_reply": "2023-05-20T13:18:02.614225Z"
        },
        "trusted": true,
        "id": "jn7PWACpeDs6",
        "outputId": "5c470d9d-88df-4f91-a24d-26c0424d6003"
      },
      "execution_count": null,
      "outputs": [
        {
          "output_type": "display_data",
          "data": {
            "text/plain": "<Figure size 640x480 with 1 Axes>",
            "image/png": "[encoded data removed]"
          },
          "metadata": {}
        }
      ]
    },
    {
      "cell_type": "code",
      "source": [
        "scaler = MinMaxScaler()\n",
        "df_normalized = pd.DataFrame(scaler.fit_transform(workingDf), columns=workingDf.columns)\n",
        "df_normalized.head(10) # this normalizes the data in between range [0, 1]"
      ],
      "metadata": {
        "execution": {
          "iopub.status.busy": "2023-05-20T13:18:02.616623Z",
          "iopub.execute_input": "2023-05-20T13:18:02.617232Z",
          "iopub.status.idle": "2023-05-20T13:18:02.641948Z",
          "shell.execute_reply.started": "2023-05-20T13:18:02.617177Z",
          "shell.execute_reply": "2023-05-20T13:18:02.640901Z"
        },
        "trusted": true,
        "id": "CyDI7EmaeDs8",
        "outputId": "03f716b1-4fa0-4de2-b7f2-2fedc44c6694"
      },
      "execution_count": null,
      "outputs": [
        {
          "execution_count": 37,
          "output_type": "execute_result",
          "data": {
            "text/plain": "   Precipitable Water  Temperature  Dew Point  Relative Humidity  Pressure  \\\n0            0.166667     0.291743   0.236287           0.122209  0.633333   \n1            0.166667     0.289908   0.236287           0.123159  0.633333   \n2            0.166667     0.288073   0.236287           0.124109  0.633333   \n3            0.166667     0.284404   0.238397           0.127553  0.633333   \n4            0.166667     0.282569   0.238397           0.128622  0.633333   \n5            0.166667     0.280734   0.238397           0.129572  0.633333   \n6            0.166667     0.278899   0.238397           0.130641  0.633333   \n7            0.166667     0.277064   0.240506           0.132660  0.633333   \n8            0.166667     0.275229   0.240506           0.133729  0.633333   \n9            0.166667     0.273394   0.240506           0.134679  0.633333   \n\n   Wind Direction  Wind Speed  GHI  \n0        0.286111    0.043860  0.0  \n1        0.297222    0.043860  0.0  \n2        0.308333    0.043860  0.0  \n3        0.319444    0.043860  0.0  \n4        0.333333    0.043860  0.0  \n5        0.344444    0.035088  0.0  \n6        0.355556    0.035088  0.0  \n7        0.366667    0.035088  0.0  \n8        0.377778    0.035088  0.0  \n9        0.394444    0.035088  0.0  ",
            "text/html": "<div>\n<style scoped>\n    .dataframe tbody tr th:only-of-type {\n        vertical-align: middle;\n    }\n\n    .dataframe tbody tr th {\n        vertical-align: top;\n    }\n\n    .dataframe thead th {\n        text-align: right;\n    }\n</style>\n<table border=\"1\" class=\"dataframe\">\n  <thead>\n    <tr style=\"text-align: right;\">\n      <th></th>\n      <th>Precipitable Water</th>\n      <th>Temperature</th>\n      <th>Dew Point</th>\n      <th>Relative Humidity</th>\n      <th>Pressure</th>\n      <th>Wind Direction</th>\n      <th>Wind Speed</th>\n      <th>GHI</th>\n    </tr>\n  </thead>\n  <tbody>\n    <tr>\n      <th>0</th>\n      <td>0.166667</td>\n      <td>0.291743</td>\n      <td>0.236287</td>\n      <td>0.122209</td>\n      <td>0.633333</td>\n      <td>0.286111</td>\n      <td>0.043860</td>\n      <td>0.0</td>\n    </tr>\n    <tr>\n      <th>1</th>\n      <td>0.166667</td>\n      <td>0.289908</td>\n      <td>0.236287</td>\n      <td>0.123159</td>\n      <td>0.633333</td>\n      <td>0.297222</td>\n      <td>0.043860</td>\n      <td>0.0</td>\n    </tr>\n    <tr>\n      <th>2</th>\n      <td>0.166667</td>\n      <td>0.288073</td>\n      <td>0.236287</td>\n      <td>0.124109</td>\n      <td>0.633333</td>\n      <td>0.308333</td>\n      <td>0.043860</td>\n      <td>0.0</td>\n    </tr>\n    <tr>\n      <th>3</th>\n      <td>0.166667</td>\n      <td>0.284404</td>\n      <td>0.238397</td>\n      <td>0.127553</td>\n      <td>0.633333</td>\n      <td>0.319444</td>\n      <td>0.043860</td>\n      <td>0.0</td>\n    </tr>\n    <tr>\n      <th>4</th>\n      <td>0.166667</td>\n      <td>0.282569</td>\n      <td>0.238397</td>\n      <td>0.128622</td>\n      <td>0.633333</td>\n      <td>0.333333</td>\n      <td>0.043860</td>\n      <td>0.0</td>\n    </tr>\n    <tr>\n      <th>5</th>\n      <td>0.166667</td>\n      <td>0.280734</td>\n      <td>0.238397</td>\n      <td>0.129572</td>\n      <td>0.633333</td>\n      <td>0.344444</td>\n      <td>0.035088</td>\n      <td>0.0</td>\n    </tr>\n    <tr>\n      <th>6</th>\n      <td>0.166667</td>\n      <td>0.278899</td>\n      <td>0.238397</td>\n      <td>0.130641</td>\n      <td>0.633333</td>\n      <td>0.355556</td>\n      <td>0.035088</td>\n      <td>0.0</td>\n    </tr>\n    <tr>\n      <th>7</th>\n      <td>0.166667</td>\n      <td>0.277064</td>\n      <td>0.240506</td>\n      <td>0.132660</td>\n      <td>0.633333</td>\n      <td>0.366667</td>\n      <td>0.035088</td>\n      <td>0.0</td>\n    </tr>\n    <tr>\n      <th>8</th>\n      <td>0.166667</td>\n      <td>0.275229</td>\n      <td>0.240506</td>\n      <td>0.133729</td>\n      <td>0.633333</td>\n      <td>0.377778</td>\n      <td>0.035088</td>\n      <td>0.0</td>\n    </tr>\n    <tr>\n      <th>9</th>\n      <td>0.166667</td>\n      <td>0.273394</td>\n      <td>0.240506</td>\n      <td>0.134679</td>\n      <td>0.633333</td>\n      <td>0.394444</td>\n      <td>0.035088</td>\n      <td>0.0</td>\n    </tr>\n  </tbody>\n</table>\n</div>"
          },
          "metadata": {}
        }
      ]
    },
    {
      "cell_type": "code",
      "source": [
        "class simpleLSTM(nn.Module):\n",
        "    def __init__(self, features = 8, prediction = 1, window = 288, horizon = 1):\n",
        "        super(simpleLSTM, self).__init__()\n",
        "\n",
        "        self.layer1 = nn.LSTM(input_size = 8, hidden_size = 128, \n",
        "                             num_layers = 1, bias = True, \n",
        "                             batch_first = True, dropout = 0.2)\n",
        "        \n",
        "        self.activation1 = nn.Tanh()\n",
        "        \n",
        "        self.layer2 = nn.LSTM(input_size = 128, hidden_size = 64,\n",
        "                             num_layers = 1, bias = True,\n",
        "                             batch_first = True, dropout = 0.2)\n",
        "\n",
        "        self.activation2 = nn.Tanh()\n",
        "        \n",
        "        self.layer3 = nn.LSTM(input_size = 64, hidden_size = 32,\n",
        "                             num_layers = 1, bias = True,\n",
        "                             batch_first = True, dropout = 0.2)\n",
        "        \n",
        "        self.activation3 = nn.Tanh()\n",
        "        \n",
        "        self.layer4 = nn.Linear(in_features = 32, out_features = 1)\n",
        "       \n",
        "        self.activation4 = nn.GELU()\n",
        "        \n",
        "        self.drop = nn.Dropout(p=0.5)\n",
        "\n",
        "        self.layer5 = nn.Linear(in_features = window, out_features = horizon)\n",
        "\n",
        "        self.activation5 = nn.GELU()\n",
        "\n",
        "    def forward(self, x):\n",
        "\n",
        "        x = self.layer1(x)\n",
        "        x = self.activation1(x[0])\n",
        "        x = self.layer2(x)\n",
        "        x = self.activation2(x[0])\n",
        "        x = self.layer3(x)\n",
        "        x = self.activation3(x[0])\n",
        "        x = self.layer4(x)\n",
        "        x = self.activation4(x)\n",
        "        x = self.drop(x)\n",
        "        x = x.transpose(1, 2)\n",
        "        x = self.layer5(x)\n",
        "        x = self.activation5(x)\n",
        "        return x"
      ],
      "metadata": {
        "execution": {
          "iopub.status.busy": "2023-05-20T13:18:02.646658Z",
          "iopub.execute_input": "2023-05-20T13:18:02.647442Z",
          "iopub.status.idle": "2023-05-20T13:18:02.658792Z",
          "shell.execute_reply.started": "2023-05-20T13:18:02.647406Z",
          "shell.execute_reply": "2023-05-20T13:18:02.657828Z"
        },
        "trusted": true,
        "id": "a34S_7cieDs-"
      },
      "execution_count": null,
      "outputs": []
    },
    {
      "cell_type": "code",
      "source": [
        "per_day_readings = 4 * 24\n",
        "window_length = 3 * per_day_readings    # we want our model to look back at the data of 3 days\n",
        "horizon = 1                             # and then predict the next 15 minute reading"
      ],
      "metadata": {
        "execution": {
          "iopub.status.busy": "2023-05-20T13:18:02.661426Z",
          "iopub.execute_input": "2023-05-20T13:18:02.662435Z",
          "iopub.status.idle": "2023-05-20T13:18:02.672535Z",
          "shell.execute_reply.started": "2023-05-20T13:18:02.662397Z",
          "shell.execute_reply": "2023-05-20T13:18:02.671529Z"
        },
        "trusted": true,
        "id": "EcVk1dkbeDtA"
      },
      "execution_count": null,
      "outputs": []
    },
    {
      "cell_type": "code",
      "source": [
        "df = df_normalized.values\n",
        "stride = 1\n",
        "x = []\n",
        "y = []\n",
        "for i in tqdm(range(0, len(df) - window_length, stride)):\n",
        "    x.append(df[i:window_length+i, : ]) #GHI included but its past values only\n",
        "    y.append(df[window_length+i,-1])                  #next GHI value"
      ],
      "metadata": {
        "execution": {
          "iopub.status.busy": "2023-05-20T13:18:02.675770Z",
          "iopub.execute_input": "2023-05-20T13:18:02.676794Z",
          "iopub.status.idle": "2023-05-20T13:18:02.775253Z",
          "shell.execute_reply.started": "2023-05-20T13:18:02.676758Z",
          "shell.execute_reply": "2023-05-20T13:18:02.774160Z"
        },
        "trusted": true,
        "id": "rQKXuocMeDtC",
        "outputId": "f45a3204-172c-4e04-a294-356d68226a83",
        "colab": {
          "referenced_widgets": [
            "4732a5bdf8a343939e966ca35dc70708"
          ]
        }
      },
      "execution_count": null,
      "outputs": [
        {
          "output_type": "display_data",
          "data": {
            "text/plain": "  0%|          | 0/34752 [00:00<?, ?it/s]",
            "application/vnd.jupyter.widget-view+json": {
              "version_major": 2,
              "version_minor": 0,
              "model_id": "4732a5bdf8a343939e966ca35dc70708"
            }
          },
          "metadata": {}
        }
      ]
    },
    {
      "cell_type": "code",
      "source": [
        "x = np.array(x)\n",
        "y = np.array(y)\n",
        "print(x.shape)\n",
        "print(y.shape)"
      ],
      "metadata": {
        "execution": {
          "iopub.status.busy": "2023-05-20T13:18:02.776765Z",
          "iopub.execute_input": "2023-05-20T13:18:02.777215Z",
          "iopub.status.idle": "2023-05-20T13:18:03.037380Z",
          "shell.execute_reply.started": "2023-05-20T13:18:02.777162Z",
          "shell.execute_reply": "2023-05-20T13:18:03.036406Z"
        },
        "trusted": true,
        "id": "j_O-Hsx4eDtE",
        "outputId": "2bd50b86-77c0-4e31-a833-2c71d4a50b3f"
      },
      "execution_count": null,
      "outputs": [
        {
          "name": "stdout",
          "text": "(34752, 288, 8)\n(34752,)\n",
          "output_type": "stream"
        }
      ]
    },
    {
      "cell_type": "code",
      "source": [
        "x[45]"
      ],
      "metadata": {
        "execution": {
          "iopub.status.busy": "2023-05-20T13:18:03.038838Z",
          "iopub.execute_input": "2023-05-20T13:18:03.039249Z",
          "iopub.status.idle": "2023-05-20T13:18:03.049127Z",
          "shell.execute_reply.started": "2023-05-20T13:18:03.039196Z",
          "shell.execute_reply": "2023-05-20T13:18:03.047422Z"
        },
        "trusted": true,
        "id": "_iDA35nceDtH",
        "outputId": "450ba3c3-26f2-4b75-8d54-f9619ef1acdf"
      },
      "execution_count": null,
      "outputs": [
        {
          "execution_count": 42,
          "output_type": "execute_result",
          "data": {
            "text/plain": "array([[0.36111111, 0.55779817, 0.50843882, ..., 0.71388889, 0.09649123,\n        0.56176736],\n       [0.36111111, 0.56330275, 0.50632911, ..., 0.73888889, 0.11403509,\n        0.56988278],\n       [0.36111111, 0.56697248, 0.50632911, ..., 0.76111111, 0.12280702,\n        0.57348963],\n       ...,\n       [0.33333333, 0.46238532, 0.66666667, ..., 0.45277778, 0.13157895,\n        0.50405771],\n       [0.33333333, 0.46788991, 0.66666667, ..., 0.66944444, 0.13157895,\n        0.52569883],\n       [0.33333333, 0.47522936, 0.66666667, ..., 0.88888889, 0.14035088,\n        0.54102795]])"
          },
          "metadata": {}
        }
      ]
    },
    {
      "cell_type": "code",
      "source": [
        "y[44]"
      ],
      "metadata": {
        "execution": {
          "iopub.status.busy": "2023-05-20T13:18:03.051389Z",
          "iopub.execute_input": "2023-05-20T13:18:03.051664Z",
          "iopub.status.idle": "2023-05-20T13:18:03.058465Z",
          "shell.execute_reply.started": "2023-05-20T13:18:03.051640Z",
          "shell.execute_reply": "2023-05-20T13:18:03.057446Z"
        },
        "trusted": true,
        "id": "8m3XsqmheDtJ",
        "outputId": "ad2d8ecd-918a-4348-8863-6b54a2b96e16"
      },
      "execution_count": null,
      "outputs": [
        {
          "execution_count": 43,
          "output_type": "execute_result",
          "data": {
            "text/plain": "0.5410279531109107"
          },
          "metadata": {}
        }
      ]
    },
    {
      "cell_type": "code",
      "source": [
        "# splitting our dataset into two parts one will be training set and the other will be testing set\n",
        "# Lets store last 5 days as our test set\n",
        "x_train = x[:-per_day_readings*5]\n",
        "y_train = y[:-per_day_readings*5]\n",
        "x_test  = x[len(y) - per_day_readings*5:]\n",
        "y_test  = y[len(y) - per_day_readings*5:]\n",
        "print(x_train.shape)\n",
        "print(y_train.shape)\n",
        "print(x_test.shape)\n",
        "print(y_test.shape)"
      ],
      "metadata": {
        "execution": {
          "iopub.status.busy": "2023-05-20T13:18:03.059808Z",
          "iopub.execute_input": "2023-05-20T13:18:03.060601Z",
          "iopub.status.idle": "2023-05-20T13:18:03.069223Z",
          "shell.execute_reply.started": "2023-05-20T13:18:03.060565Z",
          "shell.execute_reply": "2023-05-20T13:18:03.068111Z"
        },
        "trusted": true,
        "id": "8b5vo6UweDtK",
        "outputId": "0f27cc0d-974e-4ace-846b-9e37703eb448"
      },
      "execution_count": null,
      "outputs": [
        {
          "name": "stdout",
          "text": "(34272, 288, 8)\n(34272,)\n(480, 288, 8)\n(480,)\n",
          "output_type": "stream"
        }
      ]
    },
    {
      "cell_type": "code",
      "source": [
        "# finding the device of our environment\n",
        "device = 'cpu' if not torch.cuda.is_available() else 'cuda'"
      ],
      "metadata": {
        "execution": {
          "iopub.status.busy": "2023-05-20T13:18:03.070700Z",
          "iopub.execute_input": "2023-05-20T13:18:03.071851Z",
          "iopub.status.idle": "2023-05-20T13:18:03.078057Z",
          "shell.execute_reply.started": "2023-05-20T13:18:03.071815Z",
          "shell.execute_reply": "2023-05-20T13:18:03.076961Z"
        },
        "trusted": true,
        "id": "csR00M6meDtL"
      },
      "execution_count": null,
      "outputs": []
    },
    {
      "cell_type": "code",
      "source": [
        "# converting our dataset to pytorch tensors for forwarding passing\n",
        "x_train_tensor = torch.tensor(x_train, dtype=torch.float32).to(device)\n",
        "y_train_tensor = torch.tensor(y_train, dtype=torch.float32).to(device)"
      ],
      "metadata": {
        "execution": {
          "iopub.status.busy": "2023-05-20T13:18:03.079504Z",
          "iopub.execute_input": "2023-05-20T13:18:03.080075Z",
          "iopub.status.idle": "2023-05-20T13:18:03.401843Z",
          "shell.execute_reply.started": "2023-05-20T13:18:03.080038Z",
          "shell.execute_reply": "2023-05-20T13:18:03.400836Z"
        },
        "trusted": true,
        "id": "8gS1pvA_eDtM"
      },
      "execution_count": null,
      "outputs": []
    },
    {
      "cell_type": "code",
      "source": [
        "amp = True # If we want the model to be trained faster"
      ],
      "metadata": {
        "execution": {
          "iopub.status.busy": "2023-05-20T13:18:03.403553Z",
          "iopub.execute_input": "2023-05-20T13:18:03.403906Z",
          "iopub.status.idle": "2023-05-20T13:18:03.408171Z",
          "shell.execute_reply.started": "2023-05-20T13:18:03.403873Z",
          "shell.execute_reply": "2023-05-20T13:18:03.407254Z"
        },
        "trusted": true,
        "id": "hwGXOTBgeDtN"
      },
      "execution_count": null,
      "outputs": []
    },
    {
      "cell_type": "code",
      "source": [
        "# Now we towards training the model\n",
        "if amp:\n",
        "    use_amp = True\n",
        "    scaler = torch.cuda.amp.GradScaler(enabled=use_amp)"
      ],
      "metadata": {
        "execution": {
          "iopub.status.busy": "2023-05-20T13:18:03.409776Z",
          "iopub.execute_input": "2023-05-20T13:18:03.410522Z",
          "iopub.status.idle": "2023-05-20T13:18:03.417950Z",
          "shell.execute_reply.started": "2023-05-20T13:18:03.410450Z",
          "shell.execute_reply": "2023-05-20T13:18:03.417030Z"
        },
        "trusted": true,
        "id": "xwV8HWgaeDtO"
      },
      "execution_count": null,
      "outputs": []
    },
    {
      "cell_type": "code",
      "source": [
        "set_epochs = 50"
      ],
      "metadata": {
        "execution": {
          "iopub.status.busy": "2023-05-20T13:18:03.421174Z",
          "iopub.execute_input": "2023-05-20T13:18:03.421465Z",
          "iopub.status.idle": "2023-05-20T13:18:03.427003Z",
          "shell.execute_reply.started": "2023-05-20T13:18:03.421442Z",
          "shell.execute_reply": "2023-05-20T13:18:03.426104Z"
        },
        "trusted": true,
        "id": "BlPMGTDoeDtO"
      },
      "execution_count": null,
      "outputs": []
    },
    {
      "cell_type": "code",
      "source": [
        "# initializing the model first before training\n",
        "features = 8\n",
        "prediction = 1\n",
        "\n",
        "modelLSTM = simpleLSTM(features = features, prediction = prediction, \n",
        "                  window = window_length, horizon = horizon)\n",
        "\n",
        "modelLSTM = modelLSTM.to(device)"
      ],
      "metadata": {
        "execution": {
          "iopub.status.busy": "2023-05-20T13:18:03.428263Z",
          "iopub.execute_input": "2023-05-20T13:18:03.428645Z",
          "iopub.status.idle": "2023-05-20T13:18:03.442270Z",
          "shell.execute_reply.started": "2023-05-20T13:18:03.428614Z",
          "shell.execute_reply": "2023-05-20T13:18:03.441312Z"
        },
        "trusted": true,
        "id": "NfEL6yOweDtO"
      },
      "execution_count": null,
      "outputs": []
    },
    {
      "cell_type": "code",
      "source": [
        "modelLSTM"
      ],
      "metadata": {
        "execution": {
          "iopub.status.busy": "2023-05-20T13:18:03.445662Z",
          "iopub.execute_input": "2023-05-20T13:18:03.446321Z",
          "iopub.status.idle": "2023-05-20T13:18:03.452521Z",
          "shell.execute_reply.started": "2023-05-20T13:18:03.446288Z",
          "shell.execute_reply": "2023-05-20T13:18:03.451461Z"
        },
        "trusted": true,
        "id": "nZH6koA_eDtP",
        "outputId": "b05f568c-2442-4289-a883-5a13176e5f8f"
      },
      "execution_count": null,
      "outputs": [
        {
          "execution_count": 51,
          "output_type": "execute_result",
          "data": {
            "text/plain": "simpleLSTM(\n  (layer1): LSTM(8, 128, batch_first=True, dropout=0.2)\n  (activation1): Tanh()\n  (layer2): LSTM(128, 64, batch_first=True, dropout=0.2)\n  (activation2): Tanh()\n  (layer3): LSTM(64, 32, batch_first=True, dropout=0.2)\n  (activation3): Tanh()\n  (layer4): Linear(in_features=32, out_features=1, bias=True)\n  (activation4): GELU(approximate='none')\n  (drop): Dropout(p=0.5, inplace=False)\n  (layer5): Linear(in_features=288, out_features=1, bias=True)\n  (activation5): GELU(approximate='none')\n)"
          },
          "metadata": {}
        }
      ]
    },
    {
      "cell_type": "code",
      "source": [
        "# Lets define loss function and optimizer\n",
        "criterion = MeanAbsoluteError().to(device)                         # MAE\n",
        "metricc = MeanAbsolutePercentageError().to(device)                 # MAPE metric\n",
        "optimizer = optim.AdamW(modelLSTM.parameters(), lr=1e-4, weight_decay= 1e-5)               # Adam  TRY THIS : , \n",
        "\n",
        "num_epochs = set_epochs\n",
        "batch_size = 128\n",
        "\n",
        "loss_info_LSTM = []\n",
        "metric_info_LSTM = []\n",
        "\n",
        "for epoch in tqdm(range(num_epochs)):\n",
        "\n",
        "    running_loss = 0.0                                             # MAE Loss\n",
        "    running_metric = 0.0                                           # MAPE metric\n",
        "    \n",
        "    for i in tqdm(range(0, len(x_train_tensor), batch_size), desc=f\"Epoch {epoch+1}\"):\n",
        "\n",
        "        # Get batch of inputs and targets\n",
        "        batch_x = x_train_tensor[i:i+batch_size]\n",
        "        batch_y = y_train_tensor[i:i+batch_size]\n",
        "        \n",
        "        # Reshape input tensor\n",
        "        batch_x = batch_x.view(-1, window_length, features)\n",
        "        \n",
        "        if amp:\n",
        "\n",
        "            with torch.autocast(device_type= 'cuda', dtype=torch.float16, enabled=use_amp):\n",
        "                # Forward pass\n",
        "                outputs = modelLSTM(batch_x)\n",
        "                \n",
        "                if batch_size == 1:\n",
        "                    loss = criterion(outputs.view(-1), torch.tensor([batch_y]))\n",
        "                    metric = metricc(outputs.view(-1), torch.tensor([batch_y]))\n",
        "\n",
        "                else:\n",
        "                    loss = criterion(outputs.view(-1), batch_y)\n",
        "                    metric = metricc(outputs.view(-1), batch_y)\n",
        "            \n",
        "            # Backward pass and optimization\n",
        "            scaler.scale(loss).backward()\n",
        "            scaler.step(optimizer)\n",
        "            scaler.update() \n",
        "\n",
        "        else:       \n",
        "\n",
        "            # Forward pass\n",
        "            outputs = modelLSTM(batch_x)\n",
        "\n",
        "            if batch_size == 1:\n",
        "                loss = criterion(outputs.view(-1), torch.tensor([batch_y]))\n",
        "                metric = metricc(outputs.view(-1), torch.tensor([batch_y]))\n",
        "\n",
        "            else:\n",
        "                loss = criterion(outputs.view(-1), batch_y)\n",
        "                metric = metricc(outputs.view(-1), batch_y)\n",
        "\n",
        "            # Backward pass and optimize\n",
        "            loss.backward()\n",
        "            optimizer.step()\n",
        "\n",
        "        # Zero the parameter gradients\n",
        "        optimizer.zero_grad(set_to_none=True)\n",
        "\n",
        "        running_loss += loss.item()\n",
        "        running_metric += metric.item()\n",
        "\n",
        "    # Calculate epoch loss and metric\n",
        "    epoch_loss = running_loss / (len(x_train) / batch_size)\n",
        "    epoch_metric = running_metric / (len(x_train) / batch_size)\n",
        "    loss_info_LSTM.append(epoch_loss)\n",
        "    metric_info_LSTM.append(epoch_metric)\n",
        "    print(\"-\"*25, f\"Epoch {epoch + 1}\",\"-\"*25)\n",
        "    print(f\"Epoch {epoch+1} MAE loss: {epoch_loss:.9f}\")\n",
        "    print(f\"Epoch {epoch+1} MAPE metric: {epoch_metric:.9f}\")\n",
        "\n",
        "print(\"Training complete!\")"
      ],
      "metadata": {
        "execution": {
          "iopub.status.busy": "2023-05-20T13:18:03.454131Z",
          "iopub.execute_input": "2023-05-20T13:18:03.454690Z",
          "iopub.status.idle": "2023-05-20T13:32:52.945386Z",
          "shell.execute_reply.started": "2023-05-20T13:18:03.454659Z",
          "shell.execute_reply": "2023-05-20T13:32:52.944499Z"
        },
        "trusted": true,
        "id": "kHUktiLYeDtQ",
        "outputId": "0b57e12f-5ff4-45c9-9a28-f030dfe37f6f",
        "colab": {
          "referenced_widgets": [
            "2eb7f7a1b0f847b2a1b80f98f27de1e6",
            "931a6d3b618149b18fe93b40fd720140",
            "1d3a21d940e14c7fafac2417fd80fd8e",
            "33ec360205254868882bbb7695b53d1f",
            "6d9460df25d44fe796ed348f2af9234a",
            "7078c18b0c0f430d89a5633dafa82f44",
            "6ef3d5c21b2b4ce1b64d5bfd33dda621",
            "a744acd0f55543cf8732284ef24766b7",
            "cc7748404fc64b02990d709f96537051",
            "d00cf22c9897462cb5d6172f9ac96e2e",
            "51af31ae4d84480db9644832d06bdf3c",
            "174aa4b853f140d4a67aaa5f40450d44",
            "2a10d20f81f64d59996686b65516a306",
            "b7078f24f90143829308e663243648c4",
            "4d94cb339a2f4b43983e2860302f31df",
            "52511af1a2f7401b860431508fc40600",
            "261e06af2db54a46bdd7b6d5060a5740",
            "f177a8f912524feb801a79cd0cdc0913",
            "83c2a89a1ce244dfac75124869ddacb8",
            "e02cbea8ff174eabaada0f2b73fc49f5",
            "efadf106fa5c47d2ae636d61ffc377f8",
            "97d547adb7364a89b95654325456896c",
            "ff2da2eae22d4b28a7605a5a7443d0d5",
            "bc378b20089f48198b6e6c1be922e036",
            "339267fdafc14db68413bf3b34e2f8a9",
            "3207fba5302b4d22926b96e699fa1b2a",
            "e5177b92d300488e9f917f1715cfaa46",
            "499a78a2352543d786d62ee88a34c113",
            "43511233803543b0be4969c1476877a0",
            "639020105ac743199eff3f7dd554866d",
            "dc6507b26c67428eb4aa8465e5b1c54d",
            "d266e67679d64c098d3db822124911c7",
            "5424684d7b9f4e5e8a9d399c1966ad2e",
            "fc13106a02d647dd9fcd62c6981426a6",
            "090fe53e25ff452c986b5ca32a5262b1",
            "ba96966fd4d34867a8e32eaee4f5dc59",
            "1cef7981a60c4c7fa5843529a5b3a2b6",
            "306ce6629ebd4df59c893233884269d8",
            "4e739c4d2b2045a7ba6ea6086b33b9f6",
            "3c22701967ba446ea90adf30705e1ae8",
            "1ccf48cd55e940ca8fb54e245f6eb6db",
            "b52ce3cc9c144b018b93967488f0cca5",
            "435bf4c585814401b48272861447460a",
            "5c9be68e4e2a47248874423759930175",
            "a866d69f759c4904b85ef93ee8b3ba61",
            "db38355981e349f2986602ef4a74b472",
            "322ab2289cc3484fbb01638371bc90ae",
            "fd1242a497174fa9901a93cacfaf13f1",
            "a81e2b7f193243f287ee4e35042513f0",
            "72e7db78307b41bea9670c1f181660fe",
            "8eca0bf10e9944dab76d380f59a8d1c6"
          ]
        }
      },
      "execution_count": null,
      "outputs": [
        {
          "output_type": "display_data",
          "data": {
            "text/plain": "  0%|          | 0/50 [00:00<?, ?it/s]",
            "application/vnd.jupyter.widget-view+json": {
              "version_major": 2,
              "version_minor": 0,
              "model_id": "2eb7f7a1b0f847b2a1b80f98f27de1e6"
            }
          },
          "metadata": {}
        },
        {
          "output_type": "display_data",
          "data": {
            "text/plain": "Epoch 1:   0%|          | 0/268 [00:00<?, ?it/s]",
            "application/vnd.jupyter.widget-view+json": {
              "version_major": 2,
              "version_minor": 0,
              "model_id": "931a6d3b618149b18fe93b40fd720140"
            }
          },
          "metadata": {}
        },
        {
          "name": "stdout",
          "text": "------------------------- Epoch 1 -------------------------\nEpoch 1 MAE loss: 0.167718348\nEpoch 1 MAPE metric: 18694.667873920\n",
          "output_type": "stream"
        },
        {
          "output_type": "display_data",
          "data": {
            "text/plain": "Epoch 2:   0%|          | 0/268 [00:00<?, ?it/s]",
            "application/vnd.jupyter.widget-view+json": {
              "version_major": 2,
              "version_minor": 0,
              "model_id": "1d3a21d940e14c7fafac2417fd80fd8e"
            }
          },
          "metadata": {}
        },
        {
          "name": "stdout",
          "text": "------------------------- Epoch 2 -------------------------\nEpoch 2 MAE loss: 0.088196543\nEpoch 2 MAPE metric: 19434.048299268\n",
          "output_type": "stream"
        },
        {
          "output_type": "display_data",
          "data": {
            "text/plain": "Epoch 3:   0%|          | 0/268 [00:00<?, ?it/s]",
            "application/vnd.jupyter.widget-view+json": {
              "version_major": 2,
              "version_minor": 0,
              "model_id": "33ec360205254868882bbb7695b53d1f"
            }
          },
          "metadata": {}
        },
        {
          "name": "stdout",
          "text": "------------------------- Epoch 3 -------------------------\nEpoch 3 MAE loss: 0.074596762\nEpoch 3 MAPE metric: 14672.828679388\n",
          "output_type": "stream"
        },
        {
          "output_type": "display_data",
          "data": {
            "text/plain": "Epoch 4:   0%|          | 0/268 [00:00<?, ?it/s]",
            "application/vnd.jupyter.widget-view+json": {
              "version_major": 2,
              "version_minor": 0,
              "model_id": "6d9460df25d44fe796ed348f2af9234a"
            }
          },
          "metadata": {}
        },
        {
          "name": "stdout",
          "text": "------------------------- Epoch 4 -------------------------\nEpoch 4 MAE loss: 0.067475474\nEpoch 4 MAPE metric: 12152.233711193\n",
          "output_type": "stream"
        },
        {
          "output_type": "display_data",
          "data": {
            "text/plain": "Epoch 5:   0%|          | 0/268 [00:00<?, ?it/s]",
            "application/vnd.jupyter.widget-view+json": {
              "version_major": 2,
              "version_minor": 0,
              "model_id": "7078c18b0c0f430d89a5633dafa82f44"
            }
          },
          "metadata": {}
        },
        {
          "name": "stdout",
          "text": "------------------------- Epoch 5 -------------------------\nEpoch 5 MAE loss: 0.063303894\nEpoch 5 MAPE metric: 10306.171820291\n",
          "output_type": "stream"
        },
        {
          "output_type": "display_data",
          "data": {
            "text/plain": "Epoch 6:   0%|          | 0/268 [00:00<?, ?it/s]",
            "application/vnd.jupyter.widget-view+json": {
              "version_major": 2,
              "version_minor": 0,
              "model_id": "6ef3d5c21b2b4ce1b64d5bfd33dda621"
            }
          },
          "metadata": {}
        },
        {
          "name": "stdout",
          "text": "------------------------- Epoch 6 -------------------------\nEpoch 6 MAE loss: 0.060386019\nEpoch 6 MAPE metric: 9040.597782082\n",
          "output_type": "stream"
        },
        {
          "output_type": "display_data",
          "data": {
            "text/plain": "Epoch 7:   0%|          | 0/268 [00:00<?, ?it/s]",
            "application/vnd.jupyter.widget-view+json": {
              "version_major": 2,
              "version_minor": 0,
              "model_id": "a744acd0f55543cf8732284ef24766b7"
            }
          },
          "metadata": {}
        },
        {
          "name": "stdout",
          "text": "------------------------- Epoch 7 -------------------------\nEpoch 7 MAE loss: 0.058518080\nEpoch 7 MAPE metric: 8141.884271417\n",
          "output_type": "stream"
        },
        {
          "output_type": "display_data",
          "data": {
            "text/plain": "Epoch 8:   0%|          | 0/268 [00:00<?, ?it/s]",
            "application/vnd.jupyter.widget-view+json": {
              "version_major": 2,
              "version_minor": 0,
              "model_id": "cc7748404fc64b02990d709f96537051"
            }
          },
          "metadata": {}
        },
        {
          "name": "stdout",
          "text": "------------------------- Epoch 8 -------------------------\nEpoch 8 MAE loss: 0.057088553\nEpoch 8 MAPE metric: 7391.079278456\n",
          "output_type": "stream"
        },
        {
          "output_type": "display_data",
          "data": {
            "text/plain": "Epoch 9:   0%|          | 0/268 [00:00<?, ?it/s]",
            "application/vnd.jupyter.widget-view+json": {
              "version_major": 2,
              "version_minor": 0,
              "model_id": "d00cf22c9897462cb5d6172f9ac96e2e"
            }
          },
          "metadata": {}
        },
        {
          "name": "stdout",
          "text": "------------------------- Epoch 9 -------------------------\nEpoch 9 MAE loss: 0.055150445\nEpoch 9 MAPE metric: 6807.823106326\n",
          "output_type": "stream"
        },
        {
          "output_type": "display_data",
          "data": {
            "text/plain": "Epoch 10:   0%|          | 0/268 [00:00<?, ?it/s]",
            "application/vnd.jupyter.widget-view+json": {
              "version_major": 2,
              "version_minor": 0,
              "model_id": "51af31ae4d84480db9644832d06bdf3c"
            }
          },
          "metadata": {}
        },
        {
          "name": "stdout",
          "text": "------------------------- Epoch 10 -------------------------\nEpoch 10 MAE loss: 0.053706653\nEpoch 10 MAPE metric: 6456.641742895\n",
          "output_type": "stream"
        },
        {
          "output_type": "display_data",
          "data": {
            "text/plain": "Epoch 11:   0%|          | 0/268 [00:00<?, ?it/s]",
            "application/vnd.jupyter.widget-view+json": {
              "version_major": 2,
              "version_minor": 0,
              "model_id": "174aa4b853f140d4a67aaa5f40450d44"
            }
          },
          "metadata": {}
        },
        {
          "name": "stdout",
          "text": "------------------------- Epoch 11 -------------------------\nEpoch 11 MAE loss: 0.053235782\nEpoch 11 MAPE metric: 6217.414349724\n",
          "output_type": "stream"
        },
        {
          "output_type": "display_data",
          "data": {
            "text/plain": "Epoch 12:   0%|          | 0/268 [00:00<?, ?it/s]",
            "application/vnd.jupyter.widget-view+json": {
              "version_major": 2,
              "version_minor": 0,
              "model_id": "2a10d20f81f64d59996686b65516a306"
            }
          },
          "metadata": {}
        },
        {
          "name": "stdout",
          "text": "------------------------- Epoch 12 -------------------------\nEpoch 12 MAE loss: 0.052698953\nEpoch 12 MAPE metric: 5963.932321757\n",
          "output_type": "stream"
        },
        {
          "output_type": "display_data",
          "data": {
            "text/plain": "Epoch 13:   0%|          | 0/268 [00:00<?, ?it/s]",
            "application/vnd.jupyter.widget-view+json": {
              "version_major": 2,
              "version_minor": 0,
              "model_id": "b7078f24f90143829308e663243648c4"
            }
          },
          "metadata": {}
        },
        {
          "name": "stdout",
          "text": "------------------------- Epoch 13 -------------------------\nEpoch 13 MAE loss: 0.051827367\nEpoch 13 MAPE metric: 5790.397434495\n",
          "output_type": "stream"
        },
        {
          "output_type": "display_data",
          "data": {
            "text/plain": "Epoch 14:   0%|          | 0/268 [00:00<?, ?it/s]",
            "application/vnd.jupyter.widget-view+json": {
              "version_major": 2,
              "version_minor": 0,
              "model_id": "4d94cb339a2f4b43983e2860302f31df"
            }
          },
          "metadata": {}
        },
        {
          "name": "stdout",
          "text": "------------------------- Epoch 14 -------------------------\nEpoch 14 MAE loss: 0.051011124\nEpoch 14 MAPE metric: 5682.949495032\n",
          "output_type": "stream"
        },
        {
          "output_type": "display_data",
          "data": {
            "text/plain": "Epoch 15:   0%|          | 0/268 [00:00<?, ?it/s]",
            "application/vnd.jupyter.widget-view+json": {
              "version_major": 2,
              "version_minor": 0,
              "model_id": "52511af1a2f7401b860431508fc40600"
            }
          },
          "metadata": {}
        },
        {
          "name": "stdout",
          "text": "------------------------- Epoch 15 -------------------------\nEpoch 15 MAE loss: 0.050313931\nEpoch 15 MAPE metric: 5478.592684079\n",
          "output_type": "stream"
        },
        {
          "output_type": "display_data",
          "data": {
            "text/plain": "Epoch 16:   0%|          | 0/268 [00:00<?, ?it/s]",
            "application/vnd.jupyter.widget-view+json": {
              "version_major": 2,
              "version_minor": 0,
              "model_id": "261e06af2db54a46bdd7b6d5060a5740"
            }
          },
          "metadata": {}
        },
        {
          "name": "stdout",
          "text": "------------------------- Epoch 16 -------------------------\nEpoch 16 MAE loss: 0.049786081\nEpoch 16 MAPE metric: 5388.044746805\n",
          "output_type": "stream"
        },
        {
          "output_type": "display_data",
          "data": {
            "text/plain": "Epoch 17:   0%|          | 0/268 [00:00<?, ?it/s]",
            "application/vnd.jupyter.widget-view+json": {
              "version_major": 2,
              "version_minor": 0,
              "model_id": "f177a8f912524feb801a79cd0cdc0913"
            }
          },
          "metadata": {}
        },
        {
          "name": "stdout",
          "text": "------------------------- Epoch 17 -------------------------\nEpoch 17 MAE loss: 0.049628092\nEpoch 17 MAPE metric: 5328.057608981\n",
          "output_type": "stream"
        },
        {
          "output_type": "display_data",
          "data": {
            "text/plain": "Epoch 18:   0%|          | 0/268 [00:00<?, ?it/s]",
            "application/vnd.jupyter.widget-view+json": {
              "version_major": 2,
              "version_minor": 0,
              "model_id": "83c2a89a1ce244dfac75124869ddacb8"
            }
          },
          "metadata": {}
        },
        {
          "name": "stdout",
          "text": "------------------------- Epoch 18 -------------------------\nEpoch 18 MAE loss: 0.048711105\nEpoch 18 MAPE metric: 5244.451034190\n",
          "output_type": "stream"
        },
        {
          "output_type": "display_data",
          "data": {
            "text/plain": "Epoch 19:   0%|          | 0/268 [00:00<?, ?it/s]",
            "application/vnd.jupyter.widget-view+json": {
              "version_major": 2,
              "version_minor": 0,
              "model_id": "e02cbea8ff174eabaada0f2b73fc49f5"
            }
          },
          "metadata": {}
        },
        {
          "name": "stdout",
          "text": "------------------------- Epoch 19 -------------------------\nEpoch 19 MAE loss: 0.048187932\nEpoch 19 MAPE metric: 5083.068388553\n",
          "output_type": "stream"
        },
        {
          "output_type": "display_data",
          "data": {
            "text/plain": "Epoch 20:   0%|          | 0/268 [00:00<?, ?it/s]",
            "application/vnd.jupyter.widget-view+json": {
              "version_major": 2,
              "version_minor": 0,
              "model_id": "efadf106fa5c47d2ae636d61ffc377f8"
            }
          },
          "metadata": {}
        },
        {
          "name": "stdout",
          "text": "------------------------- Epoch 20 -------------------------\nEpoch 20 MAE loss: 0.047451233\nEpoch 20 MAPE metric: 4996.009279623\n",
          "output_type": "stream"
        },
        {
          "output_type": "display_data",
          "data": {
            "text/plain": "Epoch 21:   0%|          | 0/268 [00:00<?, ?it/s]",
            "application/vnd.jupyter.widget-view+json": {
              "version_major": 2,
              "version_minor": 0,
              "model_id": "97d547adb7364a89b95654325456896c"
            }
          },
          "metadata": {}
        },
        {
          "name": "stdout",
          "text": "------------------------- Epoch 21 -------------------------\nEpoch 21 MAE loss: 0.047351811\nEpoch 21 MAPE metric: 4889.410191811\n",
          "output_type": "stream"
        },
        {
          "output_type": "display_data",
          "data": {
            "text/plain": "Epoch 22:   0%|          | 0/268 [00:00<?, ?it/s]",
            "application/vnd.jupyter.widget-view+json": {
              "version_major": 2,
              "version_minor": 0,
              "model_id": "ff2da2eae22d4b28a7605a5a7443d0d5"
            }
          },
          "metadata": {}
        },
        {
          "name": "stdout",
          "text": "------------------------- Epoch 22 -------------------------\nEpoch 22 MAE loss: 0.046491111\nEpoch 22 MAPE metric: 4795.428069926\n",
          "output_type": "stream"
        },
        {
          "output_type": "display_data",
          "data": {
            "text/plain": "Epoch 23:   0%|          | 0/268 [00:00<?, ?it/s]",
            "application/vnd.jupyter.widget-view+json": {
              "version_major": 2,
              "version_minor": 0,
              "model_id": "bc378b20089f48198b6e6c1be922e036"
            }
          },
          "metadata": {}
        },
        {
          "name": "stdout",
          "text": "------------------------- Epoch 23 -------------------------\nEpoch 23 MAE loss: 0.046315348\nEpoch 23 MAPE metric: 4794.957535488\n",
          "output_type": "stream"
        },
        {
          "output_type": "display_data",
          "data": {
            "text/plain": "Epoch 24:   0%|          | 0/268 [00:00<?, ?it/s]",
            "application/vnd.jupyter.widget-view+json": {
              "version_major": 2,
              "version_minor": 0,
              "model_id": "339267fdafc14db68413bf3b34e2f8a9"
            }
          },
          "metadata": {}
        },
        {
          "name": "stdout",
          "text": "------------------------- Epoch 24 -------------------------\nEpoch 24 MAE loss: 0.046523390\nEpoch 24 MAPE metric: 4742.412866188\n",
          "output_type": "stream"
        },
        {
          "output_type": "display_data",
          "data": {
            "text/plain": "Epoch 25:   0%|          | 0/268 [00:00<?, ?it/s]",
            "application/vnd.jupyter.widget-view+json": {
              "version_major": 2,
              "version_minor": 0,
              "model_id": "3207fba5302b4d22926b96e699fa1b2a"
            }
          },
          "metadata": {}
        },
        {
          "name": "stdout",
          "text": "------------------------- Epoch 25 -------------------------\nEpoch 25 MAE loss: 0.045753733\nEpoch 25 MAPE metric: 4699.100735476\n",
          "output_type": "stream"
        },
        {
          "output_type": "display_data",
          "data": {
            "text/plain": "Epoch 26:   0%|          | 0/268 [00:00<?, ?it/s]",
            "application/vnd.jupyter.widget-view+json": {
              "version_major": 2,
              "version_minor": 0,
              "model_id": "e5177b92d300488e9f917f1715cfaa46"
            }
          },
          "metadata": {}
        },
        {
          "name": "stdout",
          "text": "------------------------- Epoch 26 -------------------------\nEpoch 26 MAE loss: 0.046179975\nEpoch 26 MAPE metric: 4688.501057259\n",
          "output_type": "stream"
        },
        {
          "output_type": "display_data",
          "data": {
            "text/plain": "Epoch 27:   0%|          | 0/268 [00:00<?, ?it/s]",
            "application/vnd.jupyter.widget-view+json": {
              "version_major": 2,
              "version_minor": 0,
              "model_id": "499a78a2352543d786d62ee88a34c113"
            }
          },
          "metadata": {}
        },
        {
          "name": "stdout",
          "text": "------------------------- Epoch 27 -------------------------\nEpoch 27 MAE loss: 0.045915690\nEpoch 27 MAPE metric: 4690.847079066\n",
          "output_type": "stream"
        },
        {
          "output_type": "display_data",
          "data": {
            "text/plain": "Epoch 28:   0%|          | 0/268 [00:00<?, ?it/s]",
            "application/vnd.jupyter.widget-view+json": {
              "version_major": 2,
              "version_minor": 0,
              "model_id": "43511233803543b0be4969c1476877a0"
            }
          },
          "metadata": {}
        },
        {
          "name": "stdout",
          "text": "------------------------- Epoch 28 -------------------------\nEpoch 28 MAE loss: 0.045296881\nEpoch 28 MAPE metric: 4614.579231041\n",
          "output_type": "stream"
        },
        {
          "output_type": "display_data",
          "data": {
            "text/plain": "Epoch 29:   0%|          | 0/268 [00:00<?, ?it/s]",
            "application/vnd.jupyter.widget-view+json": {
              "version_major": 2,
              "version_minor": 0,
              "model_id": "639020105ac743199eff3f7dd554866d"
            }
          },
          "metadata": {}
        },
        {
          "name": "stdout",
          "text": "------------------------- Epoch 29 -------------------------\nEpoch 29 MAE loss: 0.044939864\nEpoch 29 MAPE metric: 4561.171980771\n",
          "output_type": "stream"
        },
        {
          "output_type": "display_data",
          "data": {
            "text/plain": "Epoch 30:   0%|          | 0/268 [00:00<?, ?it/s]",
            "application/vnd.jupyter.widget-view+json": {
              "version_major": 2,
              "version_minor": 0,
              "model_id": "dc6507b26c67428eb4aa8465e5b1c54d"
            }
          },
          "metadata": {}
        },
        {
          "name": "stdout",
          "text": "------------------------- Epoch 30 -------------------------\nEpoch 30 MAE loss: 0.044956932\nEpoch 30 MAPE metric: 4570.946231618\n",
          "output_type": "stream"
        },
        {
          "output_type": "display_data",
          "data": {
            "text/plain": "Epoch 31:   0%|          | 0/268 [00:00<?, ?it/s]",
            "application/vnd.jupyter.widget-view+json": {
              "version_major": 2,
              "version_minor": 0,
              "model_id": "d266e67679d64c098d3db822124911c7"
            }
          },
          "metadata": {}
        },
        {
          "name": "stdout",
          "text": "------------------------- Epoch 31 -------------------------\nEpoch 31 MAE loss: 0.044765528\nEpoch 31 MAPE metric: 4632.129792542\n",
          "output_type": "stream"
        },
        {
          "output_type": "display_data",
          "data": {
            "text/plain": "Epoch 32:   0%|          | 0/268 [00:00<?, ?it/s]",
            "application/vnd.jupyter.widget-view+json": {
              "version_major": 2,
              "version_minor": 0,
              "model_id": "5424684d7b9f4e5e8a9d399c1966ad2e"
            }
          },
          "metadata": {}
        },
        {
          "name": "stdout",
          "text": "------------------------- Epoch 32 -------------------------\nEpoch 32 MAE loss: 0.044765837\nEpoch 32 MAPE metric: 4657.720176091\n",
          "output_type": "stream"
        },
        {
          "output_type": "display_data",
          "data": {
            "text/plain": "Epoch 33:   0%|          | 0/268 [00:00<?, ?it/s]",
            "application/vnd.jupyter.widget-view+json": {
              "version_major": 2,
              "version_minor": 0,
              "model_id": "fc13106a02d647dd9fcd62c6981426a6"
            }
          },
          "metadata": {}
        },
        {
          "name": "stdout",
          "text": "------------------------- Epoch 33 -------------------------\nEpoch 33 MAE loss: 0.044180621\nEpoch 33 MAPE metric: 4621.191854867\n",
          "output_type": "stream"
        },
        {
          "output_type": "display_data",
          "data": {
            "text/plain": "Epoch 34:   0%|          | 0/268 [00:00<?, ?it/s]",
            "application/vnd.jupyter.widget-view+json": {
              "version_major": 2,
              "version_minor": 0,
              "model_id": "090fe53e25ff452c986b5ca32a5262b1"
            }
          },
          "metadata": {}
        },
        {
          "name": "stdout",
          "text": "------------------------- Epoch 34 -------------------------\nEpoch 34 MAE loss: 0.044319437\nEpoch 34 MAPE metric: 4649.178848623\n",
          "output_type": "stream"
        },
        {
          "output_type": "display_data",
          "data": {
            "text/plain": "Epoch 35:   0%|          | 0/268 [00:00<?, ?it/s]",
            "application/vnd.jupyter.widget-view+json": {
              "version_major": 2,
              "version_minor": 0,
              "model_id": "ba96966fd4d34867a8e32eaee4f5dc59"
            }
          },
          "metadata": {}
        },
        {
          "name": "stdout",
          "text": "------------------------- Epoch 35 -------------------------\nEpoch 35 MAE loss: 0.044232070\nEpoch 35 MAPE metric: 4660.567087382\n",
          "output_type": "stream"
        },
        {
          "output_type": "display_data",
          "data": {
            "text/plain": "Epoch 36:   0%|          | 0/268 [00:00<?, ?it/s]",
            "application/vnd.jupyter.widget-view+json": {
              "version_major": 2,
              "version_minor": 0,
              "model_id": "1cef7981a60c4c7fa5843529a5b3a2b6"
            }
          },
          "metadata": {}
        },
        {
          "name": "stdout",
          "text": "------------------------- Epoch 36 -------------------------\nEpoch 36 MAE loss: 0.044089537\nEpoch 36 MAPE metric: 4798.851013583\n",
          "output_type": "stream"
        },
        {
          "output_type": "display_data",
          "data": {
            "text/plain": "Epoch 37:   0%|          | 0/268 [00:00<?, ?it/s]",
            "application/vnd.jupyter.widget-view+json": {
              "version_major": 2,
              "version_minor": 0,
              "model_id": "306ce6629ebd4df59c893233884269d8"
            }
          },
          "metadata": {}
        },
        {
          "name": "stdout",
          "text": "------------------------- Epoch 37 -------------------------\nEpoch 37 MAE loss: 0.043992008\nEpoch 37 MAPE metric: 4765.625141333\n",
          "output_type": "stream"
        },
        {
          "output_type": "display_data",
          "data": {
            "text/plain": "Epoch 38:   0%|          | 0/268 [00:00<?, ?it/s]",
            "application/vnd.jupyter.widget-view+json": {
              "version_major": 2,
              "version_minor": 0,
              "model_id": "4e739c4d2b2045a7ba6ea6086b33b9f6"
            }
          },
          "metadata": {}
        },
        {
          "name": "stdout",
          "text": "------------------------- Epoch 38 -------------------------\nEpoch 38 MAE loss: 0.043335787\nEpoch 38 MAPE metric: 4811.752328796\n",
          "output_type": "stream"
        },
        {
          "output_type": "display_data",
          "data": {
            "text/plain": "Epoch 39:   0%|          | 0/268 [00:00<?, ?it/s]",
            "application/vnd.jupyter.widget-view+json": {
              "version_major": 2,
              "version_minor": 0,
              "model_id": "3c22701967ba446ea90adf30705e1ae8"
            }
          },
          "metadata": {}
        },
        {
          "name": "stdout",
          "text": "------------------------- Epoch 39 -------------------------\nEpoch 39 MAE loss: 0.043584212\nEpoch 39 MAPE metric: 4777.468050632\n",
          "output_type": "stream"
        },
        {
          "output_type": "display_data",
          "data": {
            "text/plain": "Epoch 40:   0%|          | 0/268 [00:00<?, ?it/s]",
            "application/vnd.jupyter.widget-view+json": {
              "version_major": 2,
              "version_minor": 0,
              "model_id": "1ccf48cd55e940ca8fb54e245f6eb6db"
            }
          },
          "metadata": {}
        },
        {
          "name": "stdout",
          "text": "------------------------- Epoch 40 -------------------------\nEpoch 40 MAE loss: 0.043614742\nEpoch 40 MAPE metric: 4767.175241451\n",
          "output_type": "stream"
        },
        {
          "output_type": "display_data",
          "data": {
            "text/plain": "Epoch 41:   0%|          | 0/268 [00:00<?, ?it/s]",
            "application/vnd.jupyter.widget-view+json": {
              "version_major": 2,
              "version_minor": 0,
              "model_id": "b52ce3cc9c144b018b93967488f0cca5"
            }
          },
          "metadata": {}
        },
        {
          "name": "stdout",
          "text": "------------------------- Epoch 41 -------------------------\nEpoch 41 MAE loss: 0.043413663\nEpoch 41 MAPE metric: 4857.987303776\n",
          "output_type": "stream"
        },
        {
          "output_type": "display_data",
          "data": {
            "text/plain": "Epoch 42:   0%|          | 0/268 [00:00<?, ?it/s]",
            "application/vnd.jupyter.widget-view+json": {
              "version_major": 2,
              "version_minor": 0,
              "model_id": "435bf4c585814401b48272861447460a"
            }
          },
          "metadata": {}
        },
        {
          "name": "stdout",
          "text": "------------------------- Epoch 42 -------------------------\nEpoch 42 MAE loss: 0.043288223\nEpoch 42 MAPE metric: 4867.123153558\n",
          "output_type": "stream"
        },
        {
          "output_type": "display_data",
          "data": {
            "text/plain": "Epoch 43:   0%|          | 0/268 [00:00<?, ?it/s]",
            "application/vnd.jupyter.widget-view+json": {
              "version_major": 2,
              "version_minor": 0,
              "model_id": "5c9be68e4e2a47248874423759930175"
            }
          },
          "metadata": {}
        },
        {
          "name": "stdout",
          "text": "------------------------- Epoch 43 -------------------------\nEpoch 43 MAE loss: 0.042951985\nEpoch 43 MAPE metric: 4871.442438434\n",
          "output_type": "stream"
        },
        {
          "output_type": "display_data",
          "data": {
            "text/plain": "Epoch 44:   0%|          | 0/268 [00:00<?, ?it/s]",
            "application/vnd.jupyter.widget-view+json": {
              "version_major": 2,
              "version_minor": 0,
              "model_id": "a866d69f759c4904b85ef93ee8b3ba61"
            }
          },
          "metadata": {}
        },
        {
          "name": "stdout",
          "text": "------------------------- Epoch 44 -------------------------\nEpoch 44 MAE loss: 0.042836194\nEpoch 44 MAPE metric: 5036.895360553\n",
          "output_type": "stream"
        },
        {
          "output_type": "display_data",
          "data": {
            "text/plain": "Epoch 45:   0%|          | 0/268 [00:00<?, ?it/s]",
            "application/vnd.jupyter.widget-view+json": {
              "version_major": 2,
              "version_minor": 0,
              "model_id": "db38355981e349f2986602ef4a74b472"
            }
          },
          "metadata": {}
        },
        {
          "name": "stdout",
          "text": "------------------------- Epoch 45 -------------------------\nEpoch 45 MAE loss: 0.042846879\nEpoch 45 MAPE metric: 5069.832987752\n",
          "output_type": "stream"
        },
        {
          "output_type": "display_data",
          "data": {
            "text/plain": "Epoch 46:   0%|          | 0/268 [00:00<?, ?it/s]",
            "application/vnd.jupyter.widget-view+json": {
              "version_major": 2,
              "version_minor": 0,
              "model_id": "322ab2289cc3484fbb01638371bc90ae"
            }
          },
          "metadata": {}
        },
        {
          "name": "stdout",
          "text": "------------------------- Epoch 46 -------------------------\nEpoch 46 MAE loss: 0.042877710\nEpoch 46 MAPE metric: 5113.845479728\n",
          "output_type": "stream"
        },
        {
          "output_type": "display_data",
          "data": {
            "text/plain": "Epoch 47:   0%|          | 0/268 [00:00<?, ?it/s]",
            "application/vnd.jupyter.widget-view+json": {
              "version_major": 2,
              "version_minor": 0,
              "model_id": "fd1242a497174fa9901a93cacfaf13f1"
            }
          },
          "metadata": {}
        },
        {
          "name": "stdout",
          "text": "------------------------- Epoch 47 -------------------------\nEpoch 47 MAE loss: 0.042778149\nEpoch 47 MAPE metric: 5172.102443321\n",
          "output_type": "stream"
        },
        {
          "output_type": "display_data",
          "data": {
            "text/plain": "Epoch 48:   0%|          | 0/268 [00:00<?, ?it/s]",
            "application/vnd.jupyter.widget-view+json": {
              "version_major": 2,
              "version_minor": 0,
              "model_id": "a81e2b7f193243f287ee4e35042513f0"
            }
          },
          "metadata": {}
        },
        {
          "name": "stdout",
          "text": "------------------------- Epoch 48 -------------------------\nEpoch 48 MAE loss: 0.042939141\nEpoch 48 MAPE metric: 5225.324670102\n",
          "output_type": "stream"
        },
        {
          "output_type": "display_data",
          "data": {
            "text/plain": "Epoch 49:   0%|          | 0/268 [00:00<?, ?it/s]",
            "application/vnd.jupyter.widget-view+json": {
              "version_major": 2,
              "version_minor": 0,
              "model_id": "72e7db78307b41bea9670c1f181660fe"
            }
          },
          "metadata": {}
        },
        {
          "name": "stdout",
          "text": "------------------------- Epoch 49 -------------------------\nEpoch 49 MAE loss: 0.042484682\nEpoch 49 MAPE metric: 5213.866169905\n",
          "output_type": "stream"
        },
        {
          "output_type": "display_data",
          "data": {
            "text/plain": "Epoch 50:   0%|          | 0/268 [00:00<?, ?it/s]",
            "application/vnd.jupyter.widget-view+json": {
              "version_major": 2,
              "version_minor": 0,
              "model_id": "8eca0bf10e9944dab76d380f59a8d1c6"
            }
          },
          "metadata": {}
        },
        {
          "name": "stdout",
          "text": "------------------------- Epoch 50 -------------------------\nEpoch 50 MAE loss: 0.042793392\nEpoch 50 MAPE metric: 5345.621503159\nTraining complete!\n",
          "output_type": "stream"
        }
      ]
    },
    {
      "cell_type": "code",
      "source": [
        "# Plot the history of loss\n",
        "plt.plot(range(num_epochs), loss_info_LSTM)\n",
        "plt.title('Loss(MAE) history')\n",
        "plt.xlabel('Epoch')\n",
        "plt.ylabel('Loss')\n",
        "plt.show()\n",
        "\n",
        "# Plot the history of metric result\n",
        "plt.plot(range(num_epochs), metric_info_LSTM)\n",
        "plt.title('Metric(MAPE) result history')\n",
        "plt.xlabel('Epoch')\n",
        "plt.ylabel('Metric result')\n",
        "plt.show()"
      ],
      "metadata": {
        "execution": {
          "iopub.status.busy": "2023-05-20T13:32:52.946776Z",
          "iopub.execute_input": "2023-05-20T13:32:52.947693Z",
          "iopub.status.idle": "2023-05-20T13:32:53.451178Z",
          "shell.execute_reply.started": "2023-05-20T13:32:52.947658Z",
          "shell.execute_reply": "2023-05-20T13:32:53.450265Z"
        },
        "trusted": true,
        "id": "7V07yb6WeDtR",
        "outputId": "5f18df7a-7430-4c70-e2ac-db06eca98faf"
      },
      "execution_count": null,
      "outputs": [
        {
          "output_type": "display_data",
          "data": {
            "text/plain": "<Figure size 640x480 with 1 Axes>",
            "image/png": "[encoded data removed]"
          },
          "metadata": {}
        },
        {
          "output_type": "display_data",
          "data": {
            "text/plain": "<Figure size 640x480 with 1 Axes>",
            "image/png": "[encoded data removed]"
          },
          "metadata": {}
        }
      ]
    },
    {
      "cell_type": "code",
      "source": [
        "# Testing model's performance on our dataset\n",
        "x_test_tensor = torch.tensor(x_test, dtype=torch.float32).to(device)\n",
        "y_test_tensor = torch.tensor(y_test, dtype=torch.float32).to(device)"
      ],
      "metadata": {
        "execution": {
          "iopub.status.busy": "2023-05-20T13:32:53.452477Z",
          "iopub.execute_input": "2023-05-20T13:32:53.453441Z",
          "iopub.status.idle": "2023-05-20T13:32:53.461822Z",
          "shell.execute_reply.started": "2023-05-20T13:32:53.453402Z",
          "shell.execute_reply": "2023-05-20T13:32:53.460896Z"
        },
        "trusted": true,
        "id": "9L7vXlkoeDtT"
      },
      "execution_count": null,
      "outputs": []
    },
    {
      "cell_type": "code",
      "source": [
        "running_loss = 0.0                                             # MAE Loss\n",
        "running_metric = 0.0                                           # MAPE metric\n",
        "\n",
        "batch_size = 1\n",
        "modPred_LSTM = []\n",
        "GroundTruth = []\n",
        "for i in tqdm(range(0, len(x_test_tensor), batch_size), desc=f\"Train set inference ...\"):\n",
        "  \n",
        "        # Get batch of inputs and targets\n",
        "        batch_x = x_test_tensor[i:i+batch_size]\n",
        "        batch_y = y_test_tensor[i:i+batch_size]\n",
        "        \n",
        "        # Reshape input tensor\n",
        "        batch_x = batch_x.view(-1, window_length, features)\n",
        "\n",
        "        # Forward pass\n",
        "        with torch.inference_mode():\n",
        "            modelLSTM.eval()\n",
        "            outputs = modelLSTM(batch_x)\n",
        "\n",
        "        if batch_size == 1:\n",
        "            loss = criterion(outputs.view(-1).to(outputs.device), batch_y.to(outputs.device))\n",
        "            metric = metricc(outputs.view(-1).to(outputs.device), batch_y.to(outputs.device))\n",
        "            if outputs.view(-1).cpu().detach() < 0:\n",
        "                modPred_LSTM.append(0)\n",
        "            else: \n",
        "                modPred_LSTM.append(outputs.view(-1).cpu().detach())\n",
        "            GroundTruth.append(torch.tensor([batch_y]).cpu().detach())\n",
        "        \n",
        "        else:\n",
        "            loss = criterion(outputs.view(-1), batch_y)\n",
        "            metric = metricc(outputs.view(-1), batch_y)\n",
        "            if outputs.view(-1).cpu().detach() < 0:\n",
        "                modPred_LSTM.append(0)\n",
        "            else: \n",
        "                modPred_LSTM.append(outputs.view(-1).cpu().detach())\n",
        "            GroundTruth.append(batch_y.cpu().detach())\n",
        "          \n",
        "        running_loss += loss.item()\n",
        "        running_metric += metric.item()\n",
        "\n",
        "test_loss = running_loss / (len(x_train) / batch_size)\n",
        "test_metric = running_metric / (len(x_train) / batch_size)\n",
        "print(\"-\"*25, \"TEST LOSS\", \"-\"*25)\n",
        "print(f\"Test MAE loss: {test_loss:.9f}\")\n",
        "print(f\"Test MAPE metric: {test_metric:.9f}\")"
      ],
      "metadata": {
        "execution": {
          "iopub.status.busy": "2023-05-20T13:32:53.463329Z",
          "iopub.execute_input": "2023-05-20T13:32:53.463744Z",
          "iopub.status.idle": "2023-05-20T13:32:57.722793Z",
          "shell.execute_reply.started": "2023-05-20T13:32:53.463708Z",
          "shell.execute_reply": "2023-05-20T13:32:57.721712Z"
        },
        "trusted": true,
        "id": "63e-_W3_eDtU",
        "outputId": "62f1bf2d-2a0b-4092-a4ba-ccb533570e52",
        "colab": {
          "referenced_widgets": [
            "80ad8f71ea8e48a3ac2fcde1ac141463"
          ]
        }
      },
      "execution_count": null,
      "outputs": [
        {
          "output_type": "display_data",
          "data": {
            "text/plain": "Train set inference ...:   0%|          | 0/480 [00:00<?, ?it/s]",
            "application/vnd.jupyter.widget-view+json": {
              "version_major": 2,
              "version_minor": 0,
              "model_id": "80ad8f71ea8e48a3ac2fcde1ac141463"
            }
          },
          "metadata": {}
        },
        {
          "name": "stdout",
          "text": "------------------------- TEST LOSS -------------------------\nTest MAE loss: 0.000486032\nTest MAPE metric: 49.389842354\n",
          "output_type": "stream"
        }
      ]
    },
    {
      "cell_type": "code",
      "source": [
        "plt.plot(modPred_LSTM)\n",
        "plt.plot(GroundTruth)\n",
        "plt.title('Test Dataset Prediction vs Actual data plot')\n",
        "plt.legend(['predicted', 'actual'])\n",
        "plt.show()"
      ],
      "metadata": {
        "execution": {
          "iopub.status.busy": "2023-05-20T13:32:57.728310Z",
          "iopub.execute_input": "2023-05-20T13:32:57.728678Z",
          "iopub.status.idle": "2023-05-20T13:32:57.985105Z",
          "shell.execute_reply.started": "2023-05-20T13:32:57.728644Z",
          "shell.execute_reply": "2023-05-20T13:32:57.984126Z"
        },
        "trusted": true,
        "id": "PeDC6rtReDtV",
        "outputId": "a4cfefc1-3068-4024-c9a1-64b80eeff77c"
      },
      "execution_count": null,
      "outputs": [
        {
          "output_type": "display_data",
          "data": {
            "text/plain": "<Figure size 640x480 with 1 Axes>",
            "image/png": "[encoded data removed]"
          },
          "metadata": {}
        }
      ]
    }
  ]
}