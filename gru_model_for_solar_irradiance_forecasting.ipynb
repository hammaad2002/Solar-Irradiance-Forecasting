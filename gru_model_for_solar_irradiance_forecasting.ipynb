{
  "metadata": {
    "kernelspec": {
      "language": "python",
      "display_name": "Python 3",
      "name": "python3"
    },
    "language_info": {
      "name": "python",
      "version": "3.10.10",
      "mimetype": "text/x-python",
      "codemirror_mode": {
        "name": "ipython",
        "version": 3
      },
      "pygments_lexer": "ipython3",
      "nbconvert_exporter": "python",
      "file_extension": ".py"
    },
    "colab": {
      "provenance": [],
      "include_colab_link": true
    }
  },
  "nbformat_minor": 0,
  "nbformat": 4,
  "cells": [
    {
      "cell_type": "markdown",
      "metadata": {
        "id": "view-in-github",
        "colab_type": "text"
      },
      "source": [
        "<a href=\"https://colab.research.google.com/github/hammaad2002/Solar-Irradiance-Forecasting/blob/main/gru_model_for_solar_irradiance_forecasting.ipynb\" target=\"_parent\"><img src=\"https://colab.research.google.com/assets/colab-badge.svg\" alt=\"Open In Colab\"/></a>"
      ]
    },
    {
      "cell_type": "code",
      "source": [
        "%%capture\n",
        "!git clone https://github.com/hammaad2002/Solar-Irradiance-Forecasting.git\n",
        "!pip install torchmetrics"
      ],
      "metadata": {
        "execution": {
          "iopub.status.busy": "2023-05-20T13:47:35.696715Z",
          "iopub.execute_input": "2023-05-20T13:47:35.699691Z",
          "iopub.status.idle": "2023-05-20T13:47:52.251149Z",
          "shell.execute_reply.started": "2023-05-20T13:47:35.699618Z",
          "shell.execute_reply": "2023-05-20T13:47:52.249843Z"
        },
        "trusted": true,
        "id": "UAMbD3iC_vEc"
      },
      "execution_count": null,
      "outputs": []
    },
    {
      "cell_type": "code",
      "source": [
        "import torch\n",
        "import torch.nn as nn\n",
        "import torch.optim as optim\n",
        "import pandas as pd\n",
        "import numpy as np\n",
        "from tqdm.notebook import tqdm\n",
        "from torchmetrics import MeanAbsoluteError, MeanAbsolutePercentageError\n",
        "import matplotlib.pyplot as plt\n",
        "import random\n",
        "from sklearn.preprocessing import MinMaxScaler\n",
        "import warnings\n",
        "\n",
        "warnings.filterwarnings('ignore')"
      ],
      "metadata": {
        "execution": {
          "iopub.status.busy": "2023-05-20T13:47:52.253629Z",
          "iopub.execute_input": "2023-05-20T13:47:52.254030Z",
          "iopub.status.idle": "2023-05-20T13:48:03.387031Z",
          "shell.execute_reply.started": "2023-05-20T13:47:52.253990Z",
          "shell.execute_reply": "2023-05-20T13:48:03.386081Z"
        },
        "trusted": true,
        "id": "MnCs8R4s_vEh",
        "outputId": "f797b72e-b0ea-4726-ada2-e6ee5e23d387"
      },
      "execution_count": null,
      "outputs": [
        {
          "name": "stderr",
          "text": "/opt/conda/lib/python3.10/site-packages/scipy/__init__.py:146: UserWarning: A NumPy version >=1.16.5 and <1.23.0 is required for this version of SciPy (detected version 1.23.5\n  warnings.warn(f\"A NumPy version >={np_minversion} and <{np_maxversion}\"\n",
          "output_type": "stream"
        }
      ]
    },
    {
      "cell_type": "code",
      "source": [
        "# Assuming your DataFrame is named 'df'\n",
        "desired_starting_row = 3\n",
        "df = pd.read_csv('/kaggle/working/Solar-Irradiance-Forecasting/Solar Irradiance Dataset/2017Solar.csv', skiprows=desired_starting_row - 1)\n",
        "df"
      ],
      "metadata": {
        "execution": {
          "iopub.status.busy": "2023-05-20T13:48:03.388418Z",
          "iopub.execute_input": "2023-05-20T13:48:03.388800Z",
          "iopub.status.idle": "2023-05-20T13:48:03.482718Z",
          "shell.execute_reply.started": "2023-05-20T13:48:03.388765Z",
          "shell.execute_reply": "2023-05-20T13:48:03.481750Z"
        },
        "trusted": true,
        "id": "XGedmwnB_vEl",
        "outputId": "a1f97bf6-e273-4283-e26d-16f28eb24440"
      },
      "execution_count": null,
      "outputs": [
        {
          "execution_count": 3,
          "output_type": "execute_result",
          "data": {
            "text/plain": "       Year  Month  Day  Hour  Minute  GHI  Temperature  Dew Point  \\\n0      2017      1    1     0       0    0         10.6      -17.4   \n1      2017      1    1     0      15    0         10.5      -17.4   \n2      2017      1    1     0      30    0         10.4      -17.4   \n3      2017      1    1     0      45    0         10.2      -17.3   \n4      2017      1    1     1       0    0         10.1      -17.3   \n...     ...    ...  ...   ...     ...  ...          ...        ...   \n35035  2017     12   31    22      45    0         11.2      -17.4   \n35036  2017     12   31    23       0    0         11.1      -17.4   \n35037  2017     12   31    23      15    0         11.0      -17.4   \n35038  2017     12   31    23      30    0         10.9      -17.4   \n35039  2017     12   31    23      45    0         10.7      -17.4   \n\n       Relative Humidity  Pressure  Wind Direction  Wind Speed  \\\n0                  12.29       949             103         0.7   \n1                  12.37       949             107         0.7   \n2                  12.45       949             111         0.7   \n3                  12.74       949             115         0.7   \n4                  12.83       949             120         0.7   \n...                  ...       ...             ...         ...   \n35035              11.78       950              81         0.8   \n35036              11.86       950              85         0.8   \n35037              11.93       949              89         0.7   \n35038              12.01       949              94         0.7   \n35039              12.21       949              99         0.7   \n\n       Precipitable Water  \n0                     0.7  \n1                     0.7  \n2                     0.7  \n3                     0.7  \n4                     0.7  \n...                   ...  \n35035                 0.7  \n35036                 0.7  \n35037                 0.7  \n35038                 0.7  \n35039                 0.7  \n\n[35040 rows x 13 columns]",
            "text/html": "<div>\n<style scoped>\n    .dataframe tbody tr th:only-of-type {\n        vertical-align: middle;\n    }\n\n    .dataframe tbody tr th {\n        vertical-align: top;\n    }\n\n    .dataframe thead th {\n        text-align: right;\n    }\n</style>\n<table border=\"1\" class=\"dataframe\">\n  <thead>\n    <tr style=\"text-align: right;\">\n      <th></th>\n      <th>Year</th>\n      <th>Month</th>\n      <th>Day</th>\n      <th>Hour</th>\n      <th>Minute</th>\n      <th>GHI</th>\n      <th>Temperature</th>\n      <th>Dew Point</th>\n      <th>Relative Humidity</th>\n      <th>Pressure</th>\n      <th>Wind Direction</th>\n      <th>Wind Speed</th>\n      <th>Precipitable Water</th>\n    </tr>\n  </thead>\n  <tbody>\n    <tr>\n      <th>0</th>\n      <td>2017</td>\n      <td>1</td>\n      <td>1</td>\n      <td>0</td>\n      <td>0</td>\n      <td>0</td>\n      <td>10.6</td>\n      <td>-17.4</td>\n      <td>12.29</td>\n      <td>949</td>\n      <td>103</td>\n      <td>0.7</td>\n      <td>0.7</td>\n    </tr>\n    <tr>\n      <th>1</th>\n      <td>2017</td>\n      <td>1</td>\n      <td>1</td>\n      <td>0</td>\n      <td>15</td>\n      <td>0</td>\n      <td>10.5</td>\n      <td>-17.4</td>\n      <td>12.37</td>\n      <td>949</td>\n      <td>107</td>\n      <td>0.7</td>\n      <td>0.7</td>\n    </tr>\n    <tr>\n      <th>2</th>\n      <td>2017</td>\n      <td>1</td>\n      <td>1</td>\n      <td>0</td>\n      <td>30</td>\n      <td>0</td>\n      <td>10.4</td>\n      <td>-17.4</td>\n      <td>12.45</td>\n      <td>949</td>\n      <td>111</td>\n      <td>0.7</td>\n      <td>0.7</td>\n    </tr>\n    <tr>\n      <th>3</th>\n      <td>2017</td>\n      <td>1</td>\n      <td>1</td>\n      <td>0</td>\n      <td>45</td>\n      <td>0</td>\n      <td>10.2</td>\n      <td>-17.3</td>\n      <td>12.74</td>\n      <td>949</td>\n      <td>115</td>\n      <td>0.7</td>\n      <td>0.7</td>\n    </tr>\n    <tr>\n      <th>4</th>\n      <td>2017</td>\n      <td>1</td>\n      <td>1</td>\n      <td>1</td>\n      <td>0</td>\n      <td>0</td>\n      <td>10.1</td>\n      <td>-17.3</td>\n      <td>12.83</td>\n      <td>949</td>\n      <td>120</td>\n      <td>0.7</td>\n      <td>0.7</td>\n    </tr>\n    <tr>\n      <th>...</th>\n      <td>...</td>\n      <td>...</td>\n      <td>...</td>\n      <td>...</td>\n      <td>...</td>\n      <td>...</td>\n      <td>...</td>\n      <td>...</td>\n      <td>...</td>\n      <td>...</td>\n      <td>...</td>\n      <td>...</td>\n      <td>...</td>\n    </tr>\n    <tr>\n      <th>35035</th>\n      <td>2017</td>\n      <td>12</td>\n      <td>31</td>\n      <td>22</td>\n      <td>45</td>\n      <td>0</td>\n      <td>11.2</td>\n      <td>-17.4</td>\n      <td>11.78</td>\n      <td>950</td>\n      <td>81</td>\n      <td>0.8</td>\n      <td>0.7</td>\n    </tr>\n    <tr>\n      <th>35036</th>\n      <td>2017</td>\n      <td>12</td>\n      <td>31</td>\n      <td>23</td>\n      <td>0</td>\n      <td>0</td>\n      <td>11.1</td>\n      <td>-17.4</td>\n      <td>11.86</td>\n      <td>950</td>\n      <td>85</td>\n      <td>0.8</td>\n      <td>0.7</td>\n    </tr>\n    <tr>\n      <th>35037</th>\n      <td>2017</td>\n      <td>12</td>\n      <td>31</td>\n      <td>23</td>\n      <td>15</td>\n      <td>0</td>\n      <td>11.0</td>\n      <td>-17.4</td>\n      <td>11.93</td>\n      <td>949</td>\n      <td>89</td>\n      <td>0.7</td>\n      <td>0.7</td>\n    </tr>\n    <tr>\n      <th>35038</th>\n      <td>2017</td>\n      <td>12</td>\n      <td>31</td>\n      <td>23</td>\n      <td>30</td>\n      <td>0</td>\n      <td>10.9</td>\n      <td>-17.4</td>\n      <td>12.01</td>\n      <td>949</td>\n      <td>94</td>\n      <td>0.7</td>\n      <td>0.7</td>\n    </tr>\n    <tr>\n      <th>35039</th>\n      <td>2017</td>\n      <td>12</td>\n      <td>31</td>\n      <td>23</td>\n      <td>45</td>\n      <td>0</td>\n      <td>10.7</td>\n      <td>-17.4</td>\n      <td>12.21</td>\n      <td>949</td>\n      <td>99</td>\n      <td>0.7</td>\n      <td>0.7</td>\n    </tr>\n  </tbody>\n</table>\n<p>35040 rows × 13 columns</p>\n</div>"
          },
          "metadata": {}
        }
      ]
    },
    {
      "cell_type": "code",
      "source": [
        "workingDf = df.drop(['Year', 'Month', 'Day', 'Hour', 'Minute'], axis = 1)\n",
        "workingDf"
      ],
      "metadata": {
        "execution": {
          "iopub.status.busy": "2023-05-20T13:48:03.485548Z",
          "iopub.execute_input": "2023-05-20T13:48:03.486162Z",
          "iopub.status.idle": "2023-05-20T13:48:03.509688Z",
          "shell.execute_reply.started": "2023-05-20T13:48:03.486125Z",
          "shell.execute_reply": "2023-05-20T13:48:03.508533Z"
        },
        "trusted": true,
        "id": "cKQ4_1Yg_vEv",
        "outputId": "18793fb2-96e8-4fb5-a538-89fba03451d7"
      },
      "execution_count": null,
      "outputs": [
        {
          "execution_count": 4,
          "output_type": "execute_result",
          "data": {
            "text/plain": "       GHI  Temperature  Dew Point  Relative Humidity  Pressure  \\\n0        0         10.6      -17.4              12.29       949   \n1        0         10.5      -17.4              12.37       949   \n2        0         10.4      -17.4              12.45       949   \n3        0         10.2      -17.3              12.74       949   \n4        0         10.1      -17.3              12.83       949   \n...    ...          ...        ...                ...       ...   \n35035    0         11.2      -17.4              11.78       950   \n35036    0         11.1      -17.4              11.86       950   \n35037    0         11.0      -17.4              11.93       949   \n35038    0         10.9      -17.4              12.01       949   \n35039    0         10.7      -17.4              12.21       949   \n\n       Wind Direction  Wind Speed  Precipitable Water  \n0                 103         0.7                 0.7  \n1                 107         0.7                 0.7  \n2                 111         0.7                 0.7  \n3                 115         0.7                 0.7  \n4                 120         0.7                 0.7  \n...               ...         ...                 ...  \n35035              81         0.8                 0.7  \n35036              85         0.8                 0.7  \n35037              89         0.7                 0.7  \n35038              94         0.7                 0.7  \n35039              99         0.7                 0.7  \n\n[35040 rows x 8 columns]",
            "text/html": "<div>\n<style scoped>\n    .dataframe tbody tr th:only-of-type {\n        vertical-align: middle;\n    }\n\n    .dataframe tbody tr th {\n        vertical-align: top;\n    }\n\n    .dataframe thead th {\n        text-align: right;\n    }\n</style>\n<table border=\"1\" class=\"dataframe\">\n  <thead>\n    <tr style=\"text-align: right;\">\n      <th></th>\n      <th>GHI</th>\n      <th>Temperature</th>\n      <th>Dew Point</th>\n      <th>Relative Humidity</th>\n      <th>Pressure</th>\n      <th>Wind Direction</th>\n      <th>Wind Speed</th>\n      <th>Precipitable Water</th>\n    </tr>\n  </thead>\n  <tbody>\n    <tr>\n      <th>0</th>\n      <td>0</td>\n      <td>10.6</td>\n      <td>-17.4</td>\n      <td>12.29</td>\n      <td>949</td>\n      <td>103</td>\n      <td>0.7</td>\n      <td>0.7</td>\n    </tr>\n    <tr>\n      <th>1</th>\n      <td>0</td>\n      <td>10.5</td>\n      <td>-17.4</td>\n      <td>12.37</td>\n      <td>949</td>\n      <td>107</td>\n      <td>0.7</td>\n      <td>0.7</td>\n    </tr>\n    <tr>\n      <th>2</th>\n      <td>0</td>\n      <td>10.4</td>\n      <td>-17.4</td>\n      <td>12.45</td>\n      <td>949</td>\n      <td>111</td>\n      <td>0.7</td>\n      <td>0.7</td>\n    </tr>\n    <tr>\n      <th>3</th>\n      <td>0</td>\n      <td>10.2</td>\n      <td>-17.3</td>\n      <td>12.74</td>\n      <td>949</td>\n      <td>115</td>\n      <td>0.7</td>\n      <td>0.7</td>\n    </tr>\n    <tr>\n      <th>4</th>\n      <td>0</td>\n      <td>10.1</td>\n      <td>-17.3</td>\n      <td>12.83</td>\n      <td>949</td>\n      <td>120</td>\n      <td>0.7</td>\n      <td>0.7</td>\n    </tr>\n    <tr>\n      <th>...</th>\n      <td>...</td>\n      <td>...</td>\n      <td>...</td>\n      <td>...</td>\n      <td>...</td>\n      <td>...</td>\n      <td>...</td>\n      <td>...</td>\n    </tr>\n    <tr>\n      <th>35035</th>\n      <td>0</td>\n      <td>11.2</td>\n      <td>-17.4</td>\n      <td>11.78</td>\n      <td>950</td>\n      <td>81</td>\n      <td>0.8</td>\n      <td>0.7</td>\n    </tr>\n    <tr>\n      <th>35036</th>\n      <td>0</td>\n      <td>11.1</td>\n      <td>-17.4</td>\n      <td>11.86</td>\n      <td>950</td>\n      <td>85</td>\n      <td>0.8</td>\n      <td>0.7</td>\n    </tr>\n    <tr>\n      <th>35037</th>\n      <td>0</td>\n      <td>11.0</td>\n      <td>-17.4</td>\n      <td>11.93</td>\n      <td>949</td>\n      <td>89</td>\n      <td>0.7</td>\n      <td>0.7</td>\n    </tr>\n    <tr>\n      <th>35038</th>\n      <td>0</td>\n      <td>10.9</td>\n      <td>-17.4</td>\n      <td>12.01</td>\n      <td>949</td>\n      <td>94</td>\n      <td>0.7</td>\n      <td>0.7</td>\n    </tr>\n    <tr>\n      <th>35039</th>\n      <td>0</td>\n      <td>10.7</td>\n      <td>-17.4</td>\n      <td>12.21</td>\n      <td>949</td>\n      <td>99</td>\n      <td>0.7</td>\n      <td>0.7</td>\n    </tr>\n  </tbody>\n</table>\n<p>35040 rows × 8 columns</p>\n</div>"
          },
          "metadata": {}
        }
      ]
    },
    {
      "cell_type": "code",
      "source": [
        "columns = workingDf.columns.tolist()\n",
        "columns[0], columns[-1] = columns[-1], columns[0]\n",
        "workingDf = workingDf[columns]\n",
        "workingDf"
      ],
      "metadata": {
        "execution": {
          "iopub.status.busy": "2023-05-20T13:48:03.511746Z",
          "iopub.execute_input": "2023-05-20T13:48:03.512193Z",
          "iopub.status.idle": "2023-05-20T13:48:03.537645Z",
          "shell.execute_reply.started": "2023-05-20T13:48:03.512153Z",
          "shell.execute_reply": "2023-05-20T13:48:03.536702Z"
        },
        "trusted": true,
        "id": "0FxBsTw3_vEy",
        "outputId": "098b3b8a-a745-4996-d77d-82ed5f0091dd"
      },
      "execution_count": null,
      "outputs": [
        {
          "execution_count": 5,
          "output_type": "execute_result",
          "data": {
            "text/plain": "       Precipitable Water  Temperature  Dew Point  Relative Humidity  \\\n0                     0.7         10.6      -17.4              12.29   \n1                     0.7         10.5      -17.4              12.37   \n2                     0.7         10.4      -17.4              12.45   \n3                     0.7         10.2      -17.3              12.74   \n4                     0.7         10.1      -17.3              12.83   \n...                   ...          ...        ...                ...   \n35035                 0.7         11.2      -17.4              11.78   \n35036                 0.7         11.1      -17.4              11.86   \n35037                 0.7         11.0      -17.4              11.93   \n35038                 0.7         10.9      -17.4              12.01   \n35039                 0.7         10.7      -17.4              12.21   \n\n       Pressure  Wind Direction  Wind Speed  GHI  \n0           949             103         0.7    0  \n1           949             107         0.7    0  \n2           949             111         0.7    0  \n3           949             115         0.7    0  \n4           949             120         0.7    0  \n...         ...             ...         ...  ...  \n35035       950              81         0.8    0  \n35036       950              85         0.8    0  \n35037       949              89         0.7    0  \n35038       949              94         0.7    0  \n35039       949              99         0.7    0  \n\n[35040 rows x 8 columns]",
            "text/html": "<div>\n<style scoped>\n    .dataframe tbody tr th:only-of-type {\n        vertical-align: middle;\n    }\n\n    .dataframe tbody tr th {\n        vertical-align: top;\n    }\n\n    .dataframe thead th {\n        text-align: right;\n    }\n</style>\n<table border=\"1\" class=\"dataframe\">\n  <thead>\n    <tr style=\"text-align: right;\">\n      <th></th>\n      <th>Precipitable Water</th>\n      <th>Temperature</th>\n      <th>Dew Point</th>\n      <th>Relative Humidity</th>\n      <th>Pressure</th>\n      <th>Wind Direction</th>\n      <th>Wind Speed</th>\n      <th>GHI</th>\n    </tr>\n  </thead>\n  <tbody>\n    <tr>\n      <th>0</th>\n      <td>0.7</td>\n      <td>10.6</td>\n      <td>-17.4</td>\n      <td>12.29</td>\n      <td>949</td>\n      <td>103</td>\n      <td>0.7</td>\n      <td>0</td>\n    </tr>\n    <tr>\n      <th>1</th>\n      <td>0.7</td>\n      <td>10.5</td>\n      <td>-17.4</td>\n      <td>12.37</td>\n      <td>949</td>\n      <td>107</td>\n      <td>0.7</td>\n      <td>0</td>\n    </tr>\n    <tr>\n      <th>2</th>\n      <td>0.7</td>\n      <td>10.4</td>\n      <td>-17.4</td>\n      <td>12.45</td>\n      <td>949</td>\n      <td>111</td>\n      <td>0.7</td>\n      <td>0</td>\n    </tr>\n    <tr>\n      <th>3</th>\n      <td>0.7</td>\n      <td>10.2</td>\n      <td>-17.3</td>\n      <td>12.74</td>\n      <td>949</td>\n      <td>115</td>\n      <td>0.7</td>\n      <td>0</td>\n    </tr>\n    <tr>\n      <th>4</th>\n      <td>0.7</td>\n      <td>10.1</td>\n      <td>-17.3</td>\n      <td>12.83</td>\n      <td>949</td>\n      <td>120</td>\n      <td>0.7</td>\n      <td>0</td>\n    </tr>\n    <tr>\n      <th>...</th>\n      <td>...</td>\n      <td>...</td>\n      <td>...</td>\n      <td>...</td>\n      <td>...</td>\n      <td>...</td>\n      <td>...</td>\n      <td>...</td>\n    </tr>\n    <tr>\n      <th>35035</th>\n      <td>0.7</td>\n      <td>11.2</td>\n      <td>-17.4</td>\n      <td>11.78</td>\n      <td>950</td>\n      <td>81</td>\n      <td>0.8</td>\n      <td>0</td>\n    </tr>\n    <tr>\n      <th>35036</th>\n      <td>0.7</td>\n      <td>11.1</td>\n      <td>-17.4</td>\n      <td>11.86</td>\n      <td>950</td>\n      <td>85</td>\n      <td>0.8</td>\n      <td>0</td>\n    </tr>\n    <tr>\n      <th>35037</th>\n      <td>0.7</td>\n      <td>11.0</td>\n      <td>-17.4</td>\n      <td>11.93</td>\n      <td>949</td>\n      <td>89</td>\n      <td>0.7</td>\n      <td>0</td>\n    </tr>\n    <tr>\n      <th>35038</th>\n      <td>0.7</td>\n      <td>10.9</td>\n      <td>-17.4</td>\n      <td>12.01</td>\n      <td>949</td>\n      <td>94</td>\n      <td>0.7</td>\n      <td>0</td>\n    </tr>\n    <tr>\n      <th>35039</th>\n      <td>0.7</td>\n      <td>10.7</td>\n      <td>-17.4</td>\n      <td>12.21</td>\n      <td>949</td>\n      <td>99</td>\n      <td>0.7</td>\n      <td>0</td>\n    </tr>\n  </tbody>\n</table>\n<p>35040 rows × 8 columns</p>\n</div>"
          },
          "metadata": {}
        }
      ]
    },
    {
      "cell_type": "code",
      "source": [
        "target = workingDf['GHI']\n",
        "target.plot()\n",
        "plt.show()"
      ],
      "metadata": {
        "execution": {
          "iopub.status.busy": "2023-05-20T13:48:03.539273Z",
          "iopub.execute_input": "2023-05-20T13:48:03.539621Z",
          "iopub.status.idle": "2023-05-20T13:48:03.810657Z",
          "shell.execute_reply.started": "2023-05-20T13:48:03.539590Z",
          "shell.execute_reply": "2023-05-20T13:48:03.809659Z"
        },
        "trusted": true,
        "id": "kRbNxT_i_vE0",
        "outputId": "3a1965e1-510a-4177-a40b-b1c8b5f681ae"
      },
      "execution_count": null,
      "outputs": [
        {
          "output_type": "display_data",
          "data": {
            "text/plain": "<Figure size 640x480 with 1 Axes>",
            "image/png": "[encoded data removed]"
          },
          "metadata": {}
        }
      ]
    },
    {
      "cell_type": "code",
      "source": [
        "random_day = random.randint(1, 365)\n",
        "random_day"
      ],
      "metadata": {
        "execution": {
          "iopub.status.busy": "2023-05-20T13:48:03.812250Z",
          "iopub.execute_input": "2023-05-20T13:48:03.812587Z",
          "iopub.status.idle": "2023-05-20T13:48:03.819123Z",
          "shell.execute_reply.started": "2023-05-20T13:48:03.812555Z",
          "shell.execute_reply": "2023-05-20T13:48:03.818113Z"
        },
        "trusted": true,
        "id": "_-CVi8Sk_vE2",
        "outputId": "b198ae78-ca7b-4527-d3d1-6b238fcac7e9"
      },
      "execution_count": null,
      "outputs": [
        {
          "execution_count": 7,
          "output_type": "execute_result",
          "data": {
            "text/plain": "43"
          },
          "metadata": {}
        }
      ]
    },
    {
      "cell_type": "code",
      "source": [
        "random_day = random.randint(4, 365) # starting from 4th day so that I can write \"th\" in the title :)\n",
        "target = workingDf['GHI'][(random_day-1)*96:(random_day*96)]\n",
        "target.plot()\n",
        "plt.title(str(f\"Plot of {random_day}th day\"))\n",
        "plt.show()"
      ],
      "metadata": {
        "execution": {
          "iopub.status.busy": "2023-05-20T13:48:03.820887Z",
          "iopub.execute_input": "2023-05-20T13:48:03.821583Z",
          "iopub.status.idle": "2023-05-20T13:48:04.035998Z",
          "shell.execute_reply.started": "2023-05-20T13:48:03.821549Z",
          "shell.execute_reply": "2023-05-20T13:48:04.035049Z"
        },
        "trusted": true,
        "id": "9jNCFZ4D_vE5",
        "outputId": "4232044b-ff8a-4981-9cba-dc562e25625f"
      },
      "execution_count": null,
      "outputs": [
        {
          "output_type": "display_data",
          "data": {
            "text/plain": "<Figure size 640x480 with 1 Axes>",
            "image/png": "[encoded data removed]"
          },
          "metadata": {}
        }
      ]
    },
    {
      "cell_type": "code",
      "source": [
        "scaler = MinMaxScaler()\n",
        "df_normalized = pd.DataFrame(scaler.fit_transform(workingDf), columns=workingDf.columns)\n",
        "df_normalized.head(10) # this normalizes the data in between range [0, 1]"
      ],
      "metadata": {
        "execution": {
          "iopub.status.busy": "2023-05-20T13:48:04.039126Z",
          "iopub.execute_input": "2023-05-20T13:48:04.039411Z",
          "iopub.status.idle": "2023-05-20T13:48:04.067196Z",
          "shell.execute_reply.started": "2023-05-20T13:48:04.039386Z",
          "shell.execute_reply": "2023-05-20T13:48:04.066342Z"
        },
        "trusted": true,
        "id": "NUr8JxOJ_vE9",
        "outputId": "262d3766-71c7-42ad-e4c8-d0af68466fb3"
      },
      "execution_count": null,
      "outputs": [
        {
          "execution_count": 9,
          "output_type": "execute_result",
          "data": {
            "text/plain": "   Precipitable Water  Temperature  Dew Point  Relative Humidity  Pressure  \\\n0            0.166667     0.291743   0.236287           0.122209  0.633333   \n1            0.166667     0.289908   0.236287           0.123159  0.633333   \n2            0.166667     0.288073   0.236287           0.124109  0.633333   \n3            0.166667     0.284404   0.238397           0.127553  0.633333   \n4            0.166667     0.282569   0.238397           0.128622  0.633333   \n5            0.166667     0.280734   0.238397           0.129572  0.633333   \n6            0.166667     0.278899   0.238397           0.130641  0.633333   \n7            0.166667     0.277064   0.240506           0.132660  0.633333   \n8            0.166667     0.275229   0.240506           0.133729  0.633333   \n9            0.166667     0.273394   0.240506           0.134679  0.633333   \n\n   Wind Direction  Wind Speed  GHI  \n0        0.286111    0.043860  0.0  \n1        0.297222    0.043860  0.0  \n2        0.308333    0.043860  0.0  \n3        0.319444    0.043860  0.0  \n4        0.333333    0.043860  0.0  \n5        0.344444    0.035088  0.0  \n6        0.355556    0.035088  0.0  \n7        0.366667    0.035088  0.0  \n8        0.377778    0.035088  0.0  \n9        0.394444    0.035088  0.0  ",
            "text/html": "<div>\n<style scoped>\n    .dataframe tbody tr th:only-of-type {\n        vertical-align: middle;\n    }\n\n    .dataframe tbody tr th {\n        vertical-align: top;\n    }\n\n    .dataframe thead th {\n        text-align: right;\n    }\n</style>\n<table border=\"1\" class=\"dataframe\">\n  <thead>\n    <tr style=\"text-align: right;\">\n      <th></th>\n      <th>Precipitable Water</th>\n      <th>Temperature</th>\n      <th>Dew Point</th>\n      <th>Relative Humidity</th>\n      <th>Pressure</th>\n      <th>Wind Direction</th>\n      <th>Wind Speed</th>\n      <th>GHI</th>\n    </tr>\n  </thead>\n  <tbody>\n    <tr>\n      <th>0</th>\n      <td>0.166667</td>\n      <td>0.291743</td>\n      <td>0.236287</td>\n      <td>0.122209</td>\n      <td>0.633333</td>\n      <td>0.286111</td>\n      <td>0.043860</td>\n      <td>0.0</td>\n    </tr>\n    <tr>\n      <th>1</th>\n      <td>0.166667</td>\n      <td>0.289908</td>\n      <td>0.236287</td>\n      <td>0.123159</td>\n      <td>0.633333</td>\n      <td>0.297222</td>\n      <td>0.043860</td>\n      <td>0.0</td>\n    </tr>\n    <tr>\n      <th>2</th>\n      <td>0.166667</td>\n      <td>0.288073</td>\n      <td>0.236287</td>\n      <td>0.124109</td>\n      <td>0.633333</td>\n      <td>0.308333</td>\n      <td>0.043860</td>\n      <td>0.0</td>\n    </tr>\n    <tr>\n      <th>3</th>\n      <td>0.166667</td>\n      <td>0.284404</td>\n      <td>0.238397</td>\n      <td>0.127553</td>\n      <td>0.633333</td>\n      <td>0.319444</td>\n      <td>0.043860</td>\n      <td>0.0</td>\n    </tr>\n    <tr>\n      <th>4</th>\n      <td>0.166667</td>\n      <td>0.282569</td>\n      <td>0.238397</td>\n      <td>0.128622</td>\n      <td>0.633333</td>\n      <td>0.333333</td>\n      <td>0.043860</td>\n      <td>0.0</td>\n    </tr>\n    <tr>\n      <th>5</th>\n      <td>0.166667</td>\n      <td>0.280734</td>\n      <td>0.238397</td>\n      <td>0.129572</td>\n      <td>0.633333</td>\n      <td>0.344444</td>\n      <td>0.035088</td>\n      <td>0.0</td>\n    </tr>\n    <tr>\n      <th>6</th>\n      <td>0.166667</td>\n      <td>0.278899</td>\n      <td>0.238397</td>\n      <td>0.130641</td>\n      <td>0.633333</td>\n      <td>0.355556</td>\n      <td>0.035088</td>\n      <td>0.0</td>\n    </tr>\n    <tr>\n      <th>7</th>\n      <td>0.166667</td>\n      <td>0.277064</td>\n      <td>0.240506</td>\n      <td>0.132660</td>\n      <td>0.633333</td>\n      <td>0.366667</td>\n      <td>0.035088</td>\n      <td>0.0</td>\n    </tr>\n    <tr>\n      <th>8</th>\n      <td>0.166667</td>\n      <td>0.275229</td>\n      <td>0.240506</td>\n      <td>0.133729</td>\n      <td>0.633333</td>\n      <td>0.377778</td>\n      <td>0.035088</td>\n      <td>0.0</td>\n    </tr>\n    <tr>\n      <th>9</th>\n      <td>0.166667</td>\n      <td>0.273394</td>\n      <td>0.240506</td>\n      <td>0.134679</td>\n      <td>0.633333</td>\n      <td>0.394444</td>\n      <td>0.035088</td>\n      <td>0.0</td>\n    </tr>\n  </tbody>\n</table>\n</div>"
          },
          "metadata": {}
        }
      ]
    },
    {
      "cell_type": "code",
      "source": [
        "class simpleGRU(nn.Module):\n",
        "    def __init__(self, features = 8, prediction = 1, window = 288, horizon = 1):\n",
        "        super(simpleGRU, self).__init__()\n",
        "\n",
        "        self.layer1 = nn.GRU(input_size = 8, hidden_size = 128, \n",
        "                             num_layers = 1, bias = True, \n",
        "                             batch_first = True, dropout = 0.2)\n",
        "        \n",
        "        self.activation1 = nn.Tanh()\n",
        "        \n",
        "        self.layer2 = nn.GRU(input_size = 128, hidden_size = 64,\n",
        "                             num_layers = 1, bias = True,\n",
        "                             batch_first = True, dropout = 0.2)\n",
        "\n",
        "        self.activation2 = nn.Tanh()\n",
        "        \n",
        "        self.layer3 = nn.GRU(input_size = 64, hidden_size = 32,\n",
        "                             num_layers = 1, bias = True,\n",
        "                             batch_first = True, dropout = 0.2)\n",
        "        \n",
        "        self.activation3 = nn.Tanh()\n",
        "        \n",
        "        self.layer4 = nn.Linear(in_features = 32, out_features = 1)\n",
        "       \n",
        "        self.activation4 = nn.GELU()\n",
        "        \n",
        "        self.drop = nn.Dropout(p=0.5)\n",
        "\n",
        "        self.layer5 = nn.Linear(in_features = window, out_features = horizon)\n",
        "\n",
        "        self.activation5 = nn.GELU()\n",
        "\n",
        "    def forward(self, x):\n",
        "\n",
        "        x = self.layer1(x)\n",
        "        x = self.activation1(x[0])\n",
        "        x = self.layer2(x)\n",
        "        x = self.activation2(x[0])\n",
        "        x = self.layer3(x)\n",
        "        x = self.activation3(x[0])\n",
        "        x = self.layer4(x)\n",
        "        x = self.activation4(x)\n",
        "        x = self.drop(x)\n",
        "        x = x.transpose(1, 2)\n",
        "        x = self.layer5(x)\n",
        "        x = self.activation5(x)\n",
        "        return x"
      ],
      "metadata": {
        "execution": {
          "iopub.status.busy": "2023-05-20T13:48:04.071875Z",
          "iopub.execute_input": "2023-05-20T13:48:04.072151Z",
          "iopub.status.idle": "2023-05-20T13:48:04.083454Z",
          "shell.execute_reply.started": "2023-05-20T13:48:04.072127Z",
          "shell.execute_reply": "2023-05-20T13:48:04.082506Z"
        },
        "trusted": true,
        "id": "bNbA13bW_vFA"
      },
      "execution_count": null,
      "outputs": []
    },
    {
      "cell_type": "code",
      "source": [
        "per_day_readings = 4 * 24\n",
        "window_length = 3 * per_day_readings    # we want our model to look back at the data of 3 days\n",
        "horizon = 1                             # and then predict the next 15 minute reading"
      ],
      "metadata": {
        "execution": {
          "iopub.status.busy": "2023-05-20T13:48:04.085314Z",
          "iopub.execute_input": "2023-05-20T13:48:04.086029Z",
          "iopub.status.idle": "2023-05-20T13:48:04.096289Z",
          "shell.execute_reply.started": "2023-05-20T13:48:04.085995Z",
          "shell.execute_reply": "2023-05-20T13:48:04.095286Z"
        },
        "trusted": true,
        "id": "VNHLtRwG_vFC"
      },
      "execution_count": null,
      "outputs": []
    },
    {
      "cell_type": "code",
      "source": [
        "df = df_normalized.values\n",
        "stride = 1\n",
        "x = []\n",
        "y = []\n",
        "for i in tqdm(range(0, len(df) - window_length, stride)):\n",
        "    x.append(df[i:window_length+i, : ]) #GHI included but its past values only\n",
        "    y.append(df[window_length+i,-1])                  #next GHI value"
      ],
      "metadata": {
        "execution": {
          "iopub.status.busy": "2023-05-20T13:48:04.097987Z",
          "iopub.execute_input": "2023-05-20T13:48:04.098381Z",
          "iopub.status.idle": "2023-05-20T13:48:04.199722Z",
          "shell.execute_reply.started": "2023-05-20T13:48:04.098350Z",
          "shell.execute_reply": "2023-05-20T13:48:04.198655Z"
        },
        "trusted": true,
        "id": "s1-cWRK7_vFE",
        "outputId": "84c24a82-683a-4cea-c35a-f7d498766c1b",
        "colab": {
          "referenced_widgets": [
            "26e9131bb9dd4bfdad0cd9a3c9cbb827"
          ]
        }
      },
      "execution_count": null,
      "outputs": [
        {
          "output_type": "display_data",
          "data": {
            "text/plain": "  0%|          | 0/34752 [00:00<?, ?it/s]",
            "application/vnd.jupyter.widget-view+json": {
              "version_major": 2,
              "version_minor": 0,
              "model_id": "26e9131bb9dd4bfdad0cd9a3c9cbb827"
            }
          },
          "metadata": {}
        }
      ]
    },
    {
      "cell_type": "code",
      "source": [
        "x = np.array(x)\n",
        "y = np.array(y)\n",
        "print(x.shape)\n",
        "print(y.shape)"
      ],
      "metadata": {
        "execution": {
          "iopub.status.busy": "2023-05-20T13:48:04.201434Z",
          "iopub.execute_input": "2023-05-20T13:48:04.202095Z",
          "iopub.status.idle": "2023-05-20T13:48:04.459568Z",
          "shell.execute_reply.started": "2023-05-20T13:48:04.202062Z",
          "shell.execute_reply": "2023-05-20T13:48:04.458480Z"
        },
        "trusted": true,
        "id": "kFr7eHSm_vFF",
        "outputId": "60985961-9c77-440a-8ce9-986c20919e86"
      },
      "execution_count": null,
      "outputs": [
        {
          "name": "stdout",
          "text": "(34752, 288, 8)\n(34752,)\n",
          "output_type": "stream"
        }
      ]
    },
    {
      "cell_type": "code",
      "source": [
        "x[45]"
      ],
      "metadata": {
        "execution": {
          "iopub.status.busy": "2023-05-20T13:48:04.461340Z",
          "iopub.execute_input": "2023-05-20T13:48:04.461706Z",
          "iopub.status.idle": "2023-05-20T13:48:04.469667Z",
          "shell.execute_reply.started": "2023-05-20T13:48:04.461673Z",
          "shell.execute_reply": "2023-05-20T13:48:04.468605Z"
        },
        "trusted": true,
        "id": "yVZJFry5_vFG",
        "outputId": "571eaf5d-7bf8-405a-e3f1-0aef2c6523ef"
      },
      "execution_count": null,
      "outputs": [
        {
          "execution_count": 14,
          "output_type": "execute_result",
          "data": {
            "text/plain": "array([[0.36111111, 0.55779817, 0.50843882, ..., 0.71388889, 0.09649123,\n        0.56176736],\n       [0.36111111, 0.56330275, 0.50632911, ..., 0.73888889, 0.11403509,\n        0.56988278],\n       [0.36111111, 0.56697248, 0.50632911, ..., 0.76111111, 0.12280702,\n        0.57348963],\n       ...,\n       [0.33333333, 0.46238532, 0.66666667, ..., 0.45277778, 0.13157895,\n        0.50405771],\n       [0.33333333, 0.46788991, 0.66666667, ..., 0.66944444, 0.13157895,\n        0.52569883],\n       [0.33333333, 0.47522936, 0.66666667, ..., 0.88888889, 0.14035088,\n        0.54102795]])"
          },
          "metadata": {}
        }
      ]
    },
    {
      "cell_type": "code",
      "source": [
        "y[44]"
      ],
      "metadata": {
        "execution": {
          "iopub.status.busy": "2023-05-20T13:48:04.471085Z",
          "iopub.execute_input": "2023-05-20T13:48:04.471850Z",
          "iopub.status.idle": "2023-05-20T13:48:04.479288Z",
          "shell.execute_reply.started": "2023-05-20T13:48:04.471817Z",
          "shell.execute_reply": "2023-05-20T13:48:04.478177Z"
        },
        "trusted": true,
        "id": "3BVUDRZd_vFH",
        "outputId": "08c03cd9-9d46-478a-ad5a-e2e4c9a9edc3"
      },
      "execution_count": null,
      "outputs": [
        {
          "execution_count": 15,
          "output_type": "execute_result",
          "data": {
            "text/plain": "0.5410279531109107"
          },
          "metadata": {}
        }
      ]
    },
    {
      "cell_type": "code",
      "source": [
        "# splitting our dataset into two parts one will be training set and the other will be testing set\n",
        "# Lets store last 5 days as our test set\n",
        "x_train = x[:-per_day_readings*5]\n",
        "y_train = y[:-per_day_readings*5]\n",
        "x_test  = x[len(y) - per_day_readings*5:]\n",
        "y_test  = y[len(y) - per_day_readings*5:]\n",
        "print(x_train.shape)\n",
        "print(y_train.shape)\n",
        "print(x_test.shape)\n",
        "print(y_test.shape)"
      ],
      "metadata": {
        "execution": {
          "iopub.status.busy": "2023-05-20T13:48:04.480578Z",
          "iopub.execute_input": "2023-05-20T13:48:04.481222Z",
          "iopub.status.idle": "2023-05-20T13:48:04.488848Z",
          "shell.execute_reply.started": "2023-05-20T13:48:04.481189Z",
          "shell.execute_reply": "2023-05-20T13:48:04.487673Z"
        },
        "trusted": true,
        "id": "2ykSd2py_vFH",
        "outputId": "22eeb7c1-92fd-4277-ade0-08a003aa72ce"
      },
      "execution_count": null,
      "outputs": [
        {
          "name": "stdout",
          "text": "(34272, 288, 8)\n(34272,)\n(480, 288, 8)\n(480,)\n",
          "output_type": "stream"
        }
      ]
    },
    {
      "cell_type": "code",
      "source": [
        "# finding the device of our environment\n",
        "device = 'cpu' if not torch.cuda.is_available() else 'cuda'"
      ],
      "metadata": {
        "execution": {
          "iopub.status.busy": "2023-05-20T13:48:04.490111Z",
          "iopub.execute_input": "2023-05-20T13:48:04.491065Z",
          "iopub.status.idle": "2023-05-20T13:48:04.519253Z",
          "shell.execute_reply.started": "2023-05-20T13:48:04.491032Z",
          "shell.execute_reply": "2023-05-20T13:48:04.518322Z"
        },
        "trusted": true,
        "id": "77kFHy3n_vFO"
      },
      "execution_count": null,
      "outputs": []
    },
    {
      "cell_type": "code",
      "source": [
        "# converting our dataset to pytorch tensors for forwarding passing\n",
        "x_train_tensor = torch.tensor(x_train, dtype=torch.float32).to(device)\n",
        "y_train_tensor = torch.tensor(y_train, dtype=torch.float32).to(device)"
      ],
      "metadata": {
        "execution": {
          "iopub.status.busy": "2023-05-20T13:48:04.522604Z",
          "iopub.execute_input": "2023-05-20T13:48:04.523618Z",
          "iopub.status.idle": "2023-05-20T13:48:09.116691Z",
          "shell.execute_reply.started": "2023-05-20T13:48:04.523585Z",
          "shell.execute_reply": "2023-05-20T13:48:09.115760Z"
        },
        "trusted": true,
        "id": "IaztqQvW_vFQ"
      },
      "execution_count": null,
      "outputs": []
    },
    {
      "cell_type": "code",
      "source": [
        "amp = True # If we want the model to be trained faster"
      ],
      "metadata": {
        "execution": {
          "iopub.status.busy": "2023-05-20T13:48:09.118299Z",
          "iopub.execute_input": "2023-05-20T13:48:09.119002Z",
          "iopub.status.idle": "2023-05-20T13:48:09.125788Z",
          "shell.execute_reply.started": "2023-05-20T13:48:09.118968Z",
          "shell.execute_reply": "2023-05-20T13:48:09.122209Z"
        },
        "trusted": true,
        "id": "OIW9fGga_vFQ"
      },
      "execution_count": null,
      "outputs": []
    },
    {
      "cell_type": "code",
      "source": [
        "# Now we towards training the model\n",
        "if amp:\n",
        "    use_amp = True\n",
        "    scaler = torch.cuda.amp.GradScaler(enabled=use_amp)"
      ],
      "metadata": {
        "execution": {
          "iopub.status.busy": "2023-05-20T13:48:09.127383Z",
          "iopub.execute_input": "2023-05-20T13:48:09.127765Z",
          "iopub.status.idle": "2023-05-20T13:48:09.146283Z",
          "shell.execute_reply.started": "2023-05-20T13:48:09.127698Z",
          "shell.execute_reply": "2023-05-20T13:48:09.145391Z"
        },
        "trusted": true,
        "id": "-mbeN7nM_vFR"
      },
      "execution_count": null,
      "outputs": []
    },
    {
      "cell_type": "code",
      "source": [
        "set_epochs = 50"
      ],
      "metadata": {
        "execution": {
          "iopub.status.busy": "2023-05-20T13:48:09.147505Z",
          "iopub.execute_input": "2023-05-20T13:48:09.147896Z",
          "iopub.status.idle": "2023-05-20T13:48:09.155687Z",
          "shell.execute_reply.started": "2023-05-20T13:48:09.147863Z",
          "shell.execute_reply": "2023-05-20T13:48:09.154790Z"
        },
        "trusted": true,
        "id": "GEQuPjB7_vFR"
      },
      "execution_count": null,
      "outputs": []
    },
    {
      "cell_type": "code",
      "source": [
        "# initializing the model first before training\n",
        "features = 8\n",
        "prediction = 1\n",
        "\n",
        "modelGRU = simpleGRU(features = features, prediction = prediction, \n",
        "                  window = window_length, horizon = horizon)\n",
        "\n",
        "modelGRU = modelGRU.to(device)"
      ],
      "metadata": {
        "execution": {
          "iopub.status.busy": "2023-05-20T13:48:09.157416Z",
          "iopub.execute_input": "2023-05-20T13:48:09.157812Z",
          "iopub.status.idle": "2023-05-20T13:48:10.121688Z",
          "shell.execute_reply.started": "2023-05-20T13:48:09.157781Z",
          "shell.execute_reply": "2023-05-20T13:48:10.120783Z"
        },
        "trusted": true,
        "id": "QpSRyIDG_vFS"
      },
      "execution_count": null,
      "outputs": []
    },
    {
      "cell_type": "code",
      "source": [
        "modelGRU"
      ],
      "metadata": {
        "execution": {
          "iopub.status.busy": "2023-05-20T13:48:10.123272Z",
          "iopub.execute_input": "2023-05-20T13:48:10.123608Z",
          "iopub.status.idle": "2023-05-20T13:48:10.131283Z",
          "shell.execute_reply.started": "2023-05-20T13:48:10.123576Z",
          "shell.execute_reply": "2023-05-20T13:48:10.130303Z"
        },
        "trusted": true,
        "id": "I6ATMWQr_vFS",
        "outputId": "af50ed83-a7a3-40b9-f71b-7b567b4cddfa"
      },
      "execution_count": null,
      "outputs": [
        {
          "execution_count": 23,
          "output_type": "execute_result",
          "data": {
            "text/plain": "simpleGRU(\n  (layer1): GRU(8, 128, batch_first=True, dropout=0.2)\n  (activation1): Tanh()\n  (layer2): GRU(128, 64, batch_first=True, dropout=0.2)\n  (activation2): Tanh()\n  (layer3): GRU(64, 32, batch_first=True, dropout=0.2)\n  (activation3): Tanh()\n  (layer4): Linear(in_features=32, out_features=1, bias=True)\n  (activation4): GELU(approximate='none')\n  (drop): Dropout(p=0.5, inplace=False)\n  (layer5): Linear(in_features=288, out_features=1, bias=True)\n  (activation5): GELU(approximate='none')\n)"
          },
          "metadata": {}
        }
      ]
    },
    {
      "cell_type": "code",
      "source": [
        "# Lets define loss function and optimizer\n",
        "criterion = MeanAbsoluteError().to(device)                         # MAE\n",
        "metricc = MeanAbsolutePercentageError().to(device)                 # MAPE metric\n",
        "optimizer = optim.AdamW(modelGRU.parameters(), lr=1e-4, weight_decay= 1e-5)               # Adam  TRY THIS : , \n",
        "\n",
        "num_epochs = set_epochs\n",
        "batch_size = 128\n",
        "\n",
        "loss_info_GRU = []\n",
        "metric_info_GRU = []\n",
        "\n",
        "for epoch in tqdm(range(num_epochs)):\n",
        "\n",
        "    running_loss = 0.0                                             # MAE Loss\n",
        "    running_metric = 0.0                                           # MAPE metric\n",
        "    \n",
        "    for i in tqdm(range(0, len(x_train_tensor), batch_size), desc=f\"Epoch {epoch+1}\"):\n",
        "\n",
        "        # Get batch of inputs and targets\n",
        "        batch_x = x_train_tensor[i:i+batch_size]\n",
        "        batch_y = y_train_tensor[i:i+batch_size]\n",
        "        \n",
        "        # Reshape input tensor\n",
        "        batch_x = batch_x.view(-1, window_length, features)\n",
        "        \n",
        "        if amp:\n",
        "\n",
        "            with torch.autocast(device_type= 'cuda', dtype=torch.float16, enabled=use_amp):\n",
        "                # Forward pass\n",
        "                outputs = modelGRU(batch_x)\n",
        "                \n",
        "                if batch_size == 1:\n",
        "                    loss = criterion(outputs.view(-1), torch.tensor([batch_y]))\n",
        "                    metric = metricc(outputs.view(-1), torch.tensor([batch_y]))\n",
        "\n",
        "                else:\n",
        "                    loss = criterion(outputs.view(-1), batch_y)\n",
        "                    metric = metricc(outputs.view(-1), batch_y)\n",
        "            \n",
        "            # Backward pass and optimization\n",
        "            scaler.scale(loss).backward()\n",
        "            scaler.step(optimizer)\n",
        "            scaler.update() \n",
        "\n",
        "        else:       \n",
        "\n",
        "            # Forward pass\n",
        "            outputs = modelGRU(batch_x)\n",
        "\n",
        "            if batch_size == 1:\n",
        "                loss = criterion(outputs.view(-1), torch.tensor([batch_y]))\n",
        "                metric = metricc(outputs.view(-1), torch.tensor([batch_y]))\n",
        "\n",
        "            else:\n",
        "                loss = criterion(outputs.view(-1), batch_y)\n",
        "                metric = metricc(outputs.view(-1), batch_y)\n",
        "\n",
        "            # Backward pass and optimize\n",
        "            loss.backward()\n",
        "            optimizer.step()\n",
        "\n",
        "        # Zero the parameter gradients\n",
        "        optimizer.zero_grad(set_to_none=True)\n",
        "\n",
        "        running_loss += loss.item()\n",
        "        running_metric += metric.item()\n",
        "\n",
        "    # Calculate epoch loss and metric\n",
        "    epoch_loss = running_loss / (len(x_train) / batch_size)\n",
        "    epoch_metric = running_metric / (len(x_train) / batch_size)\n",
        "    loss_info_GRU.append(epoch_loss)\n",
        "    metric_info_GRU.append(epoch_metric)\n",
        "    print(\"-\"*25, f\"Epoch {epoch + 1}\",\"-\"*25)\n",
        "    print(f\"Epoch {epoch+1} MAE loss: {epoch_loss:.9f}\")\n",
        "    print(f\"Epoch {epoch+1} MAPE metric: {epoch_metric:.9f}\")\n",
        "\n",
        "print(\"Training complete!\")"
      ],
      "metadata": {
        "execution": {
          "iopub.status.busy": "2023-05-20T13:48:10.133034Z",
          "iopub.execute_input": "2023-05-20T13:48:10.133721Z",
          "iopub.status.idle": "2023-05-20T14:00:32.485587Z",
          "shell.execute_reply.started": "2023-05-20T13:48:10.133688Z",
          "shell.execute_reply": "2023-05-20T14:00:32.484647Z"
        },
        "trusted": true,
        "id": "9WoSAN66_vFU",
        "outputId": "d57fbaf1-18ef-4939-bac2-7613b18d911e",
        "colab": {
          "referenced_widgets": [
            "498e7d5c6b714108bfcc44863e432314",
            "de08a2bb157a44b98a5da5d64a5e66a8",
            "6958b19886194b6184a402ac70e0e50f",
            "e0a983de51264173a7dbaed8a8f14a46",
            "fee7ab20cb374830908900de1b360b2f",
            "12e6f25bb7dc47269370729db2df40bb",
            "b13772d2718142b0898b17bc0777b28b",
            "82cca92adbdd4e7390057a1c1ac55c0e",
            "c893eea844ed4e1bbcc8d496710ca046",
            "ab5eeca316a44a8f8c0f78541ceccece",
            "b762f910fefd4ab6bdffece575ec1cf7",
            "af82ce4dbb144db2bac4e43d5f6afbc4",
            "d9bf0165c61642cfbae6ee50aef554d8",
            "7485881751fb4ecb819eab8c030083ec",
            "eede9d09f9c84d2882af9ac56b92bb51",
            "1337e0bde86d4bcfaec9c920c92f80db",
            "0b9bae0d4a2240928e29fd0bc7b6a41e",
            "82b82889d58c4c158f94b33445cf0bb3",
            "c24d328eb7c84d92832b54fa312517ee",
            "97b646edd460456fb41df530edf7153a",
            "89ec23166b884e74bc008aa9e8959e51",
            "7c18538729534369b2f7447bc6b4b391",
            "7c6a160617ed4e169970c2dadcb0539d",
            "2f9d7c4a3f7c46bfb17047fb3688e074",
            "8004f64f4c1840108523e6a966575945",
            "2a32989bfd494feaa6561c07df4ac907",
            "d822ee1598774fa8af64b5f2b8135c0c",
            "a292b5bf71d7475198a73c0f1742976a",
            "64e52c5b65f948e68c6daff36ffdb3ac",
            "68868571f3954af18c1bb839ea10061a",
            "d675557bfe0f434f8f20eabb553b9eb9",
            "063f6a0176af45a2921cab2964cb3ceb",
            "c7556e4ae37d42aa9980b297fb5f8995",
            "fb95da44e39c418faee6e2915154b504",
            "6d16088988d349f5bb4d1840c43df1e1",
            "0605566c48b64726920ae394aeaecdd3",
            "0262aad6ca1944dca79f9a08be7623ce",
            "29d82e0fcb4c4e8faa32b18891708a3d",
            "308f3634d0d446bcb7ca2eb7ba401fbe",
            "716657f80c85461784521b840a42aa14",
            "d25b6305cac8465dae70d9e4d4cb9459",
            "76058624cd6349bba5f5a6f1329f860b",
            "eb58e2a4beab43f5b23c3b3b506098a6",
            "f478adca95ef4233ab94a22e1b7bced3",
            "db1b26e115564860bce93acb19c55ba1",
            "895fa0764b554812a326822ee6bb448b",
            "2ecee692a6024a9084835604712bc316",
            "86e3f612e2ca46feaebe8d0db57ec9f4",
            "400e581a51e745b2a00ad41ee1e84793",
            "b8208b3669b74ce09095b59d89b2aad5",
            "4968b5912b0a492fb7adead3c224e1b2"
          ]
        }
      },
      "execution_count": null,
      "outputs": [
        {
          "output_type": "display_data",
          "data": {
            "text/plain": "  0%|          | 0/50 [00:00<?, ?it/s]",
            "application/vnd.jupyter.widget-view+json": {
              "version_major": 2,
              "version_minor": 0,
              "model_id": "498e7d5c6b714108bfcc44863e432314"
            }
          },
          "metadata": {}
        },
        {
          "output_type": "display_data",
          "data": {
            "text/plain": "Epoch 1:   0%|          | 0/268 [00:00<?, ?it/s]",
            "application/vnd.jupyter.widget-view+json": {
              "version_major": 2,
              "version_minor": 0,
              "model_id": "de08a2bb157a44b98a5da5d64a5e66a8"
            }
          },
          "metadata": {}
        },
        {
          "name": "stdout",
          "text": "------------------------- Epoch 1 -------------------------\nEpoch 1 MAE loss: 0.162225962\nEpoch 1 MAPE metric: 20428.660902121\n",
          "output_type": "stream"
        },
        {
          "output_type": "display_data",
          "data": {
            "text/plain": "Epoch 2:   0%|          | 0/268 [00:00<?, ?it/s]",
            "application/vnd.jupyter.widget-view+json": {
              "version_major": 2,
              "version_minor": 0,
              "model_id": "6958b19886194b6184a402ac70e0e50f"
            }
          },
          "metadata": {}
        },
        {
          "name": "stdout",
          "text": "------------------------- Epoch 2 -------------------------\nEpoch 2 MAE loss: 0.081248167\nEpoch 2 MAPE metric: 20786.845569999\n",
          "output_type": "stream"
        },
        {
          "output_type": "display_data",
          "data": {
            "text/plain": "Epoch 3:   0%|          | 0/268 [00:00<?, ?it/s]",
            "application/vnd.jupyter.widget-view+json": {
              "version_major": 2,
              "version_minor": 0,
              "model_id": "e0a983de51264173a7dbaed8a8f14a46"
            }
          },
          "metadata": {}
        },
        {
          "name": "stdout",
          "text": "------------------------- Epoch 3 -------------------------\nEpoch 3 MAE loss: 0.072146793\nEpoch 3 MAPE metric: 18201.650673290\n",
          "output_type": "stream"
        },
        {
          "output_type": "display_data",
          "data": {
            "text/plain": "Epoch 4:   0%|          | 0/268 [00:00<?, ?it/s]",
            "application/vnd.jupyter.widget-view+json": {
              "version_major": 2,
              "version_minor": 0,
              "model_id": "fee7ab20cb374830908900de1b360b2f"
            }
          },
          "metadata": {}
        },
        {
          "name": "stdout",
          "text": "------------------------- Epoch 4 -------------------------\nEpoch 4 MAE loss: 0.066944515\nEpoch 4 MAPE metric: 17095.084146680\n",
          "output_type": "stream"
        },
        {
          "output_type": "display_data",
          "data": {
            "text/plain": "Epoch 5:   0%|          | 0/268 [00:00<?, ?it/s]",
            "application/vnd.jupyter.widget-view+json": {
              "version_major": 2,
              "version_minor": 0,
              "model_id": "12e6f25bb7dc47269370729db2df40bb"
            }
          },
          "metadata": {}
        },
        {
          "name": "stdout",
          "text": "------------------------- Epoch 5 -------------------------\nEpoch 5 MAE loss: 0.064908672\nEpoch 5 MAPE metric: 16462.163685005\n",
          "output_type": "stream"
        },
        {
          "output_type": "display_data",
          "data": {
            "text/plain": "Epoch 6:   0%|          | 0/268 [00:00<?, ?it/s]",
            "application/vnd.jupyter.widget-view+json": {
              "version_major": 2,
              "version_minor": 0,
              "model_id": "b13772d2718142b0898b17bc0777b28b"
            }
          },
          "metadata": {}
        },
        {
          "name": "stdout",
          "text": "------------------------- Epoch 6 -------------------------\nEpoch 6 MAE loss: 0.062563875\nEpoch 6 MAPE metric: 16112.457452512\n",
          "output_type": "stream"
        },
        {
          "output_type": "display_data",
          "data": {
            "text/plain": "Epoch 7:   0%|          | 0/268 [00:00<?, ?it/s]",
            "application/vnd.jupyter.widget-view+json": {
              "version_major": 2,
              "version_minor": 0,
              "model_id": "82cca92adbdd4e7390057a1c1ac55c0e"
            }
          },
          "metadata": {}
        },
        {
          "name": "stdout",
          "text": "------------------------- Epoch 7 -------------------------\nEpoch 7 MAE loss: 0.060590880\nEpoch 7 MAPE metric: 15566.198153741\n",
          "output_type": "stream"
        },
        {
          "output_type": "display_data",
          "data": {
            "text/plain": "Epoch 8:   0%|          | 0/268 [00:00<?, ?it/s]",
            "application/vnd.jupyter.widget-view+json": {
              "version_major": 2,
              "version_minor": 0,
              "model_id": "c893eea844ed4e1bbcc8d496710ca046"
            }
          },
          "metadata": {}
        },
        {
          "name": "stdout",
          "text": "------------------------- Epoch 8 -------------------------\nEpoch 8 MAE loss: 0.059280250\nEpoch 8 MAPE metric: 15249.455896942\n",
          "output_type": "stream"
        },
        {
          "output_type": "display_data",
          "data": {
            "text/plain": "Epoch 9:   0%|          | 0/268 [00:00<?, ?it/s]",
            "application/vnd.jupyter.widget-view+json": {
              "version_major": 2,
              "version_minor": 0,
              "model_id": "ab5eeca316a44a8f8c0f78541ceccece"
            }
          },
          "metadata": {}
        },
        {
          "name": "stdout",
          "text": "------------------------- Epoch 9 -------------------------\nEpoch 9 MAE loss: 0.057884699\nEpoch 9 MAPE metric: 14979.443514385\n",
          "output_type": "stream"
        },
        {
          "output_type": "display_data",
          "data": {
            "text/plain": "Epoch 10:   0%|          | 0/268 [00:00<?, ?it/s]",
            "application/vnd.jupyter.widget-view+json": {
              "version_major": 2,
              "version_minor": 0,
              "model_id": "b762f910fefd4ab6bdffece575ec1cf7"
            }
          },
          "metadata": {}
        },
        {
          "name": "stdout",
          "text": "------------------------- Epoch 10 -------------------------\nEpoch 10 MAE loss: 0.057590376\nEpoch 10 MAPE metric: 14761.047516923\n",
          "output_type": "stream"
        },
        {
          "output_type": "display_data",
          "data": {
            "text/plain": "Epoch 11:   0%|          | 0/268 [00:00<?, ?it/s]",
            "application/vnd.jupyter.widget-view+json": {
              "version_major": 2,
              "version_minor": 0,
              "model_id": "af82ce4dbb144db2bac4e43d5f6afbc4"
            }
          },
          "metadata": {}
        },
        {
          "name": "stdout",
          "text": "------------------------- Epoch 11 -------------------------\nEpoch 11 MAE loss: 0.056965373\nEpoch 11 MAPE metric: 14507.541757849\n",
          "output_type": "stream"
        },
        {
          "output_type": "display_data",
          "data": {
            "text/plain": "Epoch 12:   0%|          | 0/268 [00:00<?, ?it/s]",
            "application/vnd.jupyter.widget-view+json": {
              "version_major": 2,
              "version_minor": 0,
              "model_id": "d9bf0165c61642cfbae6ee50aef554d8"
            }
          },
          "metadata": {}
        },
        {
          "name": "stdout",
          "text": "------------------------- Epoch 12 -------------------------\nEpoch 12 MAE loss: 0.055949270\nEpoch 12 MAPE metric: 14410.860594107\n",
          "output_type": "stream"
        },
        {
          "output_type": "display_data",
          "data": {
            "text/plain": "Epoch 13:   0%|          | 0/268 [00:00<?, ?it/s]",
            "application/vnd.jupyter.widget-view+json": {
              "version_major": 2,
              "version_minor": 0,
              "model_id": "7485881751fb4ecb819eab8c030083ec"
            }
          },
          "metadata": {}
        },
        {
          "name": "stdout",
          "text": "------------------------- Epoch 13 -------------------------\nEpoch 13 MAE loss: 0.056196679\nEpoch 13 MAPE metric: 14700.948578650\n",
          "output_type": "stream"
        },
        {
          "output_type": "display_data",
          "data": {
            "text/plain": "Epoch 14:   0%|          | 0/268 [00:00<?, ?it/s]",
            "application/vnd.jupyter.widget-view+json": {
              "version_major": 2,
              "version_minor": 0,
              "model_id": "eede9d09f9c84d2882af9ac56b92bb51"
            }
          },
          "metadata": {}
        },
        {
          "name": "stdout",
          "text": "------------------------- Epoch 14 -------------------------\nEpoch 14 MAE loss: 0.056704939\nEpoch 14 MAPE metric: 15261.072526406\n",
          "output_type": "stream"
        },
        {
          "output_type": "display_data",
          "data": {
            "text/plain": "Epoch 15:   0%|          | 0/268 [00:00<?, ?it/s]",
            "application/vnd.jupyter.widget-view+json": {
              "version_major": 2,
              "version_minor": 0,
              "model_id": "1337e0bde86d4bcfaec9c920c92f80db"
            }
          },
          "metadata": {}
        },
        {
          "name": "stdout",
          "text": "------------------------- Epoch 15 -------------------------\nEpoch 15 MAE loss: 0.056704603\nEpoch 15 MAPE metric: 15212.295080532\n",
          "output_type": "stream"
        },
        {
          "output_type": "display_data",
          "data": {
            "text/plain": "Epoch 16:   0%|          | 0/268 [00:00<?, ?it/s]",
            "application/vnd.jupyter.widget-view+json": {
              "version_major": 2,
              "version_minor": 0,
              "model_id": "0b9bae0d4a2240928e29fd0bc7b6a41e"
            }
          },
          "metadata": {}
        },
        {
          "name": "stdout",
          "text": "------------------------- Epoch 16 -------------------------\nEpoch 16 MAE loss: 0.057448842\nEpoch 16 MAPE metric: 15525.297237906\n",
          "output_type": "stream"
        },
        {
          "output_type": "display_data",
          "data": {
            "text/plain": "Epoch 17:   0%|          | 0/268 [00:00<?, ?it/s]",
            "application/vnd.jupyter.widget-view+json": {
              "version_major": 2,
              "version_minor": 0,
              "model_id": "82b82889d58c4c158f94b33445cf0bb3"
            }
          },
          "metadata": {}
        },
        {
          "name": "stdout",
          "text": "------------------------- Epoch 17 -------------------------\nEpoch 17 MAE loss: 0.057572782\nEpoch 17 MAPE metric: 15706.927665076\n",
          "output_type": "stream"
        },
        {
          "output_type": "display_data",
          "data": {
            "text/plain": "Epoch 18:   0%|          | 0/268 [00:00<?, ?it/s]",
            "application/vnd.jupyter.widget-view+json": {
              "version_major": 2,
              "version_minor": 0,
              "model_id": "c24d328eb7c84d92832b54fa312517ee"
            }
          },
          "metadata": {}
        },
        {
          "name": "stdout",
          "text": "------------------------- Epoch 18 -------------------------\nEpoch 18 MAE loss: 0.058105814\nEpoch 18 MAPE metric: 15925.617457400\n",
          "output_type": "stream"
        },
        {
          "output_type": "display_data",
          "data": {
            "text/plain": "Epoch 19:   0%|          | 0/268 [00:00<?, ?it/s]",
            "application/vnd.jupyter.widget-view+json": {
              "version_major": 2,
              "version_minor": 0,
              "model_id": "97b646edd460456fb41df530edf7153a"
            }
          },
          "metadata": {}
        },
        {
          "name": "stdout",
          "text": "------------------------- Epoch 19 -------------------------\nEpoch 19 MAE loss: 0.058954108\nEpoch 19 MAPE metric: 16284.226024524\n",
          "output_type": "stream"
        },
        {
          "output_type": "display_data",
          "data": {
            "text/plain": "Epoch 20:   0%|          | 0/268 [00:00<?, ?it/s]",
            "application/vnd.jupyter.widget-view+json": {
              "version_major": 2,
              "version_minor": 0,
              "model_id": "89ec23166b884e74bc008aa9e8959e51"
            }
          },
          "metadata": {}
        },
        {
          "name": "stdout",
          "text": "------------------------- Epoch 20 -------------------------\nEpoch 20 MAE loss: 0.058592803\nEpoch 20 MAPE metric: 16654.307428440\n",
          "output_type": "stream"
        },
        {
          "output_type": "display_data",
          "data": {
            "text/plain": "Epoch 21:   0%|          | 0/268 [00:00<?, ?it/s]",
            "application/vnd.jupyter.widget-view+json": {
              "version_major": 2,
              "version_minor": 0,
              "model_id": "7c18538729534369b2f7447bc6b4b391"
            }
          },
          "metadata": {}
        },
        {
          "name": "stdout",
          "text": "------------------------- Epoch 21 -------------------------\nEpoch 21 MAE loss: 0.058389121\nEpoch 21 MAPE metric: 16616.330953475\n",
          "output_type": "stream"
        },
        {
          "output_type": "display_data",
          "data": {
            "text/plain": "Epoch 22:   0%|          | 0/268 [00:00<?, ?it/s]",
            "application/vnd.jupyter.widget-view+json": {
              "version_major": 2,
              "version_minor": 0,
              "model_id": "7c6a160617ed4e169970c2dadcb0539d"
            }
          },
          "metadata": {}
        },
        {
          "name": "stdout",
          "text": "------------------------- Epoch 22 -------------------------\nEpoch 22 MAE loss: 0.057985849\nEpoch 22 MAPE metric: 16046.746770323\n",
          "output_type": "stream"
        },
        {
          "output_type": "display_data",
          "data": {
            "text/plain": "Epoch 23:   0%|          | 0/268 [00:00<?, ?it/s]",
            "application/vnd.jupyter.widget-view+json": {
              "version_major": 2,
              "version_minor": 0,
              "model_id": "2f9d7c4a3f7c46bfb17047fb3688e074"
            }
          },
          "metadata": {}
        },
        {
          "name": "stdout",
          "text": "------------------------- Epoch 23 -------------------------\nEpoch 23 MAE loss: 0.056900472\nEpoch 23 MAPE metric: 15706.605663880\n",
          "output_type": "stream"
        },
        {
          "output_type": "display_data",
          "data": {
            "text/plain": "Epoch 24:   0%|          | 0/268 [00:00<?, ?it/s]",
            "application/vnd.jupyter.widget-view+json": {
              "version_major": 2,
              "version_minor": 0,
              "model_id": "8004f64f4c1840108523e6a966575945"
            }
          },
          "metadata": {}
        },
        {
          "name": "stdout",
          "text": "------------------------- Epoch 24 -------------------------\nEpoch 24 MAE loss: 0.056757229\nEpoch 24 MAPE metric: 15066.811557175\n",
          "output_type": "stream"
        },
        {
          "output_type": "display_data",
          "data": {
            "text/plain": "Epoch 25:   0%|          | 0/268 [00:00<?, ?it/s]",
            "application/vnd.jupyter.widget-view+json": {
              "version_major": 2,
              "version_minor": 0,
              "model_id": "2a32989bfd494feaa6561c07df4ac907"
            }
          },
          "metadata": {}
        },
        {
          "name": "stdout",
          "text": "------------------------- Epoch 25 -------------------------\nEpoch 25 MAE loss: 0.055170604\nEpoch 25 MAPE metric: 14042.249064470\n",
          "output_type": "stream"
        },
        {
          "output_type": "display_data",
          "data": {
            "text/plain": "Epoch 26:   0%|          | 0/268 [00:00<?, ?it/s]",
            "application/vnd.jupyter.widget-view+json": {
              "version_major": 2,
              "version_minor": 0,
              "model_id": "d822ee1598774fa8af64b5f2b8135c0c"
            }
          },
          "metadata": {}
        },
        {
          "name": "stdout",
          "text": "------------------------- Epoch 26 -------------------------\nEpoch 26 MAE loss: 0.052736463\nEpoch 26 MAPE metric: 12565.473573544\n",
          "output_type": "stream"
        },
        {
          "output_type": "display_data",
          "data": {
            "text/plain": "Epoch 27:   0%|          | 0/268 [00:00<?, ?it/s]",
            "application/vnd.jupyter.widget-view+json": {
              "version_major": 2,
              "version_minor": 0,
              "model_id": "a292b5bf71d7475198a73c0f1742976a"
            }
          },
          "metadata": {}
        },
        {
          "name": "stdout",
          "text": "------------------------- Epoch 27 -------------------------\nEpoch 27 MAE loss: 0.051063337\nEpoch 27 MAPE metric: 11454.785878414\n",
          "output_type": "stream"
        },
        {
          "output_type": "display_data",
          "data": {
            "text/plain": "Epoch 28:   0%|          | 0/268 [00:00<?, ?it/s]",
            "application/vnd.jupyter.widget-view+json": {
              "version_major": 2,
              "version_minor": 0,
              "model_id": "64e52c5b65f948e68c6daff36ffdb3ac"
            }
          },
          "metadata": {}
        },
        {
          "name": "stdout",
          "text": "------------------------- Epoch 28 -------------------------\nEpoch 28 MAE loss: 0.049260027\nEpoch 28 MAPE metric: 10096.462533190\n",
          "output_type": "stream"
        },
        {
          "output_type": "display_data",
          "data": {
            "text/plain": "Epoch 29:   0%|          | 0/268 [00:00<?, ?it/s]",
            "application/vnd.jupyter.widget-view+json": {
              "version_major": 2,
              "version_minor": 0,
              "model_id": "68868571f3954af18c1bb839ea10061a"
            }
          },
          "metadata": {}
        },
        {
          "name": "stdout",
          "text": "------------------------- Epoch 29 -------------------------\nEpoch 29 MAE loss: 0.047220893\nEpoch 29 MAPE metric: 8901.293346245\n",
          "output_type": "stream"
        },
        {
          "output_type": "display_data",
          "data": {
            "text/plain": "Epoch 30:   0%|          | 0/268 [00:00<?, ?it/s]",
            "application/vnd.jupyter.widget-view+json": {
              "version_major": 2,
              "version_minor": 0,
              "model_id": "d675557bfe0f434f8f20eabb553b9eb9"
            }
          },
          "metadata": {}
        },
        {
          "name": "stdout",
          "text": "------------------------- Epoch 30 -------------------------\nEpoch 30 MAE loss: 0.045711206\nEpoch 30 MAPE metric: 7867.283977263\n",
          "output_type": "stream"
        },
        {
          "output_type": "display_data",
          "data": {
            "text/plain": "Epoch 31:   0%|          | 0/268 [00:00<?, ?it/s]",
            "application/vnd.jupyter.widget-view+json": {
              "version_major": 2,
              "version_minor": 0,
              "model_id": "063f6a0176af45a2921cab2964cb3ceb"
            }
          },
          "metadata": {}
        },
        {
          "name": "stdout",
          "text": "------------------------- Epoch 31 -------------------------\nEpoch 31 MAE loss: 0.044432730\nEpoch 31 MAPE metric: 7360.933620193\n",
          "output_type": "stream"
        },
        {
          "output_type": "display_data",
          "data": {
            "text/plain": "Epoch 32:   0%|          | 0/268 [00:00<?, ?it/s]",
            "application/vnd.jupyter.widget-view+json": {
              "version_major": 2,
              "version_minor": 0,
              "model_id": "c7556e4ae37d42aa9980b297fb5f8995"
            }
          },
          "metadata": {}
        },
        {
          "name": "stdout",
          "text": "------------------------- Epoch 32 -------------------------\nEpoch 32 MAE loss: 0.043306001\nEpoch 32 MAPE metric: 6983.192365488\n",
          "output_type": "stream"
        },
        {
          "output_type": "display_data",
          "data": {
            "text/plain": "Epoch 33:   0%|          | 0/268 [00:00<?, ?it/s]",
            "application/vnd.jupyter.widget-view+json": {
              "version_major": 2,
              "version_minor": 0,
              "model_id": "fb95da44e39c418faee6e2915154b504"
            }
          },
          "metadata": {}
        },
        {
          "name": "stdout",
          "text": "------------------------- Epoch 33 -------------------------\nEpoch 33 MAE loss: 0.043041639\nEpoch 33 MAPE metric: 6850.805911167\n",
          "output_type": "stream"
        },
        {
          "output_type": "display_data",
          "data": {
            "text/plain": "Epoch 34:   0%|          | 0/268 [00:00<?, ?it/s]",
            "application/vnd.jupyter.widget-view+json": {
              "version_major": 2,
              "version_minor": 0,
              "model_id": "6d16088988d349f5bb4d1840c43df1e1"
            }
          },
          "metadata": {}
        },
        {
          "name": "stdout",
          "text": "------------------------- Epoch 34 -------------------------\nEpoch 34 MAE loss: 0.042970961\nEpoch 34 MAPE metric: 6790.331331882\n",
          "output_type": "stream"
        },
        {
          "output_type": "display_data",
          "data": {
            "text/plain": "Epoch 35:   0%|          | 0/268 [00:00<?, ?it/s]",
            "application/vnd.jupyter.widget-view+json": {
              "version_major": 2,
              "version_minor": 0,
              "model_id": "0605566c48b64726920ae394aeaecdd3"
            }
          },
          "metadata": {}
        },
        {
          "name": "stdout",
          "text": "------------------------- Epoch 35 -------------------------\nEpoch 35 MAE loss: 0.042970970\nEpoch 35 MAPE metric: 6605.940271030\n",
          "output_type": "stream"
        },
        {
          "output_type": "display_data",
          "data": {
            "text/plain": "Epoch 36:   0%|          | 0/268 [00:00<?, ?it/s]",
            "application/vnd.jupyter.widget-view+json": {
              "version_major": 2,
              "version_minor": 0,
              "model_id": "0262aad6ca1944dca79f9a08be7623ce"
            }
          },
          "metadata": {}
        },
        {
          "name": "stdout",
          "text": "------------------------- Epoch 36 -------------------------\nEpoch 36 MAE loss: 0.042419224\nEpoch 36 MAPE metric: 6679.520326360\n",
          "output_type": "stream"
        },
        {
          "output_type": "display_data",
          "data": {
            "text/plain": "Epoch 37:   0%|          | 0/268 [00:00<?, ?it/s]",
            "application/vnd.jupyter.widget-view+json": {
              "version_major": 2,
              "version_minor": 0,
              "model_id": "29d82e0fcb4c4e8faa32b18891708a3d"
            }
          },
          "metadata": {}
        },
        {
          "name": "stdout",
          "text": "------------------------- Epoch 37 -------------------------\nEpoch 37 MAE loss: 0.042719980\nEpoch 37 MAPE metric: 6627.449205073\n",
          "output_type": "stream"
        },
        {
          "output_type": "display_data",
          "data": {
            "text/plain": "Epoch 38:   0%|          | 0/268 [00:00<?, ?it/s]",
            "application/vnd.jupyter.widget-view+json": {
              "version_major": 2,
              "version_minor": 0,
              "model_id": "308f3634d0d446bcb7ca2eb7ba401fbe"
            }
          },
          "metadata": {}
        },
        {
          "name": "stdout",
          "text": "------------------------- Epoch 38 -------------------------\nEpoch 38 MAE loss: 0.042400511\nEpoch 38 MAPE metric: 6699.513913508\n",
          "output_type": "stream"
        },
        {
          "output_type": "display_data",
          "data": {
            "text/plain": "Epoch 39:   0%|          | 0/268 [00:00<?, ?it/s]",
            "application/vnd.jupyter.widget-view+json": {
              "version_major": 2,
              "version_minor": 0,
              "model_id": "716657f80c85461784521b840a42aa14"
            }
          },
          "metadata": {}
        },
        {
          "name": "stdout",
          "text": "------------------------- Epoch 39 -------------------------\nEpoch 39 MAE loss: 0.042102014\nEpoch 39 MAPE metric: 6695.521990437\n",
          "output_type": "stream"
        },
        {
          "output_type": "display_data",
          "data": {
            "text/plain": "Epoch 40:   0%|          | 0/268 [00:00<?, ?it/s]",
            "application/vnd.jupyter.widget-view+json": {
              "version_major": 2,
              "version_minor": 0,
              "model_id": "d25b6305cac8465dae70d9e4d4cb9459"
            }
          },
          "metadata": {}
        },
        {
          "name": "stdout",
          "text": "------------------------- Epoch 40 -------------------------\nEpoch 40 MAE loss: 0.042014645\nEpoch 40 MAPE metric: 6750.235140020\n",
          "output_type": "stream"
        },
        {
          "output_type": "display_data",
          "data": {
            "text/plain": "Epoch 41:   0%|          | 0/268 [00:00<?, ?it/s]",
            "application/vnd.jupyter.widget-view+json": {
              "version_major": 2,
              "version_minor": 0,
              "model_id": "76058624cd6349bba5f5a6f1329f860b"
            }
          },
          "metadata": {}
        },
        {
          "name": "stdout",
          "text": "------------------------- Epoch 41 -------------------------\nEpoch 41 MAE loss: 0.042175446\nEpoch 41 MAPE metric: 6686.411544045\n",
          "output_type": "stream"
        },
        {
          "output_type": "display_data",
          "data": {
            "text/plain": "Epoch 42:   0%|          | 0/268 [00:00<?, ?it/s]",
            "application/vnd.jupyter.widget-view+json": {
              "version_major": 2,
              "version_minor": 0,
              "model_id": "eb58e2a4beab43f5b23c3b3b506098a6"
            }
          },
          "metadata": {}
        },
        {
          "name": "stdout",
          "text": "------------------------- Epoch 42 -------------------------\nEpoch 42 MAE loss: 0.041724778\nEpoch 42 MAPE metric: 6780.942454847\n",
          "output_type": "stream"
        },
        {
          "output_type": "display_data",
          "data": {
            "text/plain": "Epoch 43:   0%|          | 0/268 [00:00<?, ?it/s]",
            "application/vnd.jupyter.widget-view+json": {
              "version_major": 2,
              "version_minor": 0,
              "model_id": "f478adca95ef4233ab94a22e1b7bced3"
            }
          },
          "metadata": {}
        },
        {
          "name": "stdout",
          "text": "------------------------- Epoch 43 -------------------------\nEpoch 43 MAE loss: 0.041533140\nEpoch 43 MAPE metric: 6679.186323748\n",
          "output_type": "stream"
        },
        {
          "output_type": "display_data",
          "data": {
            "text/plain": "Epoch 44:   0%|          | 0/268 [00:00<?, ?it/s]",
            "application/vnd.jupyter.widget-view+json": {
              "version_major": 2,
              "version_minor": 0,
              "model_id": "db1b26e115564860bce93acb19c55ba1"
            }
          },
          "metadata": {}
        },
        {
          "name": "stdout",
          "text": "------------------------- Epoch 44 -------------------------\nEpoch 44 MAE loss: 0.041249585\nEpoch 44 MAPE metric: 6650.349530046\n",
          "output_type": "stream"
        },
        {
          "output_type": "display_data",
          "data": {
            "text/plain": "Epoch 45:   0%|          | 0/268 [00:00<?, ?it/s]",
            "application/vnd.jupyter.widget-view+json": {
              "version_major": 2,
              "version_minor": 0,
              "model_id": "895fa0764b554812a326822ee6bb448b"
            }
          },
          "metadata": {}
        },
        {
          "name": "stdout",
          "text": "------------------------- Epoch 45 -------------------------\nEpoch 45 MAE loss: 0.041623604\nEpoch 45 MAPE metric: 6712.219064579\n",
          "output_type": "stream"
        },
        {
          "output_type": "display_data",
          "data": {
            "text/plain": "Epoch 46:   0%|          | 0/268 [00:00<?, ?it/s]",
            "application/vnd.jupyter.widget-view+json": {
              "version_major": 2,
              "version_minor": 0,
              "model_id": "2ecee692a6024a9084835604712bc316"
            }
          },
          "metadata": {}
        },
        {
          "name": "stdout",
          "text": "------------------------- Epoch 46 -------------------------\nEpoch 46 MAE loss: 0.041602595\nEpoch 46 MAPE metric: 6631.963181497\n",
          "output_type": "stream"
        },
        {
          "output_type": "display_data",
          "data": {
            "text/plain": "Epoch 47:   0%|          | 0/268 [00:00<?, ?it/s]",
            "application/vnd.jupyter.widget-view+json": {
              "version_major": 2,
              "version_minor": 0,
              "model_id": "86e3f612e2ca46feaebe8d0db57ec9f4"
            }
          },
          "metadata": {}
        },
        {
          "name": "stdout",
          "text": "------------------------- Epoch 47 -------------------------\nEpoch 47 MAE loss: 0.041301535\nEpoch 47 MAPE metric: 6642.544468699\n",
          "output_type": "stream"
        },
        {
          "output_type": "display_data",
          "data": {
            "text/plain": "Epoch 48:   0%|          | 0/268 [00:00<?, ?it/s]",
            "application/vnd.jupyter.widget-view+json": {
              "version_major": 2,
              "version_minor": 0,
              "model_id": "400e581a51e745b2a00ad41ee1e84793"
            }
          },
          "metadata": {}
        },
        {
          "name": "stdout",
          "text": "------------------------- Epoch 48 -------------------------\nEpoch 48 MAE loss: 0.041396024\nEpoch 48 MAPE metric: 6718.679237971\n",
          "output_type": "stream"
        },
        {
          "output_type": "display_data",
          "data": {
            "text/plain": "Epoch 49:   0%|          | 0/268 [00:00<?, ?it/s]",
            "application/vnd.jupyter.widget-view+json": {
              "version_major": 2,
              "version_minor": 0,
              "model_id": "b8208b3669b74ce09095b59d89b2aad5"
            }
          },
          "metadata": {}
        },
        {
          "name": "stdout",
          "text": "------------------------- Epoch 49 -------------------------\nEpoch 49 MAE loss: 0.041079854\nEpoch 49 MAPE metric: 6796.313449208\n",
          "output_type": "stream"
        },
        {
          "output_type": "display_data",
          "data": {
            "text/plain": "Epoch 50:   0%|          | 0/268 [00:00<?, ?it/s]",
            "application/vnd.jupyter.widget-view+json": {
              "version_major": 2,
              "version_minor": 0,
              "model_id": "4968b5912b0a492fb7adead3c224e1b2"
            }
          },
          "metadata": {}
        },
        {
          "name": "stdout",
          "text": "------------------------- Epoch 50 -------------------------\nEpoch 50 MAE loss: 0.041253464\nEpoch 50 MAPE metric: 6791.770881660\nTraining complete!\n",
          "output_type": "stream"
        }
      ]
    },
    {
      "cell_type": "code",
      "source": [
        "# Plot the history of loss\n",
        "plt.plot(range(num_epochs), loss_info_GRU)\n",
        "plt.title('Loss(MAE) history')\n",
        "plt.xlabel('Epoch')\n",
        "plt.ylabel('Loss')\n",
        "plt.show()\n",
        "\n",
        "# Plot the history of metric result\n",
        "plt.plot(range(num_epochs), metric_info_GRU)\n",
        "plt.title('Metric(MAPE) result history')\n",
        "plt.xlabel('Epoch')\n",
        "plt.ylabel('Metric result')\n",
        "plt.show()"
      ],
      "metadata": {
        "execution": {
          "iopub.status.busy": "2023-05-20T14:00:32.487059Z",
          "iopub.execute_input": "2023-05-20T14:00:32.487874Z",
          "iopub.status.idle": "2023-05-20T14:00:32.946496Z",
          "shell.execute_reply.started": "2023-05-20T14:00:32.487839Z",
          "shell.execute_reply": "2023-05-20T14:00:32.945637Z"
        },
        "trusted": true,
        "id": "0tW3IIz4_vFV",
        "outputId": "565f6cda-11d9-4dfa-9e65-6e2c2fa7614d"
      },
      "execution_count": null,
      "outputs": [
        {
          "output_type": "display_data",
          "data": {
            "text/plain": "<Figure size 640x480 with 1 Axes>",
            "image/png": "[encoded data removed]"
          },
          "metadata": {}
        },
        {
          "output_type": "display_data",
          "data": {
            "text/plain": "<Figure size 640x480 with 1 Axes>",
            "image/png": "[encoded data removed]"
          },
          "metadata": {}
        }
      ]
    },
    {
      "cell_type": "code",
      "source": [
        "# Testing model's performance on our dataset\n",
        "x_test_tensor = torch.tensor(x_test, dtype=torch.float32).to(device)\n",
        "y_test_tensor = torch.tensor(y_test, dtype=torch.float32).to(device)"
      ],
      "metadata": {
        "execution": {
          "iopub.status.busy": "2023-05-20T14:00:58.351773Z",
          "iopub.execute_input": "2023-05-20T14:00:58.352357Z",
          "iopub.status.idle": "2023-05-20T14:00:58.361449Z",
          "shell.execute_reply.started": "2023-05-20T14:00:58.352326Z",
          "shell.execute_reply": "2023-05-20T14:00:58.360561Z"
        },
        "trusted": true,
        "id": "BKxcf-z4_vFV"
      },
      "execution_count": null,
      "outputs": []
    },
    {
      "cell_type": "code",
      "source": [
        "running_loss = 0.0                                             # MAE Loss\n",
        "running_metric = 0.0                                           # MAPE metric\n",
        "\n",
        "batch_size = 1\n",
        "modPred_GRU = []\n",
        "GroundTruth = []\n",
        "for i in tqdm(range(0, len(x_test_tensor), batch_size), desc=f\"Train set inference ...\"):\n",
        "  \n",
        "        # Get batch of inputs and targets\n",
        "        batch_x = x_test_tensor[i:i+batch_size]\n",
        "        batch_y = y_test_tensor[i:i+batch_size]\n",
        "        \n",
        "        # Reshape input tensor\n",
        "        batch_x = batch_x.view(-1, window_length, features)\n",
        "\n",
        "        # Forward pass\n",
        "        with torch.inference_mode():\n",
        "            modelGRU.eval()\n",
        "            outputs = modelGRU(batch_x)\n",
        "\n",
        "        if batch_size == 1:\n",
        "            loss = criterion(outputs.view(-1).to(outputs.device), batch_y.to(outputs.device))\n",
        "            metric = metricc(outputs.view(-1).to(outputs.device), batch_y.to(outputs.device))\n",
        "            if outputs.view(-1).cpu().detach() < 0:\n",
        "                modPred_GRU.append(0)\n",
        "            else: \n",
        "                modPred_GRU.append(outputs.view(-1).cpu().detach())\n",
        "            GroundTruth.append(torch.tensor([batch_y]).cpu().detach())\n",
        "        \n",
        "        else:\n",
        "            loss = criterion(outputs.view(-1), batch_y)\n",
        "            metric = metricc(outputs.view(-1), batch_y)\n",
        "            if outputs.view(-1).cpu().detach() < 0:\n",
        "                modPred_GRU.append(0)\n",
        "            else: \n",
        "                modPred_GRU.append(outputs.view(-1).cpu().detach())\n",
        "            GroundTruth.append(batch_y.cpu().detach())\n",
        "          \n",
        "        running_loss += loss.item()\n",
        "        running_metric += metric.item()\n",
        "\n",
        "test_loss = running_loss / (len(x_train) / batch_size)\n",
        "test_metric = running_metric / (len(x_train) / batch_size)\n",
        "print(\"-\"*25, \"TEST LOSS\", \"-\"*25)\n",
        "print(f\"Test MAE loss: {test_loss:.9f}\")\n",
        "print(f\"Test MAPE metric: {test_metric:.9f}\")"
      ],
      "metadata": {
        "execution": {
          "iopub.status.busy": "2023-05-20T14:01:00.692511Z",
          "iopub.execute_input": "2023-05-20T14:01:00.692883Z",
          "iopub.status.idle": "2023-05-20T14:01:05.508773Z",
          "shell.execute_reply.started": "2023-05-20T14:01:00.692855Z",
          "shell.execute_reply": "2023-05-20T14:01:05.507704Z"
        },
        "trusted": true,
        "id": "LksN-utx_vFW",
        "outputId": "e00841e4-638f-46ef-e8ac-080e538b085c",
        "colab": {
          "referenced_widgets": [
            "aa324a454617427cbd1c979980617636"
          ]
        }
      },
      "execution_count": null,
      "outputs": [
        {
          "output_type": "display_data",
          "data": {
            "text/plain": "Train set inference ...:   0%|          | 0/480 [00:00<?, ?it/s]",
            "application/vnd.jupyter.widget-view+json": {
              "version_major": 2,
              "version_minor": 0,
              "model_id": "aa324a454617427cbd1c979980617636"
            }
          },
          "metadata": {}
        },
        {
          "name": "stdout",
          "text": "------------------------- TEST LOSS -------------------------\nTest MAE loss: 0.000441822\nTest MAPE metric: 54.700869413\n",
          "output_type": "stream"
        }
      ]
    },
    {
      "cell_type": "code",
      "source": [
        "plt.plot(modPred_GRU)\n",
        "plt.plot(GroundTruth)\n",
        "plt.title('Test Dataset Prediction vs Actual data plot')\n",
        "plt.legend(['predicted', 'actual'])\n",
        "plt.show()"
      ],
      "metadata": {
        "execution": {
          "iopub.status.busy": "2023-05-20T14:01:05.513613Z",
          "iopub.execute_input": "2023-05-20T14:01:05.514003Z",
          "iopub.status.idle": "2023-05-20T14:01:05.850618Z",
          "shell.execute_reply.started": "2023-05-20T14:01:05.513968Z",
          "shell.execute_reply": "2023-05-20T14:01:05.849713Z"
        },
        "trusted": true,
        "id": "fwNrlsyi_vFW",
        "outputId": "090117ac-07cd-45b0-b610-bb4bf097443e"
      },
      "execution_count": null,
      "outputs": [
        {
          "output_type": "display_data",
          "data": {
            "text/plain": "<Figure size 640x480 with 1 Axes>",
            "image/png": "[encoded data removed]"
          },
          "metadata": {}
        }
      ]
    }
  ]
}