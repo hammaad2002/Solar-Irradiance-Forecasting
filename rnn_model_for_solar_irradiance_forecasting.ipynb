{
  "metadata": {
    "kernelspec": {
      "language": "python",
      "display_name": "Python 3",
      "name": "python3"
    },
    "language_info": {
      "name": "python",
      "version": "3.10.10",
      "mimetype": "text/x-python",
      "codemirror_mode": {
        "name": "ipython",
        "version": 3
      },
      "pygments_lexer": "ipython3",
      "nbconvert_exporter": "python",
      "file_extension": ".py"
    },
    "colab": {
      "provenance": [],
      "include_colab_link": true
    }
  },
  "nbformat_minor": 0,
  "nbformat": 4,
  "cells": [
    {
      "cell_type": "markdown",
      "metadata": {
        "id": "view-in-github",
        "colab_type": "text"
      },
      "source": [
        "<a href=\"https://colab.research.google.com/github/hammaad2002/Solar-Irradiance-Forecasting/blob/main/rnn_model_for_solar_irradiance_forecasting.ipynb\" target=\"_parent\"><img src=\"https://colab.research.google.com/assets/colab-badge.svg\" alt=\"Open In Colab\"/></a>"
      ]
    },
    {
      "cell_type": "code",
      "source": [
        "%%capture\n",
        "!git clone https://github.com/hammaad2002/Solar-Irradiance-Forecasting.git\n",
        "!pip install torchmetrics"
      ],
      "metadata": {
        "execution": {
          "iopub.status.busy": "2023-05-20T15:21:14.077669Z",
          "iopub.execute_input": "2023-05-20T15:21:14.078030Z",
          "iopub.status.idle": "2023-05-20T15:21:27.682854Z",
          "shell.execute_reply.started": "2023-05-20T15:21:14.077998Z",
          "shell.execute_reply": "2023-05-20T15:21:27.681457Z"
        },
        "trusted": true,
        "id": "0We4K-WKD1CI"
      },
      "execution_count": null,
      "outputs": []
    },
    {
      "cell_type": "code",
      "source": [
        "import torch\n",
        "import torch.nn as nn\n",
        "import torch.optim as optim\n",
        "import pandas as pd\n",
        "import numpy as np\n",
        "from tqdm.notebook import tqdm\n",
        "from torchmetrics import MeanAbsoluteError, MeanAbsolutePercentageError\n",
        "import matplotlib.pyplot as plt\n",
        "import random\n",
        "from sklearn.preprocessing import MinMaxScaler\n",
        "import warnings\n",
        "\n",
        "warnings.filterwarnings('ignore')"
      ],
      "metadata": {
        "execution": {
          "iopub.status.busy": "2023-05-20T15:21:27.688483Z",
          "iopub.execute_input": "2023-05-20T15:21:27.690800Z",
          "iopub.status.idle": "2023-05-20T15:21:40.958262Z",
          "shell.execute_reply.started": "2023-05-20T15:21:27.690759Z",
          "shell.execute_reply": "2023-05-20T15:21:40.957192Z"
        },
        "trusted": true,
        "id": "HUXrgI6OD1CN",
        "outputId": "8274cf17-2ead-416b-c09a-44df3559b670"
      },
      "execution_count": null,
      "outputs": [
        {
          "name": "stderr",
          "text": "/opt/conda/lib/python3.10/site-packages/scipy/__init__.py:146: UserWarning: A NumPy version >=1.16.5 and <1.23.0 is required for this version of SciPy (detected version 1.23.5\n  warnings.warn(f\"A NumPy version >={np_minversion} and <{np_maxversion}\"\n",
          "output_type": "stream"
        }
      ]
    },
    {
      "cell_type": "code",
      "source": [
        "# Assuming your DataFrame is named 'df'\n",
        "desired_starting_row = 3\n",
        "df = pd.read_csv('/kaggle/working/Solar-Irradiance-Forecasting/Solar Irradiance Dataset/2017Solar.csv', skiprows=desired_starting_row - 1)\n",
        "df"
      ],
      "metadata": {
        "execution": {
          "iopub.status.busy": "2023-05-20T15:21:40.959698Z",
          "iopub.execute_input": "2023-05-20T15:21:40.960037Z",
          "iopub.status.idle": "2023-05-20T15:21:41.050349Z",
          "shell.execute_reply.started": "2023-05-20T15:21:40.960004Z",
          "shell.execute_reply": "2023-05-20T15:21:41.049278Z"
        },
        "trusted": true,
        "id": "OJufuWh8D1CP",
        "outputId": "124abbab-df74-4ec5-ac80-c77c767015a6"
      },
      "execution_count": null,
      "outputs": [
        {
          "execution_count": 3,
          "output_type": "execute_result",
          "data": {
            "text/plain": "       Year  Month  Day  Hour  Minute  GHI  Temperature  Dew Point  \\\n0      2017      1    1     0       0    0         10.6      -17.4   \n1      2017      1    1     0      15    0         10.5      -17.4   \n2      2017      1    1     0      30    0         10.4      -17.4   \n3      2017      1    1     0      45    0         10.2      -17.3   \n4      2017      1    1     1       0    0         10.1      -17.3   \n...     ...    ...  ...   ...     ...  ...          ...        ...   \n35035  2017     12   31    22      45    0         11.2      -17.4   \n35036  2017     12   31    23       0    0         11.1      -17.4   \n35037  2017     12   31    23      15    0         11.0      -17.4   \n35038  2017     12   31    23      30    0         10.9      -17.4   \n35039  2017     12   31    23      45    0         10.7      -17.4   \n\n       Relative Humidity  Pressure  Wind Direction  Wind Speed  \\\n0                  12.29       949             103         0.7   \n1                  12.37       949             107         0.7   \n2                  12.45       949             111         0.7   \n3                  12.74       949             115         0.7   \n4                  12.83       949             120         0.7   \n...                  ...       ...             ...         ...   \n35035              11.78       950              81         0.8   \n35036              11.86       950              85         0.8   \n35037              11.93       949              89         0.7   \n35038              12.01       949              94         0.7   \n35039              12.21       949              99         0.7   \n\n       Precipitable Water  \n0                     0.7  \n1                     0.7  \n2                     0.7  \n3                     0.7  \n4                     0.7  \n...                   ...  \n35035                 0.7  \n35036                 0.7  \n35037                 0.7  \n35038                 0.7  \n35039                 0.7  \n\n[35040 rows x 13 columns]",
            "text/html": "<div>\n<style scoped>\n    .dataframe tbody tr th:only-of-type {\n        vertical-align: middle;\n    }\n\n    .dataframe tbody tr th {\n        vertical-align: top;\n    }\n\n    .dataframe thead th {\n        text-align: right;\n    }\n</style>\n<table border=\"1\" class=\"dataframe\">\n  <thead>\n    <tr style=\"text-align: right;\">\n      <th></th>\n      <th>Year</th>\n      <th>Month</th>\n      <th>Day</th>\n      <th>Hour</th>\n      <th>Minute</th>\n      <th>GHI</th>\n      <th>Temperature</th>\n      <th>Dew Point</th>\n      <th>Relative Humidity</th>\n      <th>Pressure</th>\n      <th>Wind Direction</th>\n      <th>Wind Speed</th>\n      <th>Precipitable Water</th>\n    </tr>\n  </thead>\n  <tbody>\n    <tr>\n      <th>0</th>\n      <td>2017</td>\n      <td>1</td>\n      <td>1</td>\n      <td>0</td>\n      <td>0</td>\n      <td>0</td>\n      <td>10.6</td>\n      <td>-17.4</td>\n      <td>12.29</td>\n      <td>949</td>\n      <td>103</td>\n      <td>0.7</td>\n      <td>0.7</td>\n    </tr>\n    <tr>\n      <th>1</th>\n      <td>2017</td>\n      <td>1</td>\n      <td>1</td>\n      <td>0</td>\n      <td>15</td>\n      <td>0</td>\n      <td>10.5</td>\n      <td>-17.4</td>\n      <td>12.37</td>\n      <td>949</td>\n      <td>107</td>\n      <td>0.7</td>\n      <td>0.7</td>\n    </tr>\n    <tr>\n      <th>2</th>\n      <td>2017</td>\n      <td>1</td>\n      <td>1</td>\n      <td>0</td>\n      <td>30</td>\n      <td>0</td>\n      <td>10.4</td>\n      <td>-17.4</td>\n      <td>12.45</td>\n      <td>949</td>\n      <td>111</td>\n      <td>0.7</td>\n      <td>0.7</td>\n    </tr>\n    <tr>\n      <th>3</th>\n      <td>2017</td>\n      <td>1</td>\n      <td>1</td>\n      <td>0</td>\n      <td>45</td>\n      <td>0</td>\n      <td>10.2</td>\n      <td>-17.3</td>\n      <td>12.74</td>\n      <td>949</td>\n      <td>115</td>\n      <td>0.7</td>\n      <td>0.7</td>\n    </tr>\n    <tr>\n      <th>4</th>\n      <td>2017</td>\n      <td>1</td>\n      <td>1</td>\n      <td>1</td>\n      <td>0</td>\n      <td>0</td>\n      <td>10.1</td>\n      <td>-17.3</td>\n      <td>12.83</td>\n      <td>949</td>\n      <td>120</td>\n      <td>0.7</td>\n      <td>0.7</td>\n    </tr>\n    <tr>\n      <th>...</th>\n      <td>...</td>\n      <td>...</td>\n      <td>...</td>\n      <td>...</td>\n      <td>...</td>\n      <td>...</td>\n      <td>...</td>\n      <td>...</td>\n      <td>...</td>\n      <td>...</td>\n      <td>...</td>\n      <td>...</td>\n      <td>...</td>\n    </tr>\n    <tr>\n      <th>35035</th>\n      <td>2017</td>\n      <td>12</td>\n      <td>31</td>\n      <td>22</td>\n      <td>45</td>\n      <td>0</td>\n      <td>11.2</td>\n      <td>-17.4</td>\n      <td>11.78</td>\n      <td>950</td>\n      <td>81</td>\n      <td>0.8</td>\n      <td>0.7</td>\n    </tr>\n    <tr>\n      <th>35036</th>\n      <td>2017</td>\n      <td>12</td>\n      <td>31</td>\n      <td>23</td>\n      <td>0</td>\n      <td>0</td>\n      <td>11.1</td>\n      <td>-17.4</td>\n      <td>11.86</td>\n      <td>950</td>\n      <td>85</td>\n      <td>0.8</td>\n      <td>0.7</td>\n    </tr>\n    <tr>\n      <th>35037</th>\n      <td>2017</td>\n      <td>12</td>\n      <td>31</td>\n      <td>23</td>\n      <td>15</td>\n      <td>0</td>\n      <td>11.0</td>\n      <td>-17.4</td>\n      <td>11.93</td>\n      <td>949</td>\n      <td>89</td>\n      <td>0.7</td>\n      <td>0.7</td>\n    </tr>\n    <tr>\n      <th>35038</th>\n      <td>2017</td>\n      <td>12</td>\n      <td>31</td>\n      <td>23</td>\n      <td>30</td>\n      <td>0</td>\n      <td>10.9</td>\n      <td>-17.4</td>\n      <td>12.01</td>\n      <td>949</td>\n      <td>94</td>\n      <td>0.7</td>\n      <td>0.7</td>\n    </tr>\n    <tr>\n      <th>35039</th>\n      <td>2017</td>\n      <td>12</td>\n      <td>31</td>\n      <td>23</td>\n      <td>45</td>\n      <td>0</td>\n      <td>10.7</td>\n      <td>-17.4</td>\n      <td>12.21</td>\n      <td>949</td>\n      <td>99</td>\n      <td>0.7</td>\n      <td>0.7</td>\n    </tr>\n  </tbody>\n</table>\n<p>35040 rows × 13 columns</p>\n</div>"
          },
          "metadata": {}
        }
      ]
    },
    {
      "cell_type": "code",
      "source": [
        "workingDf = df.drop(['Year', 'Month', 'Day', 'Hour', 'Minute'], axis = 1)\n",
        "workingDf"
      ],
      "metadata": {
        "execution": {
          "iopub.status.busy": "2023-05-20T15:21:41.053192Z",
          "iopub.execute_input": "2023-05-20T15:21:41.053567Z",
          "iopub.status.idle": "2023-05-20T15:21:41.073446Z",
          "shell.execute_reply.started": "2023-05-20T15:21:41.053535Z",
          "shell.execute_reply": "2023-05-20T15:21:41.072472Z"
        },
        "trusted": true,
        "id": "2yedYrlDD1CR",
        "outputId": "50f4b189-8e97-4efa-f587-01c41ec0d6de"
      },
      "execution_count": null,
      "outputs": [
        {
          "execution_count": 4,
          "output_type": "execute_result",
          "data": {
            "text/plain": "       GHI  Temperature  Dew Point  Relative Humidity  Pressure  \\\n0        0         10.6      -17.4              12.29       949   \n1        0         10.5      -17.4              12.37       949   \n2        0         10.4      -17.4              12.45       949   \n3        0         10.2      -17.3              12.74       949   \n4        0         10.1      -17.3              12.83       949   \n...    ...          ...        ...                ...       ...   \n35035    0         11.2      -17.4              11.78       950   \n35036    0         11.1      -17.4              11.86       950   \n35037    0         11.0      -17.4              11.93       949   \n35038    0         10.9      -17.4              12.01       949   \n35039    0         10.7      -17.4              12.21       949   \n\n       Wind Direction  Wind Speed  Precipitable Water  \n0                 103         0.7                 0.7  \n1                 107         0.7                 0.7  \n2                 111         0.7                 0.7  \n3                 115         0.7                 0.7  \n4                 120         0.7                 0.7  \n...               ...         ...                 ...  \n35035              81         0.8                 0.7  \n35036              85         0.8                 0.7  \n35037              89         0.7                 0.7  \n35038              94         0.7                 0.7  \n35039              99         0.7                 0.7  \n\n[35040 rows x 8 columns]",
            "text/html": "<div>\n<style scoped>\n    .dataframe tbody tr th:only-of-type {\n        vertical-align: middle;\n    }\n\n    .dataframe tbody tr th {\n        vertical-align: top;\n    }\n\n    .dataframe thead th {\n        text-align: right;\n    }\n</style>\n<table border=\"1\" class=\"dataframe\">\n  <thead>\n    <tr style=\"text-align: right;\">\n      <th></th>\n      <th>GHI</th>\n      <th>Temperature</th>\n      <th>Dew Point</th>\n      <th>Relative Humidity</th>\n      <th>Pressure</th>\n      <th>Wind Direction</th>\n      <th>Wind Speed</th>\n      <th>Precipitable Water</th>\n    </tr>\n  </thead>\n  <tbody>\n    <tr>\n      <th>0</th>\n      <td>0</td>\n      <td>10.6</td>\n      <td>-17.4</td>\n      <td>12.29</td>\n      <td>949</td>\n      <td>103</td>\n      <td>0.7</td>\n      <td>0.7</td>\n    </tr>\n    <tr>\n      <th>1</th>\n      <td>0</td>\n      <td>10.5</td>\n      <td>-17.4</td>\n      <td>12.37</td>\n      <td>949</td>\n      <td>107</td>\n      <td>0.7</td>\n      <td>0.7</td>\n    </tr>\n    <tr>\n      <th>2</th>\n      <td>0</td>\n      <td>10.4</td>\n      <td>-17.4</td>\n      <td>12.45</td>\n      <td>949</td>\n      <td>111</td>\n      <td>0.7</td>\n      <td>0.7</td>\n    </tr>\n    <tr>\n      <th>3</th>\n      <td>0</td>\n      <td>10.2</td>\n      <td>-17.3</td>\n      <td>12.74</td>\n      <td>949</td>\n      <td>115</td>\n      <td>0.7</td>\n      <td>0.7</td>\n    </tr>\n    <tr>\n      <th>4</th>\n      <td>0</td>\n      <td>10.1</td>\n      <td>-17.3</td>\n      <td>12.83</td>\n      <td>949</td>\n      <td>120</td>\n      <td>0.7</td>\n      <td>0.7</td>\n    </tr>\n    <tr>\n      <th>...</th>\n      <td>...</td>\n      <td>...</td>\n      <td>...</td>\n      <td>...</td>\n      <td>...</td>\n      <td>...</td>\n      <td>...</td>\n      <td>...</td>\n    </tr>\n    <tr>\n      <th>35035</th>\n      <td>0</td>\n      <td>11.2</td>\n      <td>-17.4</td>\n      <td>11.78</td>\n      <td>950</td>\n      <td>81</td>\n      <td>0.8</td>\n      <td>0.7</td>\n    </tr>\n    <tr>\n      <th>35036</th>\n      <td>0</td>\n      <td>11.1</td>\n      <td>-17.4</td>\n      <td>11.86</td>\n      <td>950</td>\n      <td>85</td>\n      <td>0.8</td>\n      <td>0.7</td>\n    </tr>\n    <tr>\n      <th>35037</th>\n      <td>0</td>\n      <td>11.0</td>\n      <td>-17.4</td>\n      <td>11.93</td>\n      <td>949</td>\n      <td>89</td>\n      <td>0.7</td>\n      <td>0.7</td>\n    </tr>\n    <tr>\n      <th>35038</th>\n      <td>0</td>\n      <td>10.9</td>\n      <td>-17.4</td>\n      <td>12.01</td>\n      <td>949</td>\n      <td>94</td>\n      <td>0.7</td>\n      <td>0.7</td>\n    </tr>\n    <tr>\n      <th>35039</th>\n      <td>0</td>\n      <td>10.7</td>\n      <td>-17.4</td>\n      <td>12.21</td>\n      <td>949</td>\n      <td>99</td>\n      <td>0.7</td>\n      <td>0.7</td>\n    </tr>\n  </tbody>\n</table>\n<p>35040 rows × 8 columns</p>\n</div>"
          },
          "metadata": {}
        }
      ]
    },
    {
      "cell_type": "code",
      "source": [
        "columns = workingDf.columns.tolist()\n",
        "columns[0], columns[-1] = columns[-1], columns[0]\n",
        "workingDf = workingDf[columns]\n",
        "workingDf"
      ],
      "metadata": {
        "execution": {
          "iopub.status.busy": "2023-05-20T15:21:41.074675Z",
          "iopub.execute_input": "2023-05-20T15:21:41.076433Z",
          "iopub.status.idle": "2023-05-20T15:21:41.099864Z",
          "shell.execute_reply.started": "2023-05-20T15:21:41.076399Z",
          "shell.execute_reply": "2023-05-20T15:21:41.098848Z"
        },
        "trusted": true,
        "id": "3NQw39XUD1CT",
        "outputId": "f2e952ea-5b9e-4a74-bcd3-8cc740a7a7f0"
      },
      "execution_count": null,
      "outputs": [
        {
          "execution_count": 5,
          "output_type": "execute_result",
          "data": {
            "text/plain": "       Precipitable Water  Temperature  Dew Point  Relative Humidity  \\\n0                     0.7         10.6      -17.4              12.29   \n1                     0.7         10.5      -17.4              12.37   \n2                     0.7         10.4      -17.4              12.45   \n3                     0.7         10.2      -17.3              12.74   \n4                     0.7         10.1      -17.3              12.83   \n...                   ...          ...        ...                ...   \n35035                 0.7         11.2      -17.4              11.78   \n35036                 0.7         11.1      -17.4              11.86   \n35037                 0.7         11.0      -17.4              11.93   \n35038                 0.7         10.9      -17.4              12.01   \n35039                 0.7         10.7      -17.4              12.21   \n\n       Pressure  Wind Direction  Wind Speed  GHI  \n0           949             103         0.7    0  \n1           949             107         0.7    0  \n2           949             111         0.7    0  \n3           949             115         0.7    0  \n4           949             120         0.7    0  \n...         ...             ...         ...  ...  \n35035       950              81         0.8    0  \n35036       950              85         0.8    0  \n35037       949              89         0.7    0  \n35038       949              94         0.7    0  \n35039       949              99         0.7    0  \n\n[35040 rows x 8 columns]",
            "text/html": "<div>\n<style scoped>\n    .dataframe tbody tr th:only-of-type {\n        vertical-align: middle;\n    }\n\n    .dataframe tbody tr th {\n        vertical-align: top;\n    }\n\n    .dataframe thead th {\n        text-align: right;\n    }\n</style>\n<table border=\"1\" class=\"dataframe\">\n  <thead>\n    <tr style=\"text-align: right;\">\n      <th></th>\n      <th>Precipitable Water</th>\n      <th>Temperature</th>\n      <th>Dew Point</th>\n      <th>Relative Humidity</th>\n      <th>Pressure</th>\n      <th>Wind Direction</th>\n      <th>Wind Speed</th>\n      <th>GHI</th>\n    </tr>\n  </thead>\n  <tbody>\n    <tr>\n      <th>0</th>\n      <td>0.7</td>\n      <td>10.6</td>\n      <td>-17.4</td>\n      <td>12.29</td>\n      <td>949</td>\n      <td>103</td>\n      <td>0.7</td>\n      <td>0</td>\n    </tr>\n    <tr>\n      <th>1</th>\n      <td>0.7</td>\n      <td>10.5</td>\n      <td>-17.4</td>\n      <td>12.37</td>\n      <td>949</td>\n      <td>107</td>\n      <td>0.7</td>\n      <td>0</td>\n    </tr>\n    <tr>\n      <th>2</th>\n      <td>0.7</td>\n      <td>10.4</td>\n      <td>-17.4</td>\n      <td>12.45</td>\n      <td>949</td>\n      <td>111</td>\n      <td>0.7</td>\n      <td>0</td>\n    </tr>\n    <tr>\n      <th>3</th>\n      <td>0.7</td>\n      <td>10.2</td>\n      <td>-17.3</td>\n      <td>12.74</td>\n      <td>949</td>\n      <td>115</td>\n      <td>0.7</td>\n      <td>0</td>\n    </tr>\n    <tr>\n      <th>4</th>\n      <td>0.7</td>\n      <td>10.1</td>\n      <td>-17.3</td>\n      <td>12.83</td>\n      <td>949</td>\n      <td>120</td>\n      <td>0.7</td>\n      <td>0</td>\n    </tr>\n    <tr>\n      <th>...</th>\n      <td>...</td>\n      <td>...</td>\n      <td>...</td>\n      <td>...</td>\n      <td>...</td>\n      <td>...</td>\n      <td>...</td>\n      <td>...</td>\n    </tr>\n    <tr>\n      <th>35035</th>\n      <td>0.7</td>\n      <td>11.2</td>\n      <td>-17.4</td>\n      <td>11.78</td>\n      <td>950</td>\n      <td>81</td>\n      <td>0.8</td>\n      <td>0</td>\n    </tr>\n    <tr>\n      <th>35036</th>\n      <td>0.7</td>\n      <td>11.1</td>\n      <td>-17.4</td>\n      <td>11.86</td>\n      <td>950</td>\n      <td>85</td>\n      <td>0.8</td>\n      <td>0</td>\n    </tr>\n    <tr>\n      <th>35037</th>\n      <td>0.7</td>\n      <td>11.0</td>\n      <td>-17.4</td>\n      <td>11.93</td>\n      <td>949</td>\n      <td>89</td>\n      <td>0.7</td>\n      <td>0</td>\n    </tr>\n    <tr>\n      <th>35038</th>\n      <td>0.7</td>\n      <td>10.9</td>\n      <td>-17.4</td>\n      <td>12.01</td>\n      <td>949</td>\n      <td>94</td>\n      <td>0.7</td>\n      <td>0</td>\n    </tr>\n    <tr>\n      <th>35039</th>\n      <td>0.7</td>\n      <td>10.7</td>\n      <td>-17.4</td>\n      <td>12.21</td>\n      <td>949</td>\n      <td>99</td>\n      <td>0.7</td>\n      <td>0</td>\n    </tr>\n  </tbody>\n</table>\n<p>35040 rows × 8 columns</p>\n</div>"
          },
          "metadata": {}
        }
      ]
    },
    {
      "cell_type": "code",
      "source": [
        "target = workingDf['GHI']\n",
        "target.plot()\n",
        "plt.show()"
      ],
      "metadata": {
        "execution": {
          "iopub.status.busy": "2023-05-20T15:21:41.101722Z",
          "iopub.execute_input": "2023-05-20T15:21:41.102135Z",
          "iopub.status.idle": "2023-05-20T15:21:41.372992Z",
          "shell.execute_reply.started": "2023-05-20T15:21:41.102101Z",
          "shell.execute_reply": "2023-05-20T15:21:41.372111Z"
        },
        "trusted": true,
        "id": "Ah21XSHcD1CU",
        "outputId": "a7c00afd-0713-4553-dcb9-9a245c815e95"
      },
      "execution_count": null,
      "outputs": [
        {
          "output_type": "display_data",
          "data": {
            "text/plain": "<Figure size 640x480 with 1 Axes>",
            "image/png": "[encoded data removed]"
          },
          "metadata": {}
        }
      ]
    },
    {
      "cell_type": "code",
      "source": [
        "random_day = random.randint(1, 365)\n",
        "random_day"
      ],
      "metadata": {
        "execution": {
          "iopub.status.busy": "2023-05-20T15:21:41.374350Z",
          "iopub.execute_input": "2023-05-20T15:21:41.375473Z",
          "iopub.status.idle": "2023-05-20T15:21:41.381604Z",
          "shell.execute_reply.started": "2023-05-20T15:21:41.375435Z",
          "shell.execute_reply": "2023-05-20T15:21:41.380679Z"
        },
        "trusted": true,
        "id": "h47J8dWYD1CV",
        "outputId": "36123a57-e7db-48df-b77e-36073f987e38"
      },
      "execution_count": null,
      "outputs": [
        {
          "execution_count": 7,
          "output_type": "execute_result",
          "data": {
            "text/plain": "345"
          },
          "metadata": {}
        }
      ]
    },
    {
      "cell_type": "code",
      "source": [
        "random_day = random.randint(4, 365) # starting from 4th day so that I can write \"th\" in the title :)\n",
        "target = workingDf['GHI'][(random_day-1)*96:(random_day*96)]\n",
        "target.plot()\n",
        "plt.title(str(f\"Plot of {random_day}th day\"))\n",
        "plt.show()"
      ],
      "metadata": {
        "execution": {
          "iopub.status.busy": "2023-05-20T15:21:41.382966Z",
          "iopub.execute_input": "2023-05-20T15:21:41.383528Z",
          "iopub.status.idle": "2023-05-20T15:21:41.608169Z",
          "shell.execute_reply.started": "2023-05-20T15:21:41.383495Z",
          "shell.execute_reply": "2023-05-20T15:21:41.607210Z"
        },
        "trusted": true,
        "id": "xSJ3twdoD1CV",
        "outputId": "28970c3a-e333-4780-d8ac-da81e60abe76"
      },
      "execution_count": null,
      "outputs": [
        {
          "output_type": "display_data",
          "data": {
            "text/plain": "<Figure size 640x480 with 1 Axes>",
            "image/png": "[encoded data removed]"
          },
          "metadata": {}
        }
      ]
    },
    {
      "cell_type": "code",
      "source": [
        "scaler = MinMaxScaler()\n",
        "df_normalized = pd.DataFrame(scaler.fit_transform(workingDf), columns=workingDf.columns)\n",
        "df_normalized.head(10) # this normalizes the data in between range [0, 1]"
      ],
      "metadata": {
        "execution": {
          "iopub.status.busy": "2023-05-20T15:21:41.609578Z",
          "iopub.execute_input": "2023-05-20T15:21:41.609898Z",
          "iopub.status.idle": "2023-05-20T15:21:41.634977Z",
          "shell.execute_reply.started": "2023-05-20T15:21:41.609866Z",
          "shell.execute_reply": "2023-05-20T15:21:41.633994Z"
        },
        "trusted": true,
        "id": "-RlpB3uSD1CX",
        "outputId": "f80ce845-1ae8-4d22-cc28-67458e8f157e"
      },
      "execution_count": null,
      "outputs": [
        {
          "execution_count": 9,
          "output_type": "execute_result",
          "data": {
            "text/plain": "   Precipitable Water  Temperature  Dew Point  Relative Humidity  Pressure  \\\n0            0.166667     0.291743   0.236287           0.122209  0.633333   \n1            0.166667     0.289908   0.236287           0.123159  0.633333   \n2            0.166667     0.288073   0.236287           0.124109  0.633333   \n3            0.166667     0.284404   0.238397           0.127553  0.633333   \n4            0.166667     0.282569   0.238397           0.128622  0.633333   \n5            0.166667     0.280734   0.238397           0.129572  0.633333   \n6            0.166667     0.278899   0.238397           0.130641  0.633333   \n7            0.166667     0.277064   0.240506           0.132660  0.633333   \n8            0.166667     0.275229   0.240506           0.133729  0.633333   \n9            0.166667     0.273394   0.240506           0.134679  0.633333   \n\n   Wind Direction  Wind Speed  GHI  \n0        0.286111    0.043860  0.0  \n1        0.297222    0.043860  0.0  \n2        0.308333    0.043860  0.0  \n3        0.319444    0.043860  0.0  \n4        0.333333    0.043860  0.0  \n5        0.344444    0.035088  0.0  \n6        0.355556    0.035088  0.0  \n7        0.366667    0.035088  0.0  \n8        0.377778    0.035088  0.0  \n9        0.394444    0.035088  0.0  ",
            "text/html": "<div>\n<style scoped>\n    .dataframe tbody tr th:only-of-type {\n        vertical-align: middle;\n    }\n\n    .dataframe tbody tr th {\n        vertical-align: top;\n    }\n\n    .dataframe thead th {\n        text-align: right;\n    }\n</style>\n<table border=\"1\" class=\"dataframe\">\n  <thead>\n    <tr style=\"text-align: right;\">\n      <th></th>\n      <th>Precipitable Water</th>\n      <th>Temperature</th>\n      <th>Dew Point</th>\n      <th>Relative Humidity</th>\n      <th>Pressure</th>\n      <th>Wind Direction</th>\n      <th>Wind Speed</th>\n      <th>GHI</th>\n    </tr>\n  </thead>\n  <tbody>\n    <tr>\n      <th>0</th>\n      <td>0.166667</td>\n      <td>0.291743</td>\n      <td>0.236287</td>\n      <td>0.122209</td>\n      <td>0.633333</td>\n      <td>0.286111</td>\n      <td>0.043860</td>\n      <td>0.0</td>\n    </tr>\n    <tr>\n      <th>1</th>\n      <td>0.166667</td>\n      <td>0.289908</td>\n      <td>0.236287</td>\n      <td>0.123159</td>\n      <td>0.633333</td>\n      <td>0.297222</td>\n      <td>0.043860</td>\n      <td>0.0</td>\n    </tr>\n    <tr>\n      <th>2</th>\n      <td>0.166667</td>\n      <td>0.288073</td>\n      <td>0.236287</td>\n      <td>0.124109</td>\n      <td>0.633333</td>\n      <td>0.308333</td>\n      <td>0.043860</td>\n      <td>0.0</td>\n    </tr>\n    <tr>\n      <th>3</th>\n      <td>0.166667</td>\n      <td>0.284404</td>\n      <td>0.238397</td>\n      <td>0.127553</td>\n      <td>0.633333</td>\n      <td>0.319444</td>\n      <td>0.043860</td>\n      <td>0.0</td>\n    </tr>\n    <tr>\n      <th>4</th>\n      <td>0.166667</td>\n      <td>0.282569</td>\n      <td>0.238397</td>\n      <td>0.128622</td>\n      <td>0.633333</td>\n      <td>0.333333</td>\n      <td>0.043860</td>\n      <td>0.0</td>\n    </tr>\n    <tr>\n      <th>5</th>\n      <td>0.166667</td>\n      <td>0.280734</td>\n      <td>0.238397</td>\n      <td>0.129572</td>\n      <td>0.633333</td>\n      <td>0.344444</td>\n      <td>0.035088</td>\n      <td>0.0</td>\n    </tr>\n    <tr>\n      <th>6</th>\n      <td>0.166667</td>\n      <td>0.278899</td>\n      <td>0.238397</td>\n      <td>0.130641</td>\n      <td>0.633333</td>\n      <td>0.355556</td>\n      <td>0.035088</td>\n      <td>0.0</td>\n    </tr>\n    <tr>\n      <th>7</th>\n      <td>0.166667</td>\n      <td>0.277064</td>\n      <td>0.240506</td>\n      <td>0.132660</td>\n      <td>0.633333</td>\n      <td>0.366667</td>\n      <td>0.035088</td>\n      <td>0.0</td>\n    </tr>\n    <tr>\n      <th>8</th>\n      <td>0.166667</td>\n      <td>0.275229</td>\n      <td>0.240506</td>\n      <td>0.133729</td>\n      <td>0.633333</td>\n      <td>0.377778</td>\n      <td>0.035088</td>\n      <td>0.0</td>\n    </tr>\n    <tr>\n      <th>9</th>\n      <td>0.166667</td>\n      <td>0.273394</td>\n      <td>0.240506</td>\n      <td>0.134679</td>\n      <td>0.633333</td>\n      <td>0.394444</td>\n      <td>0.035088</td>\n      <td>0.0</td>\n    </tr>\n  </tbody>\n</table>\n</div>"
          },
          "metadata": {}
        }
      ]
    },
    {
      "cell_type": "code",
      "source": [
        "class simpleRNN(nn.Module):\n",
        "    def __init__(self, features = 8, prediction = 1, window = 288, horizon = 1):\n",
        "        super(simpleRNN, self).__init__()\n",
        "\n",
        "        self.layer1 = nn.RNN(input_size = 8, hidden_size = 128, \n",
        "                             num_layers = 1, bias = True, \n",
        "                             batch_first = True, dropout = 0.2)\n",
        "        \n",
        "        self.activation1 = nn.Tanh()\n",
        "        \n",
        "        self.layer2 = nn.RNN(input_size = 128, hidden_size = 64,\n",
        "                             num_layers = 1, bias = True,\n",
        "                             batch_first = True, dropout = 0.2)\n",
        "\n",
        "        self.activation2 = nn.Tanh()\n",
        "        \n",
        "        self.layer3 = nn.RNN(input_size = 64, hidden_size = 32,\n",
        "                             num_layers = 1, bias = True,\n",
        "                             batch_first = True, dropout = 0.2)\n",
        "        \n",
        "        self.activation3 = nn.Tanh()\n",
        "        \n",
        "        self.layer4 = nn.Linear(in_features = 32, out_features = 1)\n",
        "       \n",
        "        self.activation4 = nn.GELU()\n",
        "        \n",
        "        self.drop = nn.Dropout(p=0.5)\n",
        "\n",
        "        self.layer5 = nn.Linear(in_features = window, out_features = horizon)\n",
        "\n",
        "        self.activation5 = nn.GELU()\n",
        "\n",
        "    def forward(self, x):\n",
        "\n",
        "        x = self.layer1(x)\n",
        "        x = self.activation1(x[0])\n",
        "        x = self.layer2(x)\n",
        "        x = self.activation2(x[0])\n",
        "        x = self.layer3(x)\n",
        "        x = self.activation3(x[0])\n",
        "        x = self.layer4(x)\n",
        "        x = self.activation4(x)\n",
        "        x = self.drop(x)\n",
        "        x = x.transpose(1, 2)\n",
        "        x = self.layer5(x)\n",
        "        x = self.activation5(x)\n",
        "        return x"
      ],
      "metadata": {
        "execution": {
          "iopub.status.busy": "2023-05-20T15:21:41.641251Z",
          "iopub.execute_input": "2023-05-20T15:21:41.641513Z",
          "iopub.status.idle": "2023-05-20T15:21:41.653502Z",
          "shell.execute_reply.started": "2023-05-20T15:21:41.641490Z",
          "shell.execute_reply": "2023-05-20T15:21:41.652608Z"
        },
        "trusted": true,
        "id": "kPe7D43oD1CZ"
      },
      "execution_count": null,
      "outputs": []
    },
    {
      "cell_type": "code",
      "source": [
        "per_day_readings = 4 * 24\n",
        "window_length = 3 * per_day_readings    # we want our model to look back at the data of 3 days\n",
        "horizon = 1                             # and then predict the next 15 minute reading"
      ],
      "metadata": {
        "execution": {
          "iopub.status.busy": "2023-05-20T15:21:41.654722Z",
          "iopub.execute_input": "2023-05-20T15:21:41.655117Z",
          "iopub.status.idle": "2023-05-20T15:21:41.666867Z",
          "shell.execute_reply.started": "2023-05-20T15:21:41.655084Z",
          "shell.execute_reply": "2023-05-20T15:21:41.665921Z"
        },
        "trusted": true,
        "id": "MaefXi-ID1Cb"
      },
      "execution_count": null,
      "outputs": []
    },
    {
      "cell_type": "code",
      "source": [
        "df = df_normalized.values\n",
        "stride = 1\n",
        "x = []\n",
        "y = []\n",
        "for i in tqdm(range(0, len(df) - window_length, stride)):\n",
        "    x.append(df[i:window_length+i, : ]) #GHI included but its past values only\n",
        "    y.append(df[window_length+i,-1])                  #next GHI value"
      ],
      "metadata": {
        "execution": {
          "iopub.status.busy": "2023-05-20T15:21:41.669145Z",
          "iopub.execute_input": "2023-05-20T15:21:41.669806Z",
          "iopub.status.idle": "2023-05-20T15:21:41.770788Z",
          "shell.execute_reply.started": "2023-05-20T15:21:41.669773Z",
          "shell.execute_reply": "2023-05-20T15:21:41.769938Z"
        },
        "trusted": true,
        "id": "FLSAZZr-D1Cc",
        "outputId": "21a69545-47c1-48c2-c1a4-b888b4bbb272",
        "colab": {
          "referenced_widgets": [
            "8185be47a3dc40b4864c405dd5bc5502"
          ]
        }
      },
      "execution_count": null,
      "outputs": [
        {
          "output_type": "display_data",
          "data": {
            "text/plain": "  0%|          | 0/34752 [00:00<?, ?it/s]",
            "application/vnd.jupyter.widget-view+json": {
              "version_major": 2,
              "version_minor": 0,
              "model_id": "8185be47a3dc40b4864c405dd5bc5502"
            }
          },
          "metadata": {}
        }
      ]
    },
    {
      "cell_type": "code",
      "source": [
        "x = np.array(x)\n",
        "y = np.array(y)\n",
        "print(x.shape)\n",
        "print(y.shape)"
      ],
      "metadata": {
        "execution": {
          "iopub.status.busy": "2023-05-20T15:21:41.772102Z",
          "iopub.execute_input": "2023-05-20T15:21:41.772651Z",
          "iopub.status.idle": "2023-05-20T15:21:42.031934Z",
          "shell.execute_reply.started": "2023-05-20T15:21:41.772618Z",
          "shell.execute_reply": "2023-05-20T15:21:42.030971Z"
        },
        "trusted": true,
        "id": "2syO4RQ4D1Cd",
        "outputId": "b8af92dc-d417-41f6-9a5d-ab9c1422e032"
      },
      "execution_count": null,
      "outputs": [
        {
          "name": "stdout",
          "text": "(34752, 288, 8)\n(34752,)\n",
          "output_type": "stream"
        }
      ]
    },
    {
      "cell_type": "code",
      "source": [
        "x[45]"
      ],
      "metadata": {
        "execution": {
          "iopub.status.busy": "2023-05-20T15:21:42.033560Z",
          "iopub.execute_input": "2023-05-20T15:21:42.033890Z",
          "iopub.status.idle": "2023-05-20T15:21:42.041495Z",
          "shell.execute_reply.started": "2023-05-20T15:21:42.033858Z",
          "shell.execute_reply": "2023-05-20T15:21:42.040348Z"
        },
        "trusted": true,
        "id": "N7q34O5MD1Ce",
        "outputId": "39165db8-8b8c-4344-f3b5-092466f523cf"
      },
      "execution_count": null,
      "outputs": [
        {
          "execution_count": 14,
          "output_type": "execute_result",
          "data": {
            "text/plain": "array([[0.36111111, 0.55779817, 0.50843882, ..., 0.71388889, 0.09649123,\n        0.56176736],\n       [0.36111111, 0.56330275, 0.50632911, ..., 0.73888889, 0.11403509,\n        0.56988278],\n       [0.36111111, 0.56697248, 0.50632911, ..., 0.76111111, 0.12280702,\n        0.57348963],\n       ...,\n       [0.33333333, 0.46238532, 0.66666667, ..., 0.45277778, 0.13157895,\n        0.50405771],\n       [0.33333333, 0.46788991, 0.66666667, ..., 0.66944444, 0.13157895,\n        0.52569883],\n       [0.33333333, 0.47522936, 0.66666667, ..., 0.88888889, 0.14035088,\n        0.54102795]])"
          },
          "metadata": {}
        }
      ]
    },
    {
      "cell_type": "code",
      "source": [
        "y[44]"
      ],
      "metadata": {
        "execution": {
          "iopub.status.busy": "2023-05-20T15:21:42.043234Z",
          "iopub.execute_input": "2023-05-20T15:21:42.043944Z",
          "iopub.status.idle": "2023-05-20T15:21:42.054153Z",
          "shell.execute_reply.started": "2023-05-20T15:21:42.043908Z",
          "shell.execute_reply": "2023-05-20T15:21:42.053197Z"
        },
        "trusted": true,
        "id": "pe5qAEhoD1Cf",
        "outputId": "2c56b0eb-3bc4-4829-9a4b-ef208ab5c978"
      },
      "execution_count": null,
      "outputs": [
        {
          "execution_count": 15,
          "output_type": "execute_result",
          "data": {
            "text/plain": "0.5410279531109107"
          },
          "metadata": {}
        }
      ]
    },
    {
      "cell_type": "code",
      "source": [
        "# splitting our dataset into two parts one will be training set and the other will be testing set\n",
        "# Lets store last 5 days as our test set\n",
        "x_train = x[:-per_day_readings*5]\n",
        "y_train = y[:-per_day_readings*5]\n",
        "x_test  = x[len(y) - per_day_readings*5:]\n",
        "y_test  = y[len(y) - per_day_readings*5:]\n",
        "print(x_train.shape)\n",
        "print(y_train.shape)\n",
        "print(x_test.shape)\n",
        "print(y_test.shape)"
      ],
      "metadata": {
        "execution": {
          "iopub.status.busy": "2023-05-20T15:21:42.055902Z",
          "iopub.execute_input": "2023-05-20T15:21:42.056299Z",
          "iopub.status.idle": "2023-05-20T15:21:42.064728Z",
          "shell.execute_reply.started": "2023-05-20T15:21:42.056266Z",
          "shell.execute_reply": "2023-05-20T15:21:42.063406Z"
        },
        "trusted": true,
        "id": "FDv8d7B4D1Cf",
        "outputId": "a5a17556-4def-4f25-9524-df55af6e45c1"
      },
      "execution_count": null,
      "outputs": [
        {
          "name": "stdout",
          "text": "(34272, 288, 8)\n(34272,)\n(480, 288, 8)\n(480,)\n",
          "output_type": "stream"
        }
      ]
    },
    {
      "cell_type": "code",
      "source": [
        "# finding the device of our environment\n",
        "device = 'cpu' if not torch.cuda.is_available() else 'cuda'"
      ],
      "metadata": {
        "execution": {
          "iopub.status.busy": "2023-05-20T15:21:42.066675Z",
          "iopub.execute_input": "2023-05-20T15:21:42.067271Z",
          "iopub.status.idle": "2023-05-20T15:21:42.094908Z",
          "shell.execute_reply.started": "2023-05-20T15:21:42.067239Z",
          "shell.execute_reply": "2023-05-20T15:21:42.093982Z"
        },
        "trusted": true,
        "id": "5UsEXGZ6D1Cg"
      },
      "execution_count": null,
      "outputs": []
    },
    {
      "cell_type": "code",
      "source": [
        "# converting our dataset to pytorch tensors for forwarding passing\n",
        "x_train_tensor = torch.tensor(x_train, dtype=torch.float32).to(device)\n",
        "y_train_tensor = torch.tensor(y_train, dtype=torch.float32).to(device)"
      ],
      "metadata": {
        "execution": {
          "iopub.status.busy": "2023-05-20T15:21:42.096463Z",
          "iopub.execute_input": "2023-05-20T15:21:42.096763Z",
          "iopub.status.idle": "2023-05-20T15:21:47.067041Z",
          "shell.execute_reply.started": "2023-05-20T15:21:42.096733Z",
          "shell.execute_reply": "2023-05-20T15:21:47.066089Z"
        },
        "trusted": true,
        "id": "fAb2GpkFD1Cg"
      },
      "execution_count": null,
      "outputs": []
    },
    {
      "cell_type": "code",
      "source": [
        "amp = True # If we want the model to be trained faster"
      ],
      "metadata": {
        "execution": {
          "iopub.status.busy": "2023-05-20T15:21:47.068322Z",
          "iopub.execute_input": "2023-05-20T15:21:47.069818Z",
          "iopub.status.idle": "2023-05-20T15:21:47.074089Z",
          "shell.execute_reply.started": "2023-05-20T15:21:47.069779Z",
          "shell.execute_reply": "2023-05-20T15:21:47.073100Z"
        },
        "trusted": true,
        "id": "Xw5kmNX0D1Ch"
      },
      "execution_count": null,
      "outputs": []
    },
    {
      "cell_type": "code",
      "source": [
        "# Now we towards training the model\n",
        "if amp:\n",
        "    use_amp = True\n",
        "    scaler = torch.cuda.amp.GradScaler(enabled=use_amp)"
      ],
      "metadata": {
        "execution": {
          "iopub.status.busy": "2023-05-20T15:21:47.075553Z",
          "iopub.execute_input": "2023-05-20T15:21:47.076404Z",
          "iopub.status.idle": "2023-05-20T15:21:47.087861Z",
          "shell.execute_reply.started": "2023-05-20T15:21:47.076371Z",
          "shell.execute_reply": "2023-05-20T15:21:47.086957Z"
        },
        "trusted": true,
        "id": "Hi5PV7b3D1Ch"
      },
      "execution_count": null,
      "outputs": []
    },
    {
      "cell_type": "code",
      "source": [
        "set_epochs = 50"
      ],
      "metadata": {
        "execution": {
          "iopub.status.busy": "2023-05-20T15:21:47.090698Z",
          "iopub.execute_input": "2023-05-20T15:21:47.090950Z",
          "iopub.status.idle": "2023-05-20T15:21:47.098305Z",
          "shell.execute_reply.started": "2023-05-20T15:21:47.090927Z",
          "shell.execute_reply": "2023-05-20T15:21:47.097434Z"
        },
        "trusted": true,
        "id": "tuulI_x0D1Ci"
      },
      "execution_count": null,
      "outputs": []
    },
    {
      "cell_type": "code",
      "source": [
        "# initializing the model first before training\n",
        "features = 8\n",
        "prediction = 1\n",
        "\n",
        "modelRNN = simpleRNN(features = features, prediction = prediction, \n",
        "                  window = window_length, horizon = horizon)\n",
        "\n",
        "modelRNN = modelRNN.to(device)"
      ],
      "metadata": {
        "execution": {
          "iopub.status.busy": "2023-05-20T15:21:47.099482Z",
          "iopub.execute_input": "2023-05-20T15:21:47.099862Z",
          "iopub.status.idle": "2023-05-20T15:21:48.173997Z",
          "shell.execute_reply.started": "2023-05-20T15:21:47.099830Z",
          "shell.execute_reply": "2023-05-20T15:21:48.173039Z"
        },
        "trusted": true,
        "id": "rpC0hJnaD1Ck"
      },
      "execution_count": null,
      "outputs": []
    },
    {
      "cell_type": "code",
      "source": [
        "modelRNN"
      ],
      "metadata": {
        "execution": {
          "iopub.status.busy": "2023-05-20T15:21:48.175583Z",
          "iopub.execute_input": "2023-05-20T15:21:48.175920Z",
          "iopub.status.idle": "2023-05-20T15:21:48.183619Z",
          "shell.execute_reply.started": "2023-05-20T15:21:48.175887Z",
          "shell.execute_reply": "2023-05-20T15:21:48.182194Z"
        },
        "trusted": true,
        "id": "2xJk3vQ4D1Ck",
        "outputId": "b53e1b51-5e13-4193-902c-ac7772210167"
      },
      "execution_count": null,
      "outputs": [
        {
          "execution_count": 23,
          "output_type": "execute_result",
          "data": {
            "text/plain": "simpleRNN(\n  (layer1): RNN(8, 128, batch_first=True, dropout=0.2)\n  (activation1): Tanh()\n  (layer2): RNN(128, 64, batch_first=True, dropout=0.2)\n  (activation2): Tanh()\n  (layer3): RNN(64, 32, batch_first=True, dropout=0.2)\n  (activation3): Tanh()\n  (layer4): Linear(in_features=32, out_features=1, bias=True)\n  (activation4): GELU(approximate='none')\n  (drop): Dropout(p=0.5, inplace=False)\n  (layer5): Linear(in_features=288, out_features=1, bias=True)\n  (activation5): GELU(approximate='none')\n)"
          },
          "metadata": {}
        }
      ]
    },
    {
      "cell_type": "code",
      "source": [
        "# Lets define loss function and optimizer\n",
        "criterion = MeanAbsoluteError().to(device)                         # MAE\n",
        "metricc = MeanAbsolutePercentageError().to(device)                 # MAPE metric\n",
        "optimizer = optim.AdamW(modelRNN.parameters(), lr=1e-4, weight_decay= 1e-5)               # Adam  TRY THIS : , \n",
        "\n",
        "num_epochs = set_epochs\n",
        "batch_size = 128\n",
        "\n",
        "loss_info_RNN = []\n",
        "metric_info_RNN = []\n",
        "\n",
        "for epoch in tqdm(range(num_epochs)):\n",
        "\n",
        "    running_loss = 0.0                                             # MAE Loss\n",
        "    running_metric = 0.0                                           # MAPE metric\n",
        "    \n",
        "    for i in tqdm(range(0, len(x_train_tensor), batch_size), desc=f\"Epoch {epoch+1}\"):\n",
        "\n",
        "        # Get batch of inputs and targets\n",
        "        batch_x = x_train_tensor[i:i+batch_size]\n",
        "        batch_y = y_train_tensor[i:i+batch_size]\n",
        "        \n",
        "        # Reshape input tensor\n",
        "        batch_x = batch_x.view(-1, window_length, features)\n",
        "        \n",
        "        if amp:\n",
        "\n",
        "            with torch.autocast(device_type= 'cuda', dtype=torch.float16, enabled=use_amp):\n",
        "                # Forward pass\n",
        "                outputs = modelRNN(batch_x)\n",
        "                \n",
        "                if batch_size == 1:\n",
        "                    loss = criterion(outputs.view(-1), torch.tensor([batch_y]))\n",
        "                    metric = metricc(outputs.view(-1), torch.tensor([batch_y]))\n",
        "\n",
        "                else:\n",
        "                    loss = criterion(outputs.view(-1), batch_y)\n",
        "                    metric = metricc(outputs.view(-1), batch_y)\n",
        "            \n",
        "            # Backward pass and optimization\n",
        "            scaler.scale(loss).backward()\n",
        "            scaler.step(optimizer)\n",
        "            scaler.update() \n",
        "\n",
        "        else:       \n",
        "\n",
        "            # Forward pass\n",
        "            outputs = modelRNN(batch_x)\n",
        "\n",
        "            if batch_size == 1:\n",
        "                loss = criterion(outputs.view(-1), torch.tensor([batch_y]))\n",
        "                metric = metricc(outputs.view(-1), torch.tensor([batch_y]))\n",
        "\n",
        "            else:\n",
        "                loss = criterion(outputs.view(-1), batch_y)\n",
        "                metric = metricc(outputs.view(-1), batch_y)\n",
        "\n",
        "            # Backward pass and optimize\n",
        "            loss.backward()\n",
        "            optimizer.step()\n",
        "\n",
        "        # Zero the parameter gradients\n",
        "        optimizer.zero_grad(set_to_none=True)\n",
        "\n",
        "        running_loss += loss.item()\n",
        "        running_metric += metric.item()\n",
        "\n",
        "    # Calculate epoch loss and metric\n",
        "    epoch_loss = running_loss / (len(x_train) / batch_size)\n",
        "    epoch_metric = running_metric / (len(x_train) / batch_size)\n",
        "    loss_info_RNN.append(epoch_loss)\n",
        "    metric_info_RNN.append(epoch_metric)\n",
        "    print(\"-\"*25, f\"Epoch {epoch + 1}\",\"-\"*25)\n",
        "    print(f\"Epoch {epoch+1} MAE loss: {epoch_loss:.9f}\")\n",
        "    print(f\"Epoch {epoch+1} MAPE metric: {epoch_metric:.9f}\")\n",
        "\n",
        "print(\"Training complete!\")"
      ],
      "metadata": {
        "execution": {
          "iopub.status.busy": "2023-05-20T15:21:48.185319Z",
          "iopub.execute_input": "2023-05-20T15:21:48.185692Z",
          "iopub.status.idle": "2023-05-20T15:31:17.208251Z",
          "shell.execute_reply.started": "2023-05-20T15:21:48.185660Z",
          "shell.execute_reply": "2023-05-20T15:31:17.207260Z"
        },
        "trusted": true,
        "id": "ESVvpieBD1Cl",
        "outputId": "61da026f-904b-4e0d-d194-647fb3caa971",
        "colab": {
          "referenced_widgets": [
            "25940b7e7aa240849fa5ae0fa91c584f",
            "d30c0c7b8b1943438d43bba1bbe6b47a",
            "a4cbd2a3b2804be697f3d436d9435261",
            "0cdbb622dd3e45fab30c65ab23833245",
            "5fd36fd88ee44264be4820069693ffb5",
            "5e7b963a7b444686b7c50265c64acf03",
            "65f90fe6b89e4f49aa2c095ed6deedab",
            "738d87947b3441b282ed522f446d4309",
            "1b4dec985f0149449bb39a0c1bea56a0",
            "ca9d53c751444bc1a4072e64f052780f",
            "3678392da63641c5af1a0518c154f2fc",
            "ceb974a1859a4f419fcdb3bca464a018",
            "adb6cbb7dde04491a87e52497e06b997",
            "7837f01d53314b6386bb0461dfe07e8c",
            "c0b4e37b473648c180f890f6d5dbd8ec",
            "e22510b2e6c940bdbaf1cd9ef2e0073d",
            "4df22a8c28da4e84b736f293b1447cb0",
            "79459a22d61a454485db9864e4a42761",
            "21b30878e5554a1db5b48136349216d3",
            "d601351ef62649a0b3f903652e3e653a",
            "101cf351f38f4dc09de84f3084aec4ef",
            "353b852186d2462395e0dc2bf59a0d12",
            "fc94a127a8664bfc9cf1cbdb84364277",
            "f7da513b23a74dc5a457865e03db5563",
            "869ec38a45d7481d8ad7ac53ecee2cbd",
            "42c08ed7400848779d17ffab7224cac1",
            "f2ec508e57724b53a6f2437377c4bc7a",
            "78d76f22990c4842bd3237e3c98e3751",
            "586d078fe25749df97aee6edb475311b",
            "f2c9d1522aaa4a6098ade09034e7df2d",
            "3955568e1e46415aaf24dee9fa4d10a3",
            "4011cc82279b48c98efc956dbb9cbd97",
            "05fe6fca688d4d4ea2b6541e7a9523de",
            "7cc4f4d9d95e40a79f2ef187408e34c9",
            "e3b32edce99d4c33a05935fa48c6a607",
            "3fa0e28673a2464da8a7703f5f39b4b8",
            "3a0963e58f32406994a3fc74abaf7f4a",
            "4a930a78e44241b28a73a2d3272ab92c",
            "d174ad35e38b4aadba8335ec8cbc42a9",
            "fc2a6a75ca9449b9b8b0257bca7164a0",
            "213a0a88a0744af7a19f30dad7a7f463",
            "094c6912042f4dfbbfa044875bdf9fa8",
            "3582d073d3cb4793a9a2d0212a983be0",
            "1cef9ec3471d4037ac26482463fd63a2",
            "f8970eb36ac948888c5302065e23ea6b",
            "5ed6ac5eafe34895840f2b73f48b327a",
            "c803cce891244de883b6d3bc11dc68a5",
            "d8f5aff6580b4f92aa96fbf47404c3b1",
            "be25968f127c4f98a74aa0858c2f65c4",
            "8c3a8d39e5c64559af7f2f0f52e0dd1d",
            "81b7db776baa47898a8f81ec7a839760"
          ]
        }
      },
      "execution_count": null,
      "outputs": [
        {
          "output_type": "display_data",
          "data": {
            "text/plain": "  0%|          | 0/50 [00:00<?, ?it/s]",
            "application/vnd.jupyter.widget-view+json": {
              "version_major": 2,
              "version_minor": 0,
              "model_id": "25940b7e7aa240849fa5ae0fa91c584f"
            }
          },
          "metadata": {}
        },
        {
          "output_type": "display_data",
          "data": {
            "text/plain": "Epoch 1:   0%|          | 0/268 [00:00<?, ?it/s]",
            "application/vnd.jupyter.widget-view+json": {
              "version_major": 2,
              "version_minor": 0,
              "model_id": "d30c0c7b8b1943438d43bba1bbe6b47a"
            }
          },
          "metadata": {}
        },
        {
          "name": "stdout",
          "text": "------------------------- Epoch 1 -------------------------\nEpoch 1 MAE loss: 0.124316485\nEpoch 1 MAPE metric: 24436.102492560\n",
          "output_type": "stream"
        },
        {
          "output_type": "display_data",
          "data": {
            "text/plain": "Epoch 2:   0%|          | 0/268 [00:00<?, ?it/s]",
            "application/vnd.jupyter.widget-view+json": {
              "version_major": 2,
              "version_minor": 0,
              "model_id": "a4cbd2a3b2804be697f3d436d9435261"
            }
          },
          "metadata": {}
        },
        {
          "name": "stdout",
          "text": "------------------------- Epoch 2 -------------------------\nEpoch 2 MAE loss: 0.083997705\nEpoch 2 MAPE metric: 18911.427761730\n",
          "output_type": "stream"
        },
        {
          "output_type": "display_data",
          "data": {
            "text/plain": "Epoch 3:   0%|          | 0/268 [00:00<?, ?it/s]",
            "application/vnd.jupyter.widget-view+json": {
              "version_major": 2,
              "version_minor": 0,
              "model_id": "0cdbb622dd3e45fab30c65ab23833245"
            }
          },
          "metadata": {}
        },
        {
          "name": "stdout",
          "text": "------------------------- Epoch 3 -------------------------\nEpoch 3 MAE loss: 0.072489661\nEpoch 3 MAPE metric: 15093.826168228\n",
          "output_type": "stream"
        },
        {
          "output_type": "display_data",
          "data": {
            "text/plain": "Epoch 4:   0%|          | 0/268 [00:00<?, ?it/s]",
            "application/vnd.jupyter.widget-view+json": {
              "version_major": 2,
              "version_minor": 0,
              "model_id": "5fd36fd88ee44264be4820069693ffb5"
            }
          },
          "metadata": {}
        },
        {
          "name": "stdout",
          "text": "------------------------- Epoch 4 -------------------------\nEpoch 4 MAE loss: 0.067659461\nEpoch 4 MAPE metric: 12978.085691308\n",
          "output_type": "stream"
        },
        {
          "output_type": "display_data",
          "data": {
            "text/plain": "Epoch 5:   0%|          | 0/268 [00:00<?, ?it/s]",
            "application/vnd.jupyter.widget-view+json": {
              "version_major": 2,
              "version_minor": 0,
              "model_id": "5e7b963a7b444686b7c50265c64acf03"
            }
          },
          "metadata": {}
        },
        {
          "name": "stdout",
          "text": "------------------------- Epoch 5 -------------------------\nEpoch 5 MAE loss: 0.063751648\nEpoch 5 MAPE metric: 11361.066203825\n",
          "output_type": "stream"
        },
        {
          "output_type": "display_data",
          "data": {
            "text/plain": "Epoch 6:   0%|          | 0/268 [00:00<?, ?it/s]",
            "application/vnd.jupyter.widget-view+json": {
              "version_major": 2,
              "version_minor": 0,
              "model_id": "65f90fe6b89e4f49aa2c095ed6deedab"
            }
          },
          "metadata": {}
        },
        {
          "name": "stdout",
          "text": "------------------------- Epoch 6 -------------------------\nEpoch 6 MAE loss: 0.060315409\nEpoch 6 MAPE metric: 10089.028624861\n",
          "output_type": "stream"
        },
        {
          "output_type": "display_data",
          "data": {
            "text/plain": "Epoch 7:   0%|          | 0/268 [00:00<?, ?it/s]",
            "application/vnd.jupyter.widget-view+json": {
              "version_major": 2,
              "version_minor": 0,
              "model_id": "738d87947b3441b282ed522f446d4309"
            }
          },
          "metadata": {}
        },
        {
          "name": "stdout",
          "text": "------------------------- Epoch 7 -------------------------\nEpoch 7 MAE loss: 0.057762971\nEpoch 7 MAPE metric: 8998.500789639\n",
          "output_type": "stream"
        },
        {
          "output_type": "display_data",
          "data": {
            "text/plain": "Epoch 8:   0%|          | 0/268 [00:00<?, ?it/s]",
            "application/vnd.jupyter.widget-view+json": {
              "version_major": 2,
              "version_minor": 0,
              "model_id": "1b4dec985f0149449bb39a0c1bea56a0"
            }
          },
          "metadata": {}
        },
        {
          "name": "stdout",
          "text": "------------------------- Epoch 8 -------------------------\nEpoch 8 MAE loss: 0.055684665\nEpoch 8 MAPE metric: 8147.643312143\n",
          "output_type": "stream"
        },
        {
          "output_type": "display_data",
          "data": {
            "text/plain": "Epoch 9:   0%|          | 0/268 [00:00<?, ?it/s]",
            "application/vnd.jupyter.widget-view+json": {
              "version_major": 2,
              "version_minor": 0,
              "model_id": "ca9d53c751444bc1a4072e64f052780f"
            }
          },
          "metadata": {}
        },
        {
          "name": "stdout",
          "text": "------------------------- Epoch 9 -------------------------\nEpoch 9 MAE loss: 0.053986251\nEpoch 9 MAPE metric: 7647.292892157\n",
          "output_type": "stream"
        },
        {
          "output_type": "display_data",
          "data": {
            "text/plain": "Epoch 10:   0%|          | 0/268 [00:00<?, ?it/s]",
            "application/vnd.jupyter.widget-view+json": {
              "version_major": 2,
              "version_minor": 0,
              "model_id": "3678392da63641c5af1a0518c154f2fc"
            }
          },
          "metadata": {}
        },
        {
          "name": "stdout",
          "text": "------------------------- Epoch 10 -------------------------\nEpoch 10 MAE loss: 0.053106430\nEpoch 10 MAPE metric: 7200.603542068\n",
          "output_type": "stream"
        },
        {
          "output_type": "display_data",
          "data": {
            "text/plain": "Epoch 11:   0%|          | 0/268 [00:00<?, ?it/s]",
            "application/vnd.jupyter.widget-view+json": {
              "version_major": 2,
              "version_minor": 0,
              "model_id": "ceb974a1859a4f419fcdb3bca464a018"
            }
          },
          "metadata": {}
        },
        {
          "name": "stdout",
          "text": "------------------------- Epoch 11 -------------------------\nEpoch 11 MAE loss: 0.051582981\nEpoch 11 MAPE metric: 6609.422041864\n",
          "output_type": "stream"
        },
        {
          "output_type": "display_data",
          "data": {
            "text/plain": "Epoch 12:   0%|          | 0/268 [00:00<?, ?it/s]",
            "application/vnd.jupyter.widget-view+json": {
              "version_major": 2,
              "version_minor": 0,
              "model_id": "adb6cbb7dde04491a87e52497e06b997"
            }
          },
          "metadata": {}
        },
        {
          "name": "stdout",
          "text": "------------------------- Epoch 12 -------------------------\nEpoch 12 MAE loss: 0.050440991\nEpoch 12 MAPE metric: 6169.017197895\n",
          "output_type": "stream"
        },
        {
          "output_type": "display_data",
          "data": {
            "text/plain": "Epoch 13:   0%|          | 0/268 [00:00<?, ?it/s]",
            "application/vnd.jupyter.widget-view+json": {
              "version_major": 2,
              "version_minor": 0,
              "model_id": "7837f01d53314b6386bb0461dfe07e8c"
            }
          },
          "metadata": {}
        },
        {
          "name": "stdout",
          "text": "------------------------- Epoch 13 -------------------------\nEpoch 13 MAE loss: 0.049128382\nEpoch 13 MAPE metric: 5658.434572136\n",
          "output_type": "stream"
        },
        {
          "output_type": "display_data",
          "data": {
            "text/plain": "Epoch 14:   0%|          | 0/268 [00:00<?, ?it/s]",
            "application/vnd.jupyter.widget-view+json": {
              "version_major": 2,
              "version_minor": 0,
              "model_id": "c0b4e37b473648c180f890f6d5dbd8ec"
            }
          },
          "metadata": {}
        },
        {
          "name": "stdout",
          "text": "------------------------- Epoch 14 -------------------------\nEpoch 14 MAE loss: 0.048357947\nEpoch 14 MAPE metric: 5171.221220129\n",
          "output_type": "stream"
        },
        {
          "output_type": "display_data",
          "data": {
            "text/plain": "Epoch 15:   0%|          | 0/268 [00:00<?, ?it/s]",
            "application/vnd.jupyter.widget-view+json": {
              "version_major": 2,
              "version_minor": 0,
              "model_id": "e22510b2e6c940bdbaf1cd9ef2e0073d"
            }
          },
          "metadata": {}
        },
        {
          "name": "stdout",
          "text": "------------------------- Epoch 15 -------------------------\nEpoch 15 MAE loss: 0.047297690\nEpoch 15 MAPE metric: 4835.404199766\n",
          "output_type": "stream"
        },
        {
          "output_type": "display_data",
          "data": {
            "text/plain": "Epoch 16:   0%|          | 0/268 [00:00<?, ?it/s]",
            "application/vnd.jupyter.widget-view+json": {
              "version_major": 2,
              "version_minor": 0,
              "model_id": "4df22a8c28da4e84b736f293b1447cb0"
            }
          },
          "metadata": {}
        },
        {
          "name": "stdout",
          "text": "------------------------- Epoch 16 -------------------------\nEpoch 16 MAE loss: 0.045887543\nEpoch 16 MAPE metric: 4420.904563127\n",
          "output_type": "stream"
        },
        {
          "output_type": "display_data",
          "data": {
            "text/plain": "Epoch 17:   0%|          | 0/268 [00:00<?, ?it/s]",
            "application/vnd.jupyter.widget-view+json": {
              "version_major": 2,
              "version_minor": 0,
              "model_id": "79459a22d61a454485db9864e4a42761"
            }
          },
          "metadata": {}
        },
        {
          "name": "stdout",
          "text": "------------------------- Epoch 17 -------------------------\nEpoch 17 MAE loss: 0.045192229\nEpoch 17 MAPE metric: 4076.134577789\n",
          "output_type": "stream"
        },
        {
          "output_type": "display_data",
          "data": {
            "text/plain": "Epoch 18:   0%|          | 0/268 [00:00<?, ?it/s]",
            "application/vnd.jupyter.widget-view+json": {
              "version_major": 2,
              "version_minor": 0,
              "model_id": "21b30878e5554a1db5b48136349216d3"
            }
          },
          "metadata": {}
        },
        {
          "name": "stdout",
          "text": "------------------------- Epoch 18 -------------------------\nEpoch 18 MAE loss: 0.044615765\nEpoch 18 MAPE metric: 4116.720314688\n",
          "output_type": "stream"
        },
        {
          "output_type": "display_data",
          "data": {
            "text/plain": "Epoch 19:   0%|          | 0/268 [00:00<?, ?it/s]",
            "application/vnd.jupyter.widget-view+json": {
              "version_major": 2,
              "version_minor": 0,
              "model_id": "d601351ef62649a0b3f903652e3e653a"
            }
          },
          "metadata": {}
        },
        {
          "name": "stdout",
          "text": "------------------------- Epoch 19 -------------------------\nEpoch 19 MAE loss: 0.044620667\nEpoch 19 MAPE metric: 4096.948394006\n",
          "output_type": "stream"
        },
        {
          "output_type": "display_data",
          "data": {
            "text/plain": "Epoch 20:   0%|          | 0/268 [00:00<?, ?it/s]",
            "application/vnd.jupyter.widget-view+json": {
              "version_major": 2,
              "version_minor": 0,
              "model_id": "101cf351f38f4dc09de84f3084aec4ef"
            }
          },
          "metadata": {}
        },
        {
          "name": "stdout",
          "text": "------------------------- Epoch 20 -------------------------\nEpoch 20 MAE loss: 0.044538742\nEpoch 20 MAPE metric: 4115.234301142\n",
          "output_type": "stream"
        },
        {
          "output_type": "display_data",
          "data": {
            "text/plain": "Epoch 21:   0%|          | 0/268 [00:00<?, ?it/s]",
            "application/vnd.jupyter.widget-view+json": {
              "version_major": 2,
              "version_minor": 0,
              "model_id": "353b852186d2462395e0dc2bf59a0d12"
            }
          },
          "metadata": {}
        },
        {
          "name": "stdout",
          "text": "------------------------- Epoch 21 -------------------------\nEpoch 21 MAE loss: 0.043595036\nEpoch 21 MAPE metric: 4031.707370904\n",
          "output_type": "stream"
        },
        {
          "output_type": "display_data",
          "data": {
            "text/plain": "Epoch 22:   0%|          | 0/268 [00:00<?, ?it/s]",
            "application/vnd.jupyter.widget-view+json": {
              "version_major": 2,
              "version_minor": 0,
              "model_id": "fc94a127a8664bfc9cf1cbdb84364277"
            }
          },
          "metadata": {}
        },
        {
          "name": "stdout",
          "text": "------------------------- Epoch 22 -------------------------\nEpoch 22 MAE loss: 0.043501455\nEpoch 22 MAPE metric: 4084.826631890\n",
          "output_type": "stream"
        },
        {
          "output_type": "display_data",
          "data": {
            "text/plain": "Epoch 23:   0%|          | 0/268 [00:00<?, ?it/s]",
            "application/vnd.jupyter.widget-view+json": {
              "version_major": 2,
              "version_minor": 0,
              "model_id": "f7da513b23a74dc5a457865e03db5563"
            }
          },
          "metadata": {}
        },
        {
          "name": "stdout",
          "text": "------------------------- Epoch 23 -------------------------\nEpoch 23 MAE loss: 0.043354391\nEpoch 23 MAPE metric: 4039.616001674\n",
          "output_type": "stream"
        },
        {
          "output_type": "display_data",
          "data": {
            "text/plain": "Epoch 24:   0%|          | 0/268 [00:00<?, ?it/s]",
            "application/vnd.jupyter.widget-view+json": {
              "version_major": 2,
              "version_minor": 0,
              "model_id": "869ec38a45d7481d8ad7ac53ecee2cbd"
            }
          },
          "metadata": {}
        },
        {
          "name": "stdout",
          "text": "------------------------- Epoch 24 -------------------------\nEpoch 24 MAE loss: 0.043565375\nEpoch 24 MAPE metric: 4174.325386795\n",
          "output_type": "stream"
        },
        {
          "output_type": "display_data",
          "data": {
            "text/plain": "Epoch 25:   0%|          | 0/268 [00:00<?, ?it/s]",
            "application/vnd.jupyter.widget-view+json": {
              "version_major": 2,
              "version_minor": 0,
              "model_id": "42c08ed7400848779d17ffab7224cac1"
            }
          },
          "metadata": {}
        },
        {
          "name": "stdout",
          "text": "------------------------- Epoch 25 -------------------------\nEpoch 25 MAE loss: 0.042882311\nEpoch 25 MAPE metric: 4102.069075612\n",
          "output_type": "stream"
        },
        {
          "output_type": "display_data",
          "data": {
            "text/plain": "Epoch 26:   0%|          | 0/268 [00:00<?, ?it/s]",
            "application/vnd.jupyter.widget-view+json": {
              "version_major": 2,
              "version_minor": 0,
              "model_id": "f2ec508e57724b53a6f2437377c4bc7a"
            }
          },
          "metadata": {}
        },
        {
          "name": "stdout",
          "text": "------------------------- Epoch 26 -------------------------\nEpoch 26 MAE loss: 0.042943494\nEpoch 26 MAPE metric: 4149.583937416\n",
          "output_type": "stream"
        },
        {
          "output_type": "display_data",
          "data": {
            "text/plain": "Epoch 27:   0%|          | 0/268 [00:00<?, ?it/s]",
            "application/vnd.jupyter.widget-view+json": {
              "version_major": 2,
              "version_minor": 0,
              "model_id": "78d76f22990c4842bd3237e3c98e3751"
            }
          },
          "metadata": {}
        },
        {
          "name": "stdout",
          "text": "------------------------- Epoch 27 -------------------------\nEpoch 27 MAE loss: 0.043087047\nEpoch 27 MAPE metric: 4243.414993015\n",
          "output_type": "stream"
        },
        {
          "output_type": "display_data",
          "data": {
            "text/plain": "Epoch 28:   0%|          | 0/268 [00:00<?, ?it/s]",
            "application/vnd.jupyter.widget-view+json": {
              "version_major": 2,
              "version_minor": 0,
              "model_id": "586d078fe25749df97aee6edb475311b"
            }
          },
          "metadata": {}
        },
        {
          "name": "stdout",
          "text": "------------------------- Epoch 28 -------------------------\nEpoch 28 MAE loss: 0.042945384\nEpoch 28 MAPE metric: 4109.370765950\n",
          "output_type": "stream"
        },
        {
          "output_type": "display_data",
          "data": {
            "text/plain": "Epoch 29:   0%|          | 0/268 [00:00<?, ?it/s]",
            "application/vnd.jupyter.widget-view+json": {
              "version_major": 2,
              "version_minor": 0,
              "model_id": "f2c9d1522aaa4a6098ade09034e7df2d"
            }
          },
          "metadata": {}
        },
        {
          "name": "stdout",
          "text": "------------------------- Epoch 29 -------------------------\nEpoch 29 MAE loss: 0.042606484\nEpoch 29 MAPE metric: 4280.728746316\n",
          "output_type": "stream"
        },
        {
          "output_type": "display_data",
          "data": {
            "text/plain": "Epoch 30:   0%|          | 0/268 [00:00<?, ?it/s]",
            "application/vnd.jupyter.widget-view+json": {
              "version_major": 2,
              "version_minor": 0,
              "model_id": "3955568e1e46415aaf24dee9fa4d10a3"
            }
          },
          "metadata": {}
        },
        {
          "name": "stdout",
          "text": "------------------------- Epoch 30 -------------------------\nEpoch 30 MAE loss: 0.042269829\nEpoch 30 MAPE metric: 4278.794079350\n",
          "output_type": "stream"
        },
        {
          "output_type": "display_data",
          "data": {
            "text/plain": "Epoch 31:   0%|          | 0/268 [00:00<?, ?it/s]",
            "application/vnd.jupyter.widget-view+json": {
              "version_major": 2,
              "version_minor": 0,
              "model_id": "4011cc82279b48c98efc956dbb9cbd97"
            }
          },
          "metadata": {}
        },
        {
          "name": "stdout",
          "text": "------------------------- Epoch 31 -------------------------\nEpoch 31 MAE loss: 0.042266370\nEpoch 31 MAPE metric: 4229.302139866\n",
          "output_type": "stream"
        },
        {
          "output_type": "display_data",
          "data": {
            "text/plain": "Epoch 32:   0%|          | 0/268 [00:00<?, ?it/s]",
            "application/vnd.jupyter.widget-view+json": {
              "version_major": 2,
              "version_minor": 0,
              "model_id": "05fe6fca688d4d4ea2b6541e7a9523de"
            }
          },
          "metadata": {}
        },
        {
          "name": "stdout",
          "text": "------------------------- Epoch 32 -------------------------\nEpoch 32 MAE loss: 0.042525777\nEpoch 32 MAPE metric: 4360.669150473\n",
          "output_type": "stream"
        },
        {
          "output_type": "display_data",
          "data": {
            "text/plain": "Epoch 33:   0%|          | 0/268 [00:00<?, ?it/s]",
            "application/vnd.jupyter.widget-view+json": {
              "version_major": 2,
              "version_minor": 0,
              "model_id": "7cc4f4d9d95e40a79f2ef187408e34c9"
            }
          },
          "metadata": {}
        },
        {
          "name": "stdout",
          "text": "------------------------- Epoch 33 -------------------------\nEpoch 33 MAE loss: 0.042277683\nEpoch 33 MAPE metric: 4290.577435206\n",
          "output_type": "stream"
        },
        {
          "output_type": "display_data",
          "data": {
            "text/plain": "Epoch 34:   0%|          | 0/268 [00:00<?, ?it/s]",
            "application/vnd.jupyter.widget-view+json": {
              "version_major": 2,
              "version_minor": 0,
              "model_id": "e3b32edce99d4c33a05935fa48c6a607"
            }
          },
          "metadata": {}
        },
        {
          "name": "stdout",
          "text": "------------------------- Epoch 34 -------------------------\nEpoch 34 MAE loss: 0.041608208\nEpoch 34 MAPE metric: 4342.395911750\n",
          "output_type": "stream"
        },
        {
          "output_type": "display_data",
          "data": {
            "text/plain": "Epoch 35:   0%|          | 0/268 [00:00<?, ?it/s]",
            "application/vnd.jupyter.widget-view+json": {
              "version_major": 2,
              "version_minor": 0,
              "model_id": "3fa0e28673a2464da8a7703f5f39b4b8"
            }
          },
          "metadata": {}
        },
        {
          "name": "stdout",
          "text": "------------------------- Epoch 35 -------------------------\nEpoch 35 MAE loss: 0.042006056\nEpoch 35 MAPE metric: 4421.497967546\n",
          "output_type": "stream"
        },
        {
          "output_type": "display_data",
          "data": {
            "text/plain": "Epoch 36:   0%|          | 0/268 [00:00<?, ?it/s]",
            "application/vnd.jupyter.widget-view+json": {
              "version_major": 2,
              "version_minor": 0,
              "model_id": "3a0963e58f32406994a3fc74abaf7f4a"
            }
          },
          "metadata": {}
        },
        {
          "name": "stdout",
          "text": "------------------------- Epoch 36 -------------------------\nEpoch 36 MAE loss: 0.041665887\nEpoch 36 MAPE metric: 4411.871556044\n",
          "output_type": "stream"
        },
        {
          "output_type": "display_data",
          "data": {
            "text/plain": "Epoch 37:   0%|          | 0/268 [00:00<?, ?it/s]",
            "application/vnd.jupyter.widget-view+json": {
              "version_major": 2,
              "version_minor": 0,
              "model_id": "4a930a78e44241b28a73a2d3272ab92c"
            }
          },
          "metadata": {}
        },
        {
          "name": "stdout",
          "text": "------------------------- Epoch 37 -------------------------\nEpoch 37 MAE loss: 0.041388373\nEpoch 37 MAPE metric: 4425.465135077\n",
          "output_type": "stream"
        },
        {
          "output_type": "display_data",
          "data": {
            "text/plain": "Epoch 38:   0%|          | 0/268 [00:00<?, ?it/s]",
            "application/vnd.jupyter.widget-view+json": {
              "version_major": 2,
              "version_minor": 0,
              "model_id": "d174ad35e38b4aadba8335ec8cbc42a9"
            }
          },
          "metadata": {}
        },
        {
          "name": "stdout",
          "text": "------------------------- Epoch 38 -------------------------\nEpoch 38 MAE loss: 0.041485903\nEpoch 38 MAPE metric: 4437.659808390\n",
          "output_type": "stream"
        },
        {
          "output_type": "display_data",
          "data": {
            "text/plain": "Epoch 39:   0%|          | 0/268 [00:00<?, ?it/s]",
            "application/vnd.jupyter.widget-view+json": {
              "version_major": 2,
              "version_minor": 0,
              "model_id": "fc2a6a75ca9449b9b8b0257bca7164a0"
            }
          },
          "metadata": {}
        },
        {
          "name": "stdout",
          "text": "------------------------- Epoch 39 -------------------------\nEpoch 39 MAE loss: 0.041612772\nEpoch 39 MAPE metric: 4488.495533891\n",
          "output_type": "stream"
        },
        {
          "output_type": "display_data",
          "data": {
            "text/plain": "Epoch 40:   0%|          | 0/268 [00:00<?, ?it/s]",
            "application/vnd.jupyter.widget-view+json": {
              "version_major": 2,
              "version_minor": 0,
              "model_id": "213a0a88a0744af7a19f30dad7a7f463"
            }
          },
          "metadata": {}
        },
        {
          "name": "stdout",
          "text": "------------------------- Epoch 40 -------------------------\nEpoch 40 MAE loss: 0.041555419\nEpoch 40 MAPE metric: 4547.405175417\n",
          "output_type": "stream"
        },
        {
          "output_type": "display_data",
          "data": {
            "text/plain": "Epoch 41:   0%|          | 0/268 [00:00<?, ?it/s]",
            "application/vnd.jupyter.widget-view+json": {
              "version_major": 2,
              "version_minor": 0,
              "model_id": "094c6912042f4dfbbfa044875bdf9fa8"
            }
          },
          "metadata": {}
        },
        {
          "name": "stdout",
          "text": "------------------------- Epoch 41 -------------------------\nEpoch 41 MAE loss: 0.041303258\nEpoch 41 MAPE metric: 4561.354624858\n",
          "output_type": "stream"
        },
        {
          "output_type": "display_data",
          "data": {
            "text/plain": "Epoch 42:   0%|          | 0/268 [00:00<?, ?it/s]",
            "application/vnd.jupyter.widget-view+json": {
              "version_major": 2,
              "version_minor": 0,
              "model_id": "3582d073d3cb4793a9a2d0212a983be0"
            }
          },
          "metadata": {}
        },
        {
          "name": "stdout",
          "text": "------------------------- Epoch 42 -------------------------\nEpoch 42 MAE loss: 0.040792060\nEpoch 42 MAPE metric: 4597.999927054\n",
          "output_type": "stream"
        },
        {
          "output_type": "display_data",
          "data": {
            "text/plain": "Epoch 43:   0%|          | 0/268 [00:00<?, ?it/s]",
            "application/vnd.jupyter.widget-view+json": {
              "version_major": 2,
              "version_minor": 0,
              "model_id": "1cef9ec3471d4037ac26482463fd63a2"
            }
          },
          "metadata": {}
        },
        {
          "name": "stdout",
          "text": "------------------------- Epoch 43 -------------------------\nEpoch 43 MAE loss: 0.041970802\nEpoch 43 MAPE metric: 4858.935404631\n",
          "output_type": "stream"
        },
        {
          "output_type": "display_data",
          "data": {
            "text/plain": "Epoch 44:   0%|          | 0/268 [00:00<?, ?it/s]",
            "application/vnd.jupyter.widget-view+json": {
              "version_major": 2,
              "version_minor": 0,
              "model_id": "f8970eb36ac948888c5302065e23ea6b"
            }
          },
          "metadata": {}
        },
        {
          "name": "stdout",
          "text": "------------------------- Epoch 44 -------------------------\nEpoch 44 MAE loss: 0.040547934\nEpoch 44 MAPE metric: 4678.827146614\n",
          "output_type": "stream"
        },
        {
          "output_type": "display_data",
          "data": {
            "text/plain": "Epoch 45:   0%|          | 0/268 [00:00<?, ?it/s]",
            "application/vnd.jupyter.widget-view+json": {
              "version_major": 2,
              "version_minor": 0,
              "model_id": "5ed6ac5eafe34895840f2b73f48b327a"
            }
          },
          "metadata": {}
        },
        {
          "name": "stdout",
          "text": "------------------------- Epoch 45 -------------------------\nEpoch 45 MAE loss: 0.041043878\nEpoch 45 MAPE metric: 4828.935431073\n",
          "output_type": "stream"
        },
        {
          "output_type": "display_data",
          "data": {
            "text/plain": "Epoch 46:   0%|          | 0/268 [00:00<?, ?it/s]",
            "application/vnd.jupyter.widget-view+json": {
              "version_major": 2,
              "version_minor": 0,
              "model_id": "c803cce891244de883b6d3bc11dc68a5"
            }
          },
          "metadata": {}
        },
        {
          "name": "stdout",
          "text": "------------------------- Epoch 46 -------------------------\nEpoch 46 MAE loss: 0.040556408\nEpoch 46 MAPE metric: 4716.936694860\n",
          "output_type": "stream"
        },
        {
          "output_type": "display_data",
          "data": {
            "text/plain": "Epoch 47:   0%|          | 0/268 [00:00<?, ?it/s]",
            "application/vnd.jupyter.widget-view+json": {
              "version_major": 2,
              "version_minor": 0,
              "model_id": "d8f5aff6580b4f92aa96fbf47404c3b1"
            }
          },
          "metadata": {}
        },
        {
          "name": "stdout",
          "text": "------------------------- Epoch 47 -------------------------\nEpoch 47 MAE loss: 0.040779434\nEpoch 47 MAPE metric: 4731.547737585\n",
          "output_type": "stream"
        },
        {
          "output_type": "display_data",
          "data": {
            "text/plain": "Epoch 48:   0%|          | 0/268 [00:00<?, ?it/s]",
            "application/vnd.jupyter.widget-view+json": {
              "version_major": 2,
              "version_minor": 0,
              "model_id": "be25968f127c4f98a74aa0858c2f65c4"
            }
          },
          "metadata": {}
        },
        {
          "name": "stdout",
          "text": "------------------------- Epoch 48 -------------------------\nEpoch 48 MAE loss: 0.041057594\nEpoch 48 MAPE metric: 4831.195086368\n",
          "output_type": "stream"
        },
        {
          "output_type": "display_data",
          "data": {
            "text/plain": "Epoch 49:   0%|          | 0/268 [00:00<?, ?it/s]",
            "application/vnd.jupyter.widget-view+json": {
              "version_major": 2,
              "version_minor": 0,
              "model_id": "8c3a8d39e5c64559af7f2f0f52e0dd1d"
            }
          },
          "metadata": {}
        },
        {
          "name": "stdout",
          "text": "------------------------- Epoch 49 -------------------------\nEpoch 49 MAE loss: 0.040686772\nEpoch 49 MAPE metric: 4800.413799895\n",
          "output_type": "stream"
        },
        {
          "output_type": "display_data",
          "data": {
            "text/plain": "Epoch 50:   0%|          | 0/268 [00:00<?, ?it/s]",
            "application/vnd.jupyter.widget-view+json": {
              "version_major": 2,
              "version_minor": 0,
              "model_id": "81b7db776baa47898a8f81ec7a839760"
            }
          },
          "metadata": {}
        },
        {
          "name": "stdout",
          "text": "------------------------- Epoch 50 -------------------------\nEpoch 50 MAE loss: 0.040894447\nEpoch 50 MAPE metric: 4870.414960190\nTraining complete!\n",
          "output_type": "stream"
        }
      ]
    },
    {
      "cell_type": "code",
      "source": [
        "# Plot the history of loss\n",
        "plt.plot(range(num_epochs), loss_info_RNN)\n",
        "plt.title('Loss(MAE) history')\n",
        "plt.xlabel('Epoch')\n",
        "plt.ylabel('Loss')\n",
        "plt.show()\n",
        "\n",
        "# Plot the history of metric result\n",
        "plt.plot(range(num_epochs), metric_info_RNN)\n",
        "plt.title('Metric(MAPE) result history')\n",
        "plt.xlabel('Epoch')\n",
        "plt.ylabel('Metric result')\n",
        "plt.show()"
      ],
      "metadata": {
        "execution": {
          "iopub.status.busy": "2023-05-20T15:31:17.210030Z",
          "iopub.execute_input": "2023-05-20T15:31:17.210711Z",
          "iopub.status.idle": "2023-05-20T15:31:17.684988Z",
          "shell.execute_reply.started": "2023-05-20T15:31:17.210673Z",
          "shell.execute_reply": "2023-05-20T15:31:17.684107Z"
        },
        "trusted": true,
        "id": "f_H8tWImD1Cm",
        "outputId": "43d1aab9-4e2f-4ea3-ef5f-079b7679c32c"
      },
      "execution_count": null,
      "outputs": [
        {
          "output_type": "display_data",
          "data": {
            "text/plain": "<Figure size 640x480 with 1 Axes>",
            "image/png": "[encoded data removed]"
          },
          "metadata": {}
        },
        {
          "output_type": "display_data",
          "data": {
            "text/plain": "<Figure size 640x480 with 1 Axes>",
            "image/png": "[encoded data removed]"
          },
          "metadata": {}
        }
      ]
    },
    {
      "cell_type": "code",
      "source": [
        "# Testing model's performance on our dataset\n",
        "x_test_tensor = torch.tensor(x_test, dtype=torch.float32).to(device)\n",
        "y_test_tensor = torch.tensor(y_test, dtype=torch.float32).to(device)"
      ],
      "metadata": {
        "execution": {
          "iopub.status.busy": "2023-05-20T15:32:02.747962Z",
          "iopub.execute_input": "2023-05-20T15:32:02.748359Z",
          "iopub.status.idle": "2023-05-20T15:32:02.757407Z",
          "shell.execute_reply.started": "2023-05-20T15:32:02.748325Z",
          "shell.execute_reply": "2023-05-20T15:32:02.756383Z"
        },
        "trusted": true,
        "id": "Rmti6ix0D1Cn"
      },
      "execution_count": null,
      "outputs": []
    },
    {
      "cell_type": "code",
      "source": [
        "running_loss = 0.0                                             # MAE Loss\n",
        "running_metric = 0.0                                           # MAPE metric\n",
        "\n",
        "batch_size = 1\n",
        "modPred_RNN = []\n",
        "GroundTruth = []\n",
        "for i in tqdm(range(0, len(x_test_tensor), batch_size), desc=f\"Train set inference ...\"):\n",
        "  \n",
        "        # Get batch of inputs and targets\n",
        "        batch_x = x_test_tensor[i:i+batch_size]\n",
        "        batch_y = y_test_tensor[i:i+batch_size]\n",
        "        \n",
        "        # Reshape input tensor\n",
        "        batch_x = batch_x.view(-1, window_length, features)\n",
        "\n",
        "        # Forward pass\n",
        "        with torch.inference_mode():\n",
        "            modelRNN.eval()\n",
        "            outputs = modelRNN(batch_x)\n",
        "\n",
        "        if batch_size == 1:\n",
        "            loss = criterion(outputs.view(-1).to(outputs.device), batch_y.to(outputs.device))\n",
        "            metric = metricc(outputs.view(-1).to(outputs.device), batch_y.to(outputs.device))\n",
        "            if outputs.view(-1).cpu().detach() < 0:\n",
        "                modPred_RNN.append(0)\n",
        "            else: \n",
        "                modPred_RNN.append(outputs.view(-1).cpu().detach())\n",
        "            GroundTruth.append(torch.tensor([batch_y]).cpu().detach())\n",
        "        \n",
        "        else:\n",
        "            loss = criterion(outputs.view(-1), batch_y)\n",
        "            metric = metricc(outputs.view(-1), batch_y)\n",
        "            if outputs.view(-1).cpu().detach() < 0:\n",
        "                modPred_RNN.append(0)\n",
        "            else: \n",
        "                modPred_RNN.append(outputs.view(-1).cpu().detach())\n",
        "            GroundTruth.append(batch_y.cpu().detach())\n",
        "          \n",
        "        running_loss += loss.item()\n",
        "        running_metric += metric.item()\n",
        "\n",
        "test_loss = running_loss / (len(x_train) / batch_size)\n",
        "test_metric = running_metric / (len(x_train) / batch_size)\n",
        "print(\"-\"*25, \"TEST LOSS\", \"-\"*25)\n",
        "print(f\"Test MAE loss: {test_loss:.9f}\")\n",
        "print(f\"Test MAPE metric: {test_metric:.9f}\")"
      ],
      "metadata": {
        "execution": {
          "iopub.status.busy": "2023-05-20T15:32:04.459340Z",
          "iopub.execute_input": "2023-05-20T15:32:04.459720Z",
          "iopub.status.idle": "2023-05-20T15:32:09.392768Z",
          "shell.execute_reply.started": "2023-05-20T15:32:04.459689Z",
          "shell.execute_reply": "2023-05-20T15:32:09.391724Z"
        },
        "trusted": true,
        "id": "mxytz2UyD1Cn",
        "outputId": "38ccc154-6ae5-4b3c-b637-97990ce0800f",
        "colab": {
          "referenced_widgets": [
            "babc6e6013a04a16abc68e6c3cb8ba20"
          ]
        }
      },
      "execution_count": null,
      "outputs": [
        {
          "output_type": "display_data",
          "data": {
            "text/plain": "Train set inference ...:   0%|          | 0/480 [00:00<?, ?it/s]",
            "application/vnd.jupyter.widget-view+json": {
              "version_major": 2,
              "version_minor": 0,
              "model_id": "babc6e6013a04a16abc68e6c3cb8ba20"
            }
          },
          "metadata": {}
        },
        {
          "name": "stdout",
          "text": "------------------------- TEST LOSS -------------------------\nTest MAE loss: 0.000463908\nTest MAPE metric: 51.428896057\n",
          "output_type": "stream"
        }
      ]
    },
    {
      "cell_type": "code",
      "source": [
        "plt.plot(modPred_RNN)\n",
        "plt.plot(GroundTruth)\n",
        "plt.title('Test Dataset Prediction vs Actual data plot')\n",
        "plt.legend(['predicted', 'actual'])\n",
        "plt.show()"
      ],
      "metadata": {
        "execution": {
          "iopub.status.busy": "2023-05-20T15:32:09.394676Z",
          "iopub.execute_input": "2023-05-20T15:32:09.395291Z",
          "iopub.status.idle": "2023-05-20T15:32:09.655092Z",
          "shell.execute_reply.started": "2023-05-20T15:32:09.395253Z",
          "shell.execute_reply": "2023-05-20T15:32:09.654171Z"
        },
        "trusted": true,
        "id": "5Wvhu_-nD1Co",
        "outputId": "222b0274-4b46-42c3-8c4f-a2720a0ed114"
      },
      "execution_count": null,
      "outputs": [
        {
          "output_type": "display_data",
          "data": {
            "text/plain": "<Figure size 640x480 with 1 Axes>",
            "image/png": "[encoded data removed]"
          },
          "metadata": {}
        }
      ]
    }
  ]
}